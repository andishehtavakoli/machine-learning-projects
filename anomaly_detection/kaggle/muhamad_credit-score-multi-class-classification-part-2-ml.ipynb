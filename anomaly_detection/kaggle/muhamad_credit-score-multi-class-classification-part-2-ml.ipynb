{
 "cells": [
  {
   "cell_type": "markdown",
   "metadata": {
    "_cell_guid": "f332e7e9-ad0c-4e58-a944-5e67659a683b",
    "_uuid": "52b8c013-70b8-4847-968d-e4c04976bfb1"
   },
   "source": [
    "<div style=\"align: center;\">\n",
    "    <br>\n",
    "    <img src=\"https://storage.googleapis.com/kaggle-datasets-images/2289007/3846912/ad5e128929f5ac26133b67a6110de7c0/dataset-cover.jpg?\" style=\"display:block; margin:auto; width:75%; height:350px;\">\n",
    "</div><br><br> \n",
    "\n",
    "<div style=\"letter-spacing:normal; opacity:1.;\">\n",
    "<!--   https://xkcd.com/color/rgb/   -->\n",
    "  <p style=\"text-align:center; background-color: lightsalmon; color: Jaguar; border-radius:10px; font-family:monospace; \n",
    "            line-height:1.4; font-size:32px; font-weight:bold; text-transform: uppercase; padding: 9px;\">\n",
    "            <strong>Finance Company Credit-Related Information</strong></p>  \n",
    "  \n",
    "  <p style=\"text-align:center; background-color:romance; color: Jaguar; border-radius:10px; font-family:monospace; \n",
    "            line-height:1.0; font-size:28px; font-weight:normal; text-transform: capitalize; padding: 5px;\"\n",
    "     >Machine Learning Module: Part 2: Credit Score Multi-Class Classification<br>Models: Logistic Regression, Random Forest, XGBoost</p>    \n",
    "</div>"
   ]
  },
  {
   "cell_type": "markdown",
   "metadata": {},
   "source": [
    "**About Dataset**\n",
    "\n",
    "**Problem Statement**\n",
    "\n",
    "You are working as a data scientist in a global finance company. Over the years, the company has collected basic bank details and gathered a lot of credit-related information. The management wants to build an intelligent system to segregate the people into credit score brackets to reduce the manual efforts.\n",
    "\n",
    "**Task**\n",
    "\n",
    "Given a person’s credit-related information, build a machine learning model that can classify the credit score.\n",
    "\n",
    "<h4>Table of Contents</h4>\n",
    "\n",
    "\n",
    "01. Import Libraries\n",
    "02. Reading Clean the Data from File\n",
    "03. Multi-class Classification Data Pre-Processing\n",
    "    01. Implement Logistic Regression Model\n",
    "    02. Implement Random Forest Classifier Model\n",
    "    03. Implement Xgboost Classifier Model\n",
    "04. Future Importance XGBoost \n",
    "05. Final Model\n",
    "\n",
    "\n",
    "## For Detailed EDA: [credit-score-classification-data-cleaning-project](https://www.kaggle.com/code/clkmuhammed/credit-score-classification-data-cleaning-project)\n",
    "\n",
    "## Clean Dataset: [Credit score classification](https://www.kaggle.com/datasets/clkmuhammed/creditscoreclassification)\n",
    "## Dataset      : [Credit score classification](https://www.kaggle.com/datasets/parisrohan/credit-score-classification)"
   ]
  },
  {
   "cell_type": "markdown",
   "metadata": {
    "_cell_guid": "a10a7ab7-6760-4caa-8779-a3c2148e775d",
    "_uuid": "aad9ae8c-30fa-45ca-8ca3-0f3eab808dc1"
   },
   "source": [
    "# 01. Import Libraries "
   ]
  },
  {
   "cell_type": "code",
   "execution_count": 46,
   "metadata": {
    "execution": {
     "iopub.execute_input": "2023-05-09T17:00:43.771239Z",
     "iopub.status.busy": "2023-05-09T17:00:43.770734Z",
     "iopub.status.idle": "2023-05-09T17:00:44.041631Z",
     "shell.execute_reply": "2023-05-09T17:00:44.040419Z",
     "shell.execute_reply.started": "2023-05-09T17:00:43.771193Z"
    }
   },
   "outputs": [
    {
     "data": {
      "text/plain": [
       "710"
      ]
     },
     "execution_count": 46,
     "metadata": {},
     "output_type": "execute_result"
    }
   ],
   "source": [
    "import numpy as np\n",
    "import pandas as pd\n",
    "import matplotlib as mpl\n",
    "import matplotlib.pyplot as plt\n",
    "import seaborn as sns\n",
    "import scipy.stats as stats\n",
    "\n",
    "# The style parameters control properties like the color of the background and whether a grid is enabled by default.\n",
    "sns.set_style(\"whitegrid\", {'axes.grid' : False})\n",
    "# sns.set_style(\"whitegrid\")\n",
    "\n",
    "# Environment settings: \n",
    "pd.set_option('display.float_format', lambda x: f'{x:.3f}')\n",
    "\n",
    "# import warnings\n",
    "# # Suppressing a warning \n",
    "# warnings.filterwarnings(\"ignore\") \n",
    "# warnings.warn(\"this will not show\")\n",
    "\n",
    "import re\n",
    "import time\n",
    "import random\n",
    "import tempfile\n",
    "from tqdm.notebook import tqdm\n",
    "\n",
    "import gc\n",
    "gc.collect()"
   ]
  },
  {
   "cell_type": "markdown",
   "metadata": {},
   "source": [
    "# 02. Reading Clean the Data from File"
   ]
  },
  {
   "cell_type": "code",
   "execution_count": 47,
   "metadata": {
    "_cell_guid": "eed17339-c843-41c1-94b8-9e0cafb4c69d",
    "_uuid": "4230d894-e2ae-4c63-a1a1-7a1581130990",
    "execution": {
     "iopub.execute_input": "2023-05-09T17:00:46.454850Z",
     "iopub.status.busy": "2023-05-09T17:00:46.454443Z",
     "iopub.status.idle": "2023-05-09T17:00:47.355024Z",
     "shell.execute_reply": "2023-05-09T17:00:47.354133Z",
     "shell.execute_reply.started": "2023-05-09T17:00:46.454819Z"
    },
    "jupyter": {
     "outputs_hidden": false
    }
   },
   "outputs": [
    {
     "data": {
      "text/plain": [
       "((100000, 28), (50000, 27))"
      ]
     },
     "execution_count": 47,
     "metadata": {},
     "output_type": "execute_result"
    }
   ],
   "source": [
    "# we are using cleaned Data\n",
    "df_origin_train = pd.read_csv('/kaggle/input/creditscoreclassification/train.csv')\n",
    "df_train = df_origin_train.copy()\n",
    "\n",
    "df_origin_test = pd.read_csv('/kaggle/input/creditscoreclassification/test.csv')\n",
    "df_test = df_origin_test.copy()\n",
    "\n",
    "df_train.shape, df_test.shape"
   ]
  },
  {
   "cell_type": "code",
   "execution_count": 52,
   "metadata": {
    "execution": {
     "iopub.execute_input": "2023-05-09T17:03:34.437314Z",
     "iopub.status.busy": "2023-05-09T17:03:34.436830Z",
     "iopub.status.idle": "2023-05-09T17:03:34.459972Z",
     "shell.execute_reply": "2023-05-09T17:03:34.458809Z",
     "shell.execute_reply.started": "2023-05-09T17:03:34.437273Z"
    }
   },
   "outputs": [
    {
     "data": {
      "text/html": [
       "<div>\n",
       "<style scoped>\n",
       "    .dataframe tbody tr th:only-of-type {\n",
       "        vertical-align: middle;\n",
       "    }\n",
       "\n",
       "    .dataframe tbody tr th {\n",
       "        vertical-align: top;\n",
       "    }\n",
       "\n",
       "    .dataframe thead th {\n",
       "        text-align: right;\n",
       "    }\n",
       "</style>\n",
       "<table border=\"1\" class=\"dataframe\">\n",
       "  <thead>\n",
       "    <tr style=\"text-align: right;\">\n",
       "      <th></th>\n",
       "      <th>0</th>\n",
       "      <th>1</th>\n",
       "      <th>2</th>\n",
       "      <th>3</th>\n",
       "      <th>4</th>\n",
       "      <th>5</th>\n",
       "      <th>6</th>\n",
       "      <th>7</th>\n",
       "    </tr>\n",
       "  </thead>\n",
       "  <tbody>\n",
       "    <tr>\n",
       "      <th>ID</th>\n",
       "      <td>5634</td>\n",
       "      <td>5635</td>\n",
       "      <td>5636</td>\n",
       "      <td>5637</td>\n",
       "      <td>5638</td>\n",
       "      <td>5639</td>\n",
       "      <td>5640</td>\n",
       "      <td>5641</td>\n",
       "    </tr>\n",
       "    <tr>\n",
       "      <th>Customer_ID</th>\n",
       "      <td>3392</td>\n",
       "      <td>3392</td>\n",
       "      <td>3392</td>\n",
       "      <td>3392</td>\n",
       "      <td>3392</td>\n",
       "      <td>3392</td>\n",
       "      <td>3392</td>\n",
       "      <td>3392</td>\n",
       "    </tr>\n",
       "    <tr>\n",
       "      <th>Month</th>\n",
       "      <td>1</td>\n",
       "      <td>2</td>\n",
       "      <td>3</td>\n",
       "      <td>4</td>\n",
       "      <td>5</td>\n",
       "      <td>6</td>\n",
       "      <td>7</td>\n",
       "      <td>8</td>\n",
       "    </tr>\n",
       "    <tr>\n",
       "      <th>Name</th>\n",
       "      <td>Aaron Maashoh</td>\n",
       "      <td>Aaron Maashoh</td>\n",
       "      <td>Aaron Maashoh</td>\n",
       "      <td>Aaron Maashoh</td>\n",
       "      <td>Aaron Maashoh</td>\n",
       "      <td>Aaron Maashoh</td>\n",
       "      <td>Aaron Maashoh</td>\n",
       "      <td>Aaron Maashoh</td>\n",
       "    </tr>\n",
       "    <tr>\n",
       "      <th>Age</th>\n",
       "      <td>23.000</td>\n",
       "      <td>23.000</td>\n",
       "      <td>23.000</td>\n",
       "      <td>23.000</td>\n",
       "      <td>23.000</td>\n",
       "      <td>23.000</td>\n",
       "      <td>23.000</td>\n",
       "      <td>23.000</td>\n",
       "    </tr>\n",
       "    <tr>\n",
       "      <th>SSN</th>\n",
       "      <td>821000265.000</td>\n",
       "      <td>821000265.000</td>\n",
       "      <td>821000265.000</td>\n",
       "      <td>821000265.000</td>\n",
       "      <td>821000265.000</td>\n",
       "      <td>821000265.000</td>\n",
       "      <td>821000265.000</td>\n",
       "      <td>821000265.000</td>\n",
       "    </tr>\n",
       "    <tr>\n",
       "      <th>Occupation</th>\n",
       "      <td>Scientist</td>\n",
       "      <td>Scientist</td>\n",
       "      <td>Scientist</td>\n",
       "      <td>Scientist</td>\n",
       "      <td>Scientist</td>\n",
       "      <td>Scientist</td>\n",
       "      <td>Scientist</td>\n",
       "      <td>Scientist</td>\n",
       "    </tr>\n",
       "    <tr>\n",
       "      <th>Annual_Income</th>\n",
       "      <td>19114.120</td>\n",
       "      <td>19114.120</td>\n",
       "      <td>19114.120</td>\n",
       "      <td>19114.120</td>\n",
       "      <td>19114.120</td>\n",
       "      <td>19114.120</td>\n",
       "      <td>19114.120</td>\n",
       "      <td>19114.120</td>\n",
       "    </tr>\n",
       "    <tr>\n",
       "      <th>Monthly_Inhand_Salary</th>\n",
       "      <td>1824.843</td>\n",
       "      <td>1824.843</td>\n",
       "      <td>1824.843</td>\n",
       "      <td>1824.843</td>\n",
       "      <td>1824.843</td>\n",
       "      <td>1824.843</td>\n",
       "      <td>1824.843</td>\n",
       "      <td>1824.843</td>\n",
       "    </tr>\n",
       "    <tr>\n",
       "      <th>Num_Bank_Accounts</th>\n",
       "      <td>3.000</td>\n",
       "      <td>3.000</td>\n",
       "      <td>3.000</td>\n",
       "      <td>3.000</td>\n",
       "      <td>3.000</td>\n",
       "      <td>3.000</td>\n",
       "      <td>3.000</td>\n",
       "      <td>3.000</td>\n",
       "    </tr>\n",
       "    <tr>\n",
       "      <th>Num_Credit_Card</th>\n",
       "      <td>4.000</td>\n",
       "      <td>4.000</td>\n",
       "      <td>4.000</td>\n",
       "      <td>4.000</td>\n",
       "      <td>4.000</td>\n",
       "      <td>4.000</td>\n",
       "      <td>4.000</td>\n",
       "      <td>4.000</td>\n",
       "    </tr>\n",
       "    <tr>\n",
       "      <th>Interest_Rate</th>\n",
       "      <td>3.000</td>\n",
       "      <td>3.000</td>\n",
       "      <td>3.000</td>\n",
       "      <td>3.000</td>\n",
       "      <td>3.000</td>\n",
       "      <td>3.000</td>\n",
       "      <td>3.000</td>\n",
       "      <td>3.000</td>\n",
       "    </tr>\n",
       "    <tr>\n",
       "      <th>Num_of_Loan</th>\n",
       "      <td>4.000</td>\n",
       "      <td>4.000</td>\n",
       "      <td>4.000</td>\n",
       "      <td>4.000</td>\n",
       "      <td>4.000</td>\n",
       "      <td>4.000</td>\n",
       "      <td>4.000</td>\n",
       "      <td>4.000</td>\n",
       "    </tr>\n",
       "    <tr>\n",
       "      <th>Type_of_Loan</th>\n",
       "      <td>auto loan,credit-builder loan,personal loan,ho...</td>\n",
       "      <td>auto loan,credit-builder loan,personal loan,ho...</td>\n",
       "      <td>auto loan,credit-builder loan,personal loan,ho...</td>\n",
       "      <td>auto loan,credit-builder loan,personal loan,ho...</td>\n",
       "      <td>auto loan,credit-builder loan,personal loan,ho...</td>\n",
       "      <td>auto loan,credit-builder loan,personal loan,ho...</td>\n",
       "      <td>auto loan,credit-builder loan,personal loan,ho...</td>\n",
       "      <td>auto loan,credit-builder loan,personal loan,ho...</td>\n",
       "    </tr>\n",
       "    <tr>\n",
       "      <th>Delay_from_due_date</th>\n",
       "      <td>3.000</td>\n",
       "      <td>3.000</td>\n",
       "      <td>3.000</td>\n",
       "      <td>5.000</td>\n",
       "      <td>6.000</td>\n",
       "      <td>8.000</td>\n",
       "      <td>3.000</td>\n",
       "      <td>3.000</td>\n",
       "    </tr>\n",
       "    <tr>\n",
       "      <th>Num_of_Delayed_Payment</th>\n",
       "      <td>7.000</td>\n",
       "      <td>4.000</td>\n",
       "      <td>7.000</td>\n",
       "      <td>4.000</td>\n",
       "      <td>4.000</td>\n",
       "      <td>4.000</td>\n",
       "      <td>8.000</td>\n",
       "      <td>6.000</td>\n",
       "    </tr>\n",
       "    <tr>\n",
       "      <th>Changed_Credit_Limit</th>\n",
       "      <td>11.270</td>\n",
       "      <td>11.270</td>\n",
       "      <td>11.270</td>\n",
       "      <td>6.270</td>\n",
       "      <td>11.270</td>\n",
       "      <td>9.270</td>\n",
       "      <td>11.270</td>\n",
       "      <td>11.270</td>\n",
       "    </tr>\n",
       "    <tr>\n",
       "      <th>Num_Credit_Inquiries</th>\n",
       "      <td>4.000</td>\n",
       "      <td>4.000</td>\n",
       "      <td>4.000</td>\n",
       "      <td>4.000</td>\n",
       "      <td>4.000</td>\n",
       "      <td>4.000</td>\n",
       "      <td>4.000</td>\n",
       "      <td>4.000</td>\n",
       "    </tr>\n",
       "    <tr>\n",
       "      <th>Credit_Mix</th>\n",
       "      <td>Good</td>\n",
       "      <td>Good</td>\n",
       "      <td>Good</td>\n",
       "      <td>Good</td>\n",
       "      <td>Good</td>\n",
       "      <td>Good</td>\n",
       "      <td>Good</td>\n",
       "      <td>Good</td>\n",
       "    </tr>\n",
       "    <tr>\n",
       "      <th>Outstanding_Debt</th>\n",
       "      <td>809.980</td>\n",
       "      <td>809.980</td>\n",
       "      <td>809.980</td>\n",
       "      <td>809.980</td>\n",
       "      <td>809.980</td>\n",
       "      <td>809.980</td>\n",
       "      <td>809.980</td>\n",
       "      <td>809.980</td>\n",
       "    </tr>\n",
       "    <tr>\n",
       "      <th>Credit_Utilization_Ratio</th>\n",
       "      <td>26.823</td>\n",
       "      <td>31.945</td>\n",
       "      <td>28.609</td>\n",
       "      <td>31.378</td>\n",
       "      <td>24.797</td>\n",
       "      <td>27.262</td>\n",
       "      <td>22.538</td>\n",
       "      <td>23.934</td>\n",
       "    </tr>\n",
       "    <tr>\n",
       "      <th>Credit_History_Age</th>\n",
       "      <td>265.000</td>\n",
       "      <td>266.000</td>\n",
       "      <td>267.000</td>\n",
       "      <td>268.000</td>\n",
       "      <td>269.000</td>\n",
       "      <td>270.000</td>\n",
       "      <td>271.000</td>\n",
       "      <td>272.000</td>\n",
       "    </tr>\n",
       "    <tr>\n",
       "      <th>Payment_of_Min_Amount</th>\n",
       "      <td>No</td>\n",
       "      <td>No</td>\n",
       "      <td>No</td>\n",
       "      <td>No</td>\n",
       "      <td>No</td>\n",
       "      <td>No</td>\n",
       "      <td>No</td>\n",
       "      <td>No</td>\n",
       "    </tr>\n",
       "    <tr>\n",
       "      <th>Total_EMI_per_month</th>\n",
       "      <td>49.575</td>\n",
       "      <td>49.575</td>\n",
       "      <td>49.575</td>\n",
       "      <td>49.575</td>\n",
       "      <td>49.575</td>\n",
       "      <td>49.575</td>\n",
       "      <td>49.575</td>\n",
       "      <td>49.575</td>\n",
       "    </tr>\n",
       "    <tr>\n",
       "      <th>Amount_invested_monthly</th>\n",
       "      <td>21.465</td>\n",
       "      <td>21.465</td>\n",
       "      <td>21.465</td>\n",
       "      <td>21.465</td>\n",
       "      <td>21.465</td>\n",
       "      <td>21.465</td>\n",
       "      <td>21.465</td>\n",
       "      <td>21.465</td>\n",
       "    </tr>\n",
       "    <tr>\n",
       "      <th>Payment_Behaviour</th>\n",
       "      <td>High_spent_Small_value_payments</td>\n",
       "      <td>Low_spent_Large_value_payments</td>\n",
       "      <td>Low_spent_Medium_value_payments</td>\n",
       "      <td>Low_spent_Small_value_payments</td>\n",
       "      <td>High_spent_Medium_value_payments</td>\n",
       "      <td>High_spent_Medium_value_payments</td>\n",
       "      <td>Low_spent_Small_value_payments</td>\n",
       "      <td>High_spent_Medium_value_payments</td>\n",
       "    </tr>\n",
       "    <tr>\n",
       "      <th>Monthly_Balance</th>\n",
       "      <td>312.494</td>\n",
       "      <td>284.629</td>\n",
       "      <td>331.210</td>\n",
       "      <td>223.451</td>\n",
       "      <td>341.489</td>\n",
       "      <td>340.479</td>\n",
       "      <td>244.565</td>\n",
       "      <td>358.124</td>\n",
       "    </tr>\n",
       "    <tr>\n",
       "      <th>Credit_Score</th>\n",
       "      <td>Good</td>\n",
       "      <td>Good</td>\n",
       "      <td>Good</td>\n",
       "      <td>Good</td>\n",
       "      <td>Good</td>\n",
       "      <td>Good</td>\n",
       "      <td>Good</td>\n",
       "      <td>Standard</td>\n",
       "    </tr>\n",
       "  </tbody>\n",
       "</table>\n",
       "</div>"
      ],
      "text/plain": [
       "                                                                          0  \\\n",
       "ID                                                                     5634   \n",
       "Customer_ID                                                            3392   \n",
       "Month                                                                     1   \n",
       "Name                                                          Aaron Maashoh   \n",
       "Age                                                                  23.000   \n",
       "SSN                                                           821000265.000   \n",
       "Occupation                                                        Scientist   \n",
       "Annual_Income                                                     19114.120   \n",
       "Monthly_Inhand_Salary                                              1824.843   \n",
       "Num_Bank_Accounts                                                     3.000   \n",
       "Num_Credit_Card                                                       4.000   \n",
       "Interest_Rate                                                         3.000   \n",
       "Num_of_Loan                                                           4.000   \n",
       "Type_of_Loan              auto loan,credit-builder loan,personal loan,ho...   \n",
       "Delay_from_due_date                                                   3.000   \n",
       "Num_of_Delayed_Payment                                                7.000   \n",
       "Changed_Credit_Limit                                                 11.270   \n",
       "Num_Credit_Inquiries                                                  4.000   \n",
       "Credit_Mix                                                             Good   \n",
       "Outstanding_Debt                                                    809.980   \n",
       "Credit_Utilization_Ratio                                             26.823   \n",
       "Credit_History_Age                                                  265.000   \n",
       "Payment_of_Min_Amount                                                    No   \n",
       "Total_EMI_per_month                                                  49.575   \n",
       "Amount_invested_monthly                                              21.465   \n",
       "Payment_Behaviour                           High_spent_Small_value_payments   \n",
       "Monthly_Balance                                                     312.494   \n",
       "Credit_Score                                                           Good   \n",
       "\n",
       "                                                                          1  \\\n",
       "ID                                                                     5635   \n",
       "Customer_ID                                                            3392   \n",
       "Month                                                                     2   \n",
       "Name                                                          Aaron Maashoh   \n",
       "Age                                                                  23.000   \n",
       "SSN                                                           821000265.000   \n",
       "Occupation                                                        Scientist   \n",
       "Annual_Income                                                     19114.120   \n",
       "Monthly_Inhand_Salary                                              1824.843   \n",
       "Num_Bank_Accounts                                                     3.000   \n",
       "Num_Credit_Card                                                       4.000   \n",
       "Interest_Rate                                                         3.000   \n",
       "Num_of_Loan                                                           4.000   \n",
       "Type_of_Loan              auto loan,credit-builder loan,personal loan,ho...   \n",
       "Delay_from_due_date                                                   3.000   \n",
       "Num_of_Delayed_Payment                                                4.000   \n",
       "Changed_Credit_Limit                                                 11.270   \n",
       "Num_Credit_Inquiries                                                  4.000   \n",
       "Credit_Mix                                                             Good   \n",
       "Outstanding_Debt                                                    809.980   \n",
       "Credit_Utilization_Ratio                                             31.945   \n",
       "Credit_History_Age                                                  266.000   \n",
       "Payment_of_Min_Amount                                                    No   \n",
       "Total_EMI_per_month                                                  49.575   \n",
       "Amount_invested_monthly                                              21.465   \n",
       "Payment_Behaviour                            Low_spent_Large_value_payments   \n",
       "Monthly_Balance                                                     284.629   \n",
       "Credit_Score                                                           Good   \n",
       "\n",
       "                                                                          2  \\\n",
       "ID                                                                     5636   \n",
       "Customer_ID                                                            3392   \n",
       "Month                                                                     3   \n",
       "Name                                                          Aaron Maashoh   \n",
       "Age                                                                  23.000   \n",
       "SSN                                                           821000265.000   \n",
       "Occupation                                                        Scientist   \n",
       "Annual_Income                                                     19114.120   \n",
       "Monthly_Inhand_Salary                                              1824.843   \n",
       "Num_Bank_Accounts                                                     3.000   \n",
       "Num_Credit_Card                                                       4.000   \n",
       "Interest_Rate                                                         3.000   \n",
       "Num_of_Loan                                                           4.000   \n",
       "Type_of_Loan              auto loan,credit-builder loan,personal loan,ho...   \n",
       "Delay_from_due_date                                                   3.000   \n",
       "Num_of_Delayed_Payment                                                7.000   \n",
       "Changed_Credit_Limit                                                 11.270   \n",
       "Num_Credit_Inquiries                                                  4.000   \n",
       "Credit_Mix                                                             Good   \n",
       "Outstanding_Debt                                                    809.980   \n",
       "Credit_Utilization_Ratio                                             28.609   \n",
       "Credit_History_Age                                                  267.000   \n",
       "Payment_of_Min_Amount                                                    No   \n",
       "Total_EMI_per_month                                                  49.575   \n",
       "Amount_invested_monthly                                              21.465   \n",
       "Payment_Behaviour                           Low_spent_Medium_value_payments   \n",
       "Monthly_Balance                                                     331.210   \n",
       "Credit_Score                                                           Good   \n",
       "\n",
       "                                                                          3  \\\n",
       "ID                                                                     5637   \n",
       "Customer_ID                                                            3392   \n",
       "Month                                                                     4   \n",
       "Name                                                          Aaron Maashoh   \n",
       "Age                                                                  23.000   \n",
       "SSN                                                           821000265.000   \n",
       "Occupation                                                        Scientist   \n",
       "Annual_Income                                                     19114.120   \n",
       "Monthly_Inhand_Salary                                              1824.843   \n",
       "Num_Bank_Accounts                                                     3.000   \n",
       "Num_Credit_Card                                                       4.000   \n",
       "Interest_Rate                                                         3.000   \n",
       "Num_of_Loan                                                           4.000   \n",
       "Type_of_Loan              auto loan,credit-builder loan,personal loan,ho...   \n",
       "Delay_from_due_date                                                   5.000   \n",
       "Num_of_Delayed_Payment                                                4.000   \n",
       "Changed_Credit_Limit                                                  6.270   \n",
       "Num_Credit_Inquiries                                                  4.000   \n",
       "Credit_Mix                                                             Good   \n",
       "Outstanding_Debt                                                    809.980   \n",
       "Credit_Utilization_Ratio                                             31.378   \n",
       "Credit_History_Age                                                  268.000   \n",
       "Payment_of_Min_Amount                                                    No   \n",
       "Total_EMI_per_month                                                  49.575   \n",
       "Amount_invested_monthly                                              21.465   \n",
       "Payment_Behaviour                            Low_spent_Small_value_payments   \n",
       "Monthly_Balance                                                     223.451   \n",
       "Credit_Score                                                           Good   \n",
       "\n",
       "                                                                          4  \\\n",
       "ID                                                                     5638   \n",
       "Customer_ID                                                            3392   \n",
       "Month                                                                     5   \n",
       "Name                                                          Aaron Maashoh   \n",
       "Age                                                                  23.000   \n",
       "SSN                                                           821000265.000   \n",
       "Occupation                                                        Scientist   \n",
       "Annual_Income                                                     19114.120   \n",
       "Monthly_Inhand_Salary                                              1824.843   \n",
       "Num_Bank_Accounts                                                     3.000   \n",
       "Num_Credit_Card                                                       4.000   \n",
       "Interest_Rate                                                         3.000   \n",
       "Num_of_Loan                                                           4.000   \n",
       "Type_of_Loan              auto loan,credit-builder loan,personal loan,ho...   \n",
       "Delay_from_due_date                                                   6.000   \n",
       "Num_of_Delayed_Payment                                                4.000   \n",
       "Changed_Credit_Limit                                                 11.270   \n",
       "Num_Credit_Inquiries                                                  4.000   \n",
       "Credit_Mix                                                             Good   \n",
       "Outstanding_Debt                                                    809.980   \n",
       "Credit_Utilization_Ratio                                             24.797   \n",
       "Credit_History_Age                                                  269.000   \n",
       "Payment_of_Min_Amount                                                    No   \n",
       "Total_EMI_per_month                                                  49.575   \n",
       "Amount_invested_monthly                                              21.465   \n",
       "Payment_Behaviour                          High_spent_Medium_value_payments   \n",
       "Monthly_Balance                                                     341.489   \n",
       "Credit_Score                                                           Good   \n",
       "\n",
       "                                                                          5  \\\n",
       "ID                                                                     5639   \n",
       "Customer_ID                                                            3392   \n",
       "Month                                                                     6   \n",
       "Name                                                          Aaron Maashoh   \n",
       "Age                                                                  23.000   \n",
       "SSN                                                           821000265.000   \n",
       "Occupation                                                        Scientist   \n",
       "Annual_Income                                                     19114.120   \n",
       "Monthly_Inhand_Salary                                              1824.843   \n",
       "Num_Bank_Accounts                                                     3.000   \n",
       "Num_Credit_Card                                                       4.000   \n",
       "Interest_Rate                                                         3.000   \n",
       "Num_of_Loan                                                           4.000   \n",
       "Type_of_Loan              auto loan,credit-builder loan,personal loan,ho...   \n",
       "Delay_from_due_date                                                   8.000   \n",
       "Num_of_Delayed_Payment                                                4.000   \n",
       "Changed_Credit_Limit                                                  9.270   \n",
       "Num_Credit_Inquiries                                                  4.000   \n",
       "Credit_Mix                                                             Good   \n",
       "Outstanding_Debt                                                    809.980   \n",
       "Credit_Utilization_Ratio                                             27.262   \n",
       "Credit_History_Age                                                  270.000   \n",
       "Payment_of_Min_Amount                                                    No   \n",
       "Total_EMI_per_month                                                  49.575   \n",
       "Amount_invested_monthly                                              21.465   \n",
       "Payment_Behaviour                          High_spent_Medium_value_payments   \n",
       "Monthly_Balance                                                     340.479   \n",
       "Credit_Score                                                           Good   \n",
       "\n",
       "                                                                          6  \\\n",
       "ID                                                                     5640   \n",
       "Customer_ID                                                            3392   \n",
       "Month                                                                     7   \n",
       "Name                                                          Aaron Maashoh   \n",
       "Age                                                                  23.000   \n",
       "SSN                                                           821000265.000   \n",
       "Occupation                                                        Scientist   \n",
       "Annual_Income                                                     19114.120   \n",
       "Monthly_Inhand_Salary                                              1824.843   \n",
       "Num_Bank_Accounts                                                     3.000   \n",
       "Num_Credit_Card                                                       4.000   \n",
       "Interest_Rate                                                         3.000   \n",
       "Num_of_Loan                                                           4.000   \n",
       "Type_of_Loan              auto loan,credit-builder loan,personal loan,ho...   \n",
       "Delay_from_due_date                                                   3.000   \n",
       "Num_of_Delayed_Payment                                                8.000   \n",
       "Changed_Credit_Limit                                                 11.270   \n",
       "Num_Credit_Inquiries                                                  4.000   \n",
       "Credit_Mix                                                             Good   \n",
       "Outstanding_Debt                                                    809.980   \n",
       "Credit_Utilization_Ratio                                             22.538   \n",
       "Credit_History_Age                                                  271.000   \n",
       "Payment_of_Min_Amount                                                    No   \n",
       "Total_EMI_per_month                                                  49.575   \n",
       "Amount_invested_monthly                                              21.465   \n",
       "Payment_Behaviour                            Low_spent_Small_value_payments   \n",
       "Monthly_Balance                                                     244.565   \n",
       "Credit_Score                                                           Good   \n",
       "\n",
       "                                                                          7  \n",
       "ID                                                                     5641  \n",
       "Customer_ID                                                            3392  \n",
       "Month                                                                     8  \n",
       "Name                                                          Aaron Maashoh  \n",
       "Age                                                                  23.000  \n",
       "SSN                                                           821000265.000  \n",
       "Occupation                                                        Scientist  \n",
       "Annual_Income                                                     19114.120  \n",
       "Monthly_Inhand_Salary                                              1824.843  \n",
       "Num_Bank_Accounts                                                     3.000  \n",
       "Num_Credit_Card                                                       4.000  \n",
       "Interest_Rate                                                         3.000  \n",
       "Num_of_Loan                                                           4.000  \n",
       "Type_of_Loan              auto loan,credit-builder loan,personal loan,ho...  \n",
       "Delay_from_due_date                                                   3.000  \n",
       "Num_of_Delayed_Payment                                                6.000  \n",
       "Changed_Credit_Limit                                                 11.270  \n",
       "Num_Credit_Inquiries                                                  4.000  \n",
       "Credit_Mix                                                             Good  \n",
       "Outstanding_Debt                                                    809.980  \n",
       "Credit_Utilization_Ratio                                             23.934  \n",
       "Credit_History_Age                                                  272.000  \n",
       "Payment_of_Min_Amount                                                    No  \n",
       "Total_EMI_per_month                                                  49.575  \n",
       "Amount_invested_monthly                                              21.465  \n",
       "Payment_Behaviour                          High_spent_Medium_value_payments  \n",
       "Monthly_Balance                                                     358.124  \n",
       "Credit_Score                                                       Standard  "
      ]
     },
     "execution_count": 52,
     "metadata": {},
     "output_type": "execute_result"
    }
   ],
   "source": [
    "df_train.head(8).T"
   ]
  },
  {
   "cell_type": "code",
   "execution_count": 53,
   "metadata": {
    "execution": {
     "iopub.execute_input": "2023-05-09T17:05:19.763449Z",
     "iopub.status.busy": "2023-05-09T17:05:19.762963Z",
     "iopub.status.idle": "2023-05-09T17:05:19.813823Z",
     "shell.execute_reply": "2023-05-09T17:05:19.812649Z",
     "shell.execute_reply.started": "2023-05-09T17:05:19.763409Z"
    }
   },
   "outputs": [
    {
     "name": "stdout",
     "output_type": "stream",
     "text": [
      "<class 'pandas.core.frame.DataFrame'>\n",
      "RangeIndex: 100000 entries, 0 to 99999\n",
      "Data columns (total 28 columns):\n",
      " #   Column                    Non-Null Count   Dtype  \n",
      "---  ------                    --------------   -----  \n",
      " 0   ID                        100000 non-null  int64  \n",
      " 1   Customer_ID               100000 non-null  int64  \n",
      " 2   Month                     100000 non-null  int64  \n",
      " 3   Name                      100000 non-null  object \n",
      " 4   Age                       100000 non-null  float64\n",
      " 5   SSN                       100000 non-null  float64\n",
      " 6   Occupation                100000 non-null  object \n",
      " 7   Annual_Income             100000 non-null  float64\n",
      " 8   Monthly_Inhand_Salary     100000 non-null  float64\n",
      " 9   Num_Bank_Accounts         100000 non-null  float64\n",
      " 10  Num_Credit_Card           100000 non-null  float64\n",
      " 11  Interest_Rate             100000 non-null  float64\n",
      " 12  Num_of_Loan               100000 non-null  float64\n",
      " 13  Type_of_Loan              100000 non-null  object \n",
      " 14  Delay_from_due_date       100000 non-null  float64\n",
      " 15  Num_of_Delayed_Payment    100000 non-null  float64\n",
      " 16  Changed_Credit_Limit      100000 non-null  float64\n",
      " 17  Num_Credit_Inquiries      100000 non-null  float64\n",
      " 18  Credit_Mix                100000 non-null  object \n",
      " 19  Outstanding_Debt          100000 non-null  float64\n",
      " 20  Credit_Utilization_Ratio  100000 non-null  float64\n",
      " 21  Credit_History_Age        100000 non-null  float64\n",
      " 22  Payment_of_Min_Amount     100000 non-null  object \n",
      " 23  Total_EMI_per_month       100000 non-null  float64\n",
      " 24  Amount_invested_monthly   100000 non-null  float64\n",
      " 25  Payment_Behaviour         100000 non-null  object \n",
      " 26  Monthly_Balance           100000 non-null  float64\n",
      " 27  Credit_Score              100000 non-null  object \n",
      "dtypes: float64(18), int64(3), object(7)\n",
      "memory usage: 21.4+ MB\n"
     ]
    }
   ],
   "source": [
    "df_train.info()"
   ]
  },
  {
   "cell_type": "code",
   "execution_count": 54,
   "metadata": {
    "execution": {
     "iopub.execute_input": "2023-05-09T17:05:30.261282Z",
     "iopub.status.busy": "2023-05-09T17:05:30.260819Z",
     "iopub.status.idle": "2023-05-09T17:05:30.308818Z",
     "shell.execute_reply": "2023-05-09T17:05:30.307380Z",
     "shell.execute_reply.started": "2023-05-09T17:05:30.261246Z"
    }
   },
   "outputs": [
    {
     "name": "stdout",
     "output_type": "stream",
     "text": [
      "<class 'pandas.core.frame.DataFrame'>\n",
      "RangeIndex: 50000 entries, 0 to 49999\n",
      "Data columns (total 27 columns):\n",
      " #   Column                    Non-Null Count  Dtype  \n",
      "---  ------                    --------------  -----  \n",
      " 0   ID                        50000 non-null  int64  \n",
      " 1   Customer_ID               50000 non-null  int64  \n",
      " 2   Month                     50000 non-null  int64  \n",
      " 3   Name                      50000 non-null  object \n",
      " 4   Age                       50000 non-null  float64\n",
      " 5   SSN                       50000 non-null  float64\n",
      " 6   Occupation                50000 non-null  object \n",
      " 7   Annual_Income             50000 non-null  float64\n",
      " 8   Monthly_Inhand_Salary     50000 non-null  float64\n",
      " 9   Num_Bank_Accounts         50000 non-null  float64\n",
      " 10  Num_Credit_Card           50000 non-null  float64\n",
      " 11  Interest_Rate             50000 non-null  float64\n",
      " 12  Num_of_Loan               50000 non-null  float64\n",
      " 13  Type_of_Loan              50000 non-null  object \n",
      " 14  Delay_from_due_date       50000 non-null  float64\n",
      " 15  Num_of_Delayed_Payment    50000 non-null  float64\n",
      " 16  Changed_Credit_Limit      50000 non-null  float64\n",
      " 17  Num_Credit_Inquiries      50000 non-null  float64\n",
      " 18  Credit_Mix                50000 non-null  object \n",
      " 19  Outstanding_Debt          50000 non-null  float64\n",
      " 20  Credit_Utilization_Ratio  50000 non-null  float64\n",
      " 21  Credit_History_Age        50000 non-null  float64\n",
      " 22  Payment_of_Min_Amount     50000 non-null  object \n",
      " 23  Total_EMI_per_month       50000 non-null  float64\n",
      " 24  Amount_invested_monthly   50000 non-null  float64\n",
      " 25  Payment_Behaviour         50000 non-null  object \n",
      " 26  Monthly_Balance           50000 non-null  float64\n",
      "dtypes: float64(18), int64(3), object(6)\n",
      "memory usage: 10.3+ MB\n"
     ]
    }
   ],
   "source": [
    "df_test.info()"
   ]
  },
  {
   "cell_type": "code",
   "execution_count": 55,
   "metadata": {
    "execution": {
     "iopub.execute_input": "2023-05-09T17:05:32.082048Z",
     "iopub.status.busy": "2023-05-09T17:05:32.080880Z",
     "iopub.status.idle": "2023-05-09T17:05:32.101597Z",
     "shell.execute_reply": "2023-05-09T17:05:32.100454Z",
     "shell.execute_reply.started": "2023-05-09T17:05:32.082002Z"
    }
   },
   "outputs": [],
   "source": [
    "# Drop the Columns we not use in model\n",
    "df_train.drop(columns=['ID', 'Customer_ID', 'Month', 'Name', 'SSN'], inplace=True)\n",
    "df_test.drop(columns=['ID', 'Customer_ID', 'Month', 'Name', 'SSN'], inplace=True)"
   ]
  },
  {
   "cell_type": "code",
   "execution_count": 56,
   "metadata": {
    "execution": {
     "iopub.execute_input": "2023-05-09T17:05:33.594666Z",
     "iopub.status.busy": "2023-05-09T17:05:33.594234Z",
     "iopub.status.idle": "2023-05-09T17:05:33.707053Z",
     "shell.execute_reply": "2023-05-09T17:05:33.705918Z",
     "shell.execute_reply.started": "2023-05-09T17:05:33.594627Z"
    }
   },
   "outputs": [
    {
     "data": {
      "text/html": [
       "<div>\n",
       "<style scoped>\n",
       "    .dataframe tbody tr th:only-of-type {\n",
       "        vertical-align: middle;\n",
       "    }\n",
       "\n",
       "    .dataframe tbody tr th {\n",
       "        vertical-align: top;\n",
       "    }\n",
       "\n",
       "    .dataframe thead th {\n",
       "        text-align: right;\n",
       "    }\n",
       "</style>\n",
       "<table border=\"1\" class=\"dataframe\">\n",
       "  <thead>\n",
       "    <tr style=\"text-align: right;\">\n",
       "      <th></th>\n",
       "      <th>count</th>\n",
       "      <th>mean</th>\n",
       "      <th>std</th>\n",
       "      <th>min</th>\n",
       "      <th>25%</th>\n",
       "      <th>50%</th>\n",
       "      <th>75%</th>\n",
       "      <th>max</th>\n",
       "    </tr>\n",
       "  </thead>\n",
       "  <tbody>\n",
       "    <tr>\n",
       "      <th>Age</th>\n",
       "      <td>100000.000</td>\n",
       "      <td>33.316</td>\n",
       "      <td>10.765</td>\n",
       "      <td>14.000</td>\n",
       "      <td>24.000</td>\n",
       "      <td>33.000</td>\n",
       "      <td>42.000</td>\n",
       "      <td>56.000</td>\n",
       "    </tr>\n",
       "    <tr>\n",
       "      <th>Annual_Income</th>\n",
       "      <td>100000.000</td>\n",
       "      <td>50505.123</td>\n",
       "      <td>38299.422</td>\n",
       "      <td>7005.930</td>\n",
       "      <td>19342.972</td>\n",
       "      <td>36999.705</td>\n",
       "      <td>71683.470</td>\n",
       "      <td>179987.280</td>\n",
       "    </tr>\n",
       "    <tr>\n",
       "      <th>Monthly_Inhand_Salary</th>\n",
       "      <td>100000.000</td>\n",
       "      <td>4197.271</td>\n",
       "      <td>3186.432</td>\n",
       "      <td>303.645</td>\n",
       "      <td>1626.594</td>\n",
       "      <td>3095.905</td>\n",
       "      <td>5957.715</td>\n",
       "      <td>15204.633</td>\n",
       "    </tr>\n",
       "    <tr>\n",
       "      <th>Num_Bank_Accounts</th>\n",
       "      <td>100000.000</td>\n",
       "      <td>5.369</td>\n",
       "      <td>2.593</td>\n",
       "      <td>0.000</td>\n",
       "      <td>3.000</td>\n",
       "      <td>5.000</td>\n",
       "      <td>7.000</td>\n",
       "      <td>11.000</td>\n",
       "    </tr>\n",
       "    <tr>\n",
       "      <th>Num_Credit_Card</th>\n",
       "      <td>100000.000</td>\n",
       "      <td>5.534</td>\n",
       "      <td>2.067</td>\n",
       "      <td>0.000</td>\n",
       "      <td>4.000</td>\n",
       "      <td>5.000</td>\n",
       "      <td>7.000</td>\n",
       "      <td>11.000</td>\n",
       "    </tr>\n",
       "    <tr>\n",
       "      <th>Interest_Rate</th>\n",
       "      <td>100000.000</td>\n",
       "      <td>14.532</td>\n",
       "      <td>8.741</td>\n",
       "      <td>1.000</td>\n",
       "      <td>7.000</td>\n",
       "      <td>13.000</td>\n",
       "      <td>20.000</td>\n",
       "      <td>34.000</td>\n",
       "    </tr>\n",
       "    <tr>\n",
       "      <th>Num_of_Loan</th>\n",
       "      <td>100000.000</td>\n",
       "      <td>3.533</td>\n",
       "      <td>2.446</td>\n",
       "      <td>0.000</td>\n",
       "      <td>2.000</td>\n",
       "      <td>3.000</td>\n",
       "      <td>5.000</td>\n",
       "      <td>9.000</td>\n",
       "    </tr>\n",
       "    <tr>\n",
       "      <th>Delay_from_due_date</th>\n",
       "      <td>100000.000</td>\n",
       "      <td>21.081</td>\n",
       "      <td>14.805</td>\n",
       "      <td>0.000</td>\n",
       "      <td>10.000</td>\n",
       "      <td>18.000</td>\n",
       "      <td>28.000</td>\n",
       "      <td>62.000</td>\n",
       "    </tr>\n",
       "    <tr>\n",
       "      <th>Num_of_Delayed_Payment</th>\n",
       "      <td>100000.000</td>\n",
       "      <td>13.313</td>\n",
       "      <td>6.237</td>\n",
       "      <td>0.000</td>\n",
       "      <td>9.000</td>\n",
       "      <td>14.000</td>\n",
       "      <td>18.000</td>\n",
       "      <td>25.000</td>\n",
       "    </tr>\n",
       "    <tr>\n",
       "      <th>Changed_Credit_Limit</th>\n",
       "      <td>100000.000</td>\n",
       "      <td>10.470</td>\n",
       "      <td>6.609</td>\n",
       "      <td>0.500</td>\n",
       "      <td>5.380</td>\n",
       "      <td>9.400</td>\n",
       "      <td>14.850</td>\n",
       "      <td>29.980</td>\n",
       "    </tr>\n",
       "    <tr>\n",
       "      <th>Num_Credit_Inquiries</th>\n",
       "      <td>100000.000</td>\n",
       "      <td>5.798</td>\n",
       "      <td>3.868</td>\n",
       "      <td>0.000</td>\n",
       "      <td>3.000</td>\n",
       "      <td>5.000</td>\n",
       "      <td>8.000</td>\n",
       "      <td>17.000</td>\n",
       "    </tr>\n",
       "    <tr>\n",
       "      <th>Outstanding_Debt</th>\n",
       "      <td>100000.000</td>\n",
       "      <td>1426.220</td>\n",
       "      <td>1155.129</td>\n",
       "      <td>0.230</td>\n",
       "      <td>566.072</td>\n",
       "      <td>1166.155</td>\n",
       "      <td>1945.963</td>\n",
       "      <td>4998.070</td>\n",
       "    </tr>\n",
       "    <tr>\n",
       "      <th>Credit_Utilization_Ratio</th>\n",
       "      <td>100000.000</td>\n",
       "      <td>32.285</td>\n",
       "      <td>5.117</td>\n",
       "      <td>20.000</td>\n",
       "      <td>28.053</td>\n",
       "      <td>32.306</td>\n",
       "      <td>36.497</td>\n",
       "      <td>50.000</td>\n",
       "    </tr>\n",
       "    <tr>\n",
       "      <th>Credit_History_Age</th>\n",
       "      <td>100000.000</td>\n",
       "      <td>221.220</td>\n",
       "      <td>99.681</td>\n",
       "      <td>1.000</td>\n",
       "      <td>144.000</td>\n",
       "      <td>219.000</td>\n",
       "      <td>302.000</td>\n",
       "      <td>404.000</td>\n",
       "    </tr>\n",
       "    <tr>\n",
       "      <th>Total_EMI_per_month</th>\n",
       "      <td>100000.000</td>\n",
       "      <td>107.699</td>\n",
       "      <td>132.267</td>\n",
       "      <td>0.000</td>\n",
       "      <td>29.269</td>\n",
       "      <td>66.462</td>\n",
       "      <td>147.393</td>\n",
       "      <td>1779.103</td>\n",
       "    </tr>\n",
       "    <tr>\n",
       "      <th>Amount_invested_monthly</th>\n",
       "      <td>100000.000</td>\n",
       "      <td>55.101</td>\n",
       "      <td>39.007</td>\n",
       "      <td>0.000</td>\n",
       "      <td>27.959</td>\n",
       "      <td>45.157</td>\n",
       "      <td>71.296</td>\n",
       "      <td>434.191</td>\n",
       "    </tr>\n",
       "    <tr>\n",
       "      <th>Monthly_Balance</th>\n",
       "      <td>100000.000</td>\n",
       "      <td>392.698</td>\n",
       "      <td>201.653</td>\n",
       "      <td>0.008</td>\n",
       "      <td>267.616</td>\n",
       "      <td>333.865</td>\n",
       "      <td>463.216</td>\n",
       "      <td>1183.931</td>\n",
       "    </tr>\n",
       "  </tbody>\n",
       "</table>\n",
       "</div>"
      ],
      "text/plain": [
       "                              count      mean       std      min       25%  \\\n",
       "Age                      100000.000    33.316    10.765   14.000    24.000   \n",
       "Annual_Income            100000.000 50505.123 38299.422 7005.930 19342.972   \n",
       "Monthly_Inhand_Salary    100000.000  4197.271  3186.432  303.645  1626.594   \n",
       "Num_Bank_Accounts        100000.000     5.369     2.593    0.000     3.000   \n",
       "Num_Credit_Card          100000.000     5.534     2.067    0.000     4.000   \n",
       "Interest_Rate            100000.000    14.532     8.741    1.000     7.000   \n",
       "Num_of_Loan              100000.000     3.533     2.446    0.000     2.000   \n",
       "Delay_from_due_date      100000.000    21.081    14.805    0.000    10.000   \n",
       "Num_of_Delayed_Payment   100000.000    13.313     6.237    0.000     9.000   \n",
       "Changed_Credit_Limit     100000.000    10.470     6.609    0.500     5.380   \n",
       "Num_Credit_Inquiries     100000.000     5.798     3.868    0.000     3.000   \n",
       "Outstanding_Debt         100000.000  1426.220  1155.129    0.230   566.072   \n",
       "Credit_Utilization_Ratio 100000.000    32.285     5.117   20.000    28.053   \n",
       "Credit_History_Age       100000.000   221.220    99.681    1.000   144.000   \n",
       "Total_EMI_per_month      100000.000   107.699   132.267    0.000    29.269   \n",
       "Amount_invested_monthly  100000.000    55.101    39.007    0.000    27.959   \n",
       "Monthly_Balance          100000.000   392.698   201.653    0.008   267.616   \n",
       "\n",
       "                               50%       75%        max  \n",
       "Age                         33.000    42.000     56.000  \n",
       "Annual_Income            36999.705 71683.470 179987.280  \n",
       "Monthly_Inhand_Salary     3095.905  5957.715  15204.633  \n",
       "Num_Bank_Accounts            5.000     7.000     11.000  \n",
       "Num_Credit_Card              5.000     7.000     11.000  \n",
       "Interest_Rate               13.000    20.000     34.000  \n",
       "Num_of_Loan                  3.000     5.000      9.000  \n",
       "Delay_from_due_date         18.000    28.000     62.000  \n",
       "Num_of_Delayed_Payment      14.000    18.000     25.000  \n",
       "Changed_Credit_Limit         9.400    14.850     29.980  \n",
       "Num_Credit_Inquiries         5.000     8.000     17.000  \n",
       "Outstanding_Debt          1166.155  1945.963   4998.070  \n",
       "Credit_Utilization_Ratio    32.306    36.497     50.000  \n",
       "Credit_History_Age         219.000   302.000    404.000  \n",
       "Total_EMI_per_month         66.462   147.393   1779.103  \n",
       "Amount_invested_monthly     45.157    71.296    434.191  \n",
       "Monthly_Balance            333.865   463.216   1183.931  "
      ]
     },
     "execution_count": 56,
     "metadata": {},
     "output_type": "execute_result"
    }
   ],
   "source": [
    "df_train.describe().T"
   ]
  },
  {
   "cell_type": "code",
   "execution_count": 57,
   "metadata": {
    "execution": {
     "iopub.execute_input": "2023-05-09T17:05:35.209838Z",
     "iopub.status.busy": "2023-05-09T17:05:35.209414Z",
     "iopub.status.idle": "2023-05-09T17:05:35.294997Z",
     "shell.execute_reply": "2023-05-09T17:05:35.293912Z",
     "shell.execute_reply.started": "2023-05-09T17:05:35.209799Z"
    }
   },
   "outputs": [
    {
     "data": {
      "text/html": [
       "<div>\n",
       "<style scoped>\n",
       "    .dataframe tbody tr th:only-of-type {\n",
       "        vertical-align: middle;\n",
       "    }\n",
       "\n",
       "    .dataframe tbody tr th {\n",
       "        vertical-align: top;\n",
       "    }\n",
       "\n",
       "    .dataframe thead th {\n",
       "        text-align: right;\n",
       "    }\n",
       "</style>\n",
       "<table border=\"1\" class=\"dataframe\">\n",
       "  <thead>\n",
       "    <tr style=\"text-align: right;\">\n",
       "      <th></th>\n",
       "      <th>count</th>\n",
       "      <th>mean</th>\n",
       "      <th>std</th>\n",
       "      <th>min</th>\n",
       "      <th>25%</th>\n",
       "      <th>50%</th>\n",
       "      <th>75%</th>\n",
       "      <th>max</th>\n",
       "    </tr>\n",
       "  </thead>\n",
       "  <tbody>\n",
       "    <tr>\n",
       "      <th>Age</th>\n",
       "      <td>50000.000</td>\n",
       "      <td>33.804</td>\n",
       "      <td>10.765</td>\n",
       "      <td>14.000</td>\n",
       "      <td>25.000</td>\n",
       "      <td>33.000</td>\n",
       "      <td>42.000</td>\n",
       "      <td>56.000</td>\n",
       "    </tr>\n",
       "    <tr>\n",
       "      <th>Annual_Income</th>\n",
       "      <td>50000.000</td>\n",
       "      <td>50505.123</td>\n",
       "      <td>38299.614</td>\n",
       "      <td>7005.930</td>\n",
       "      <td>19342.972</td>\n",
       "      <td>36999.705</td>\n",
       "      <td>71683.470</td>\n",
       "      <td>179987.280</td>\n",
       "    </tr>\n",
       "    <tr>\n",
       "      <th>Monthly_Inhand_Salary</th>\n",
       "      <td>50000.000</td>\n",
       "      <td>4183.034</td>\n",
       "      <td>3175.319</td>\n",
       "      <td>303.645</td>\n",
       "      <td>1623.555</td>\n",
       "      <td>3082.272</td>\n",
       "      <td>5937.530</td>\n",
       "      <td>15204.633</td>\n",
       "    </tr>\n",
       "    <tr>\n",
       "      <th>Num_Bank_Accounts</th>\n",
       "      <td>50000.000</td>\n",
       "      <td>5.369</td>\n",
       "      <td>2.595</td>\n",
       "      <td>0.000</td>\n",
       "      <td>3.000</td>\n",
       "      <td>5.000</td>\n",
       "      <td>7.000</td>\n",
       "      <td>11.000</td>\n",
       "    </tr>\n",
       "    <tr>\n",
       "      <th>Num_Credit_Card</th>\n",
       "      <td>50000.000</td>\n",
       "      <td>5.534</td>\n",
       "      <td>2.072</td>\n",
       "      <td>0.000</td>\n",
       "      <td>4.000</td>\n",
       "      <td>5.000</td>\n",
       "      <td>7.000</td>\n",
       "      <td>11.000</td>\n",
       "    </tr>\n",
       "    <tr>\n",
       "      <th>Interest_Rate</th>\n",
       "      <td>50000.000</td>\n",
       "      <td>14.532</td>\n",
       "      <td>8.741</td>\n",
       "      <td>1.000</td>\n",
       "      <td>7.000</td>\n",
       "      <td>13.000</td>\n",
       "      <td>20.000</td>\n",
       "      <td>34.000</td>\n",
       "    </tr>\n",
       "    <tr>\n",
       "      <th>Num_of_Loan</th>\n",
       "      <td>50000.000</td>\n",
       "      <td>3.533</td>\n",
       "      <td>2.446</td>\n",
       "      <td>0.000</td>\n",
       "      <td>2.000</td>\n",
       "      <td>3.000</td>\n",
       "      <td>5.000</td>\n",
       "      <td>9.000</td>\n",
       "    </tr>\n",
       "    <tr>\n",
       "      <th>Delay_from_due_date</th>\n",
       "      <td>50000.000</td>\n",
       "      <td>21.067</td>\n",
       "      <td>14.806</td>\n",
       "      <td>0.000</td>\n",
       "      <td>10.000</td>\n",
       "      <td>18.000</td>\n",
       "      <td>28.000</td>\n",
       "      <td>62.000</td>\n",
       "    </tr>\n",
       "    <tr>\n",
       "      <th>Num_of_Delayed_Payment</th>\n",
       "      <td>50000.000</td>\n",
       "      <td>13.315</td>\n",
       "      <td>6.238</td>\n",
       "      <td>0.000</td>\n",
       "      <td>9.000</td>\n",
       "      <td>14.000</td>\n",
       "      <td>18.000</td>\n",
       "      <td>25.000</td>\n",
       "    </tr>\n",
       "    <tr>\n",
       "      <th>Changed_Credit_Limit</th>\n",
       "      <td>50000.000</td>\n",
       "      <td>10.465</td>\n",
       "      <td>6.606</td>\n",
       "      <td>0.500</td>\n",
       "      <td>5.380</td>\n",
       "      <td>9.410</td>\n",
       "      <td>14.810</td>\n",
       "      <td>29.980</td>\n",
       "    </tr>\n",
       "    <tr>\n",
       "      <th>Num_Credit_Inquiries</th>\n",
       "      <td>50000.000</td>\n",
       "      <td>7.240</td>\n",
       "      <td>3.961</td>\n",
       "      <td>0.000</td>\n",
       "      <td>4.000</td>\n",
       "      <td>7.000</td>\n",
       "      <td>10.000</td>\n",
       "      <td>17.000</td>\n",
       "    </tr>\n",
       "    <tr>\n",
       "      <th>Outstanding_Debt</th>\n",
       "      <td>50000.000</td>\n",
       "      <td>1426.220</td>\n",
       "      <td>1155.135</td>\n",
       "      <td>0.230</td>\n",
       "      <td>566.072</td>\n",
       "      <td>1166.155</td>\n",
       "      <td>1945.963</td>\n",
       "      <td>4998.070</td>\n",
       "    </tr>\n",
       "    <tr>\n",
       "      <th>Credit_Utilization_Ratio</th>\n",
       "      <td>50000.000</td>\n",
       "      <td>32.280</td>\n",
       "      <td>5.106</td>\n",
       "      <td>20.510</td>\n",
       "      <td>28.061</td>\n",
       "      <td>32.280</td>\n",
       "      <td>36.469</td>\n",
       "      <td>48.541</td>\n",
       "    </tr>\n",
       "    <tr>\n",
       "      <th>Credit_History_Age</th>\n",
       "      <td>50000.000</td>\n",
       "      <td>227.179</td>\n",
       "      <td>99.663</td>\n",
       "      <td>9.000</td>\n",
       "      <td>150.000</td>\n",
       "      <td>225.000</td>\n",
       "      <td>308.000</td>\n",
       "      <td>408.000</td>\n",
       "    </tr>\n",
       "    <tr>\n",
       "      <th>Total_EMI_per_month</th>\n",
       "      <td>50000.000</td>\n",
       "      <td>123.981</td>\n",
       "      <td>165.191</td>\n",
       "      <td>0.000</td>\n",
       "      <td>31.155</td>\n",
       "      <td>71.600</td>\n",
       "      <td>163.129</td>\n",
       "      <td>1779.103</td>\n",
       "    </tr>\n",
       "    <tr>\n",
       "      <th>Amount_invested_monthly</th>\n",
       "      <td>50000.000</td>\n",
       "      <td>55.101</td>\n",
       "      <td>39.007</td>\n",
       "      <td>0.000</td>\n",
       "      <td>27.959</td>\n",
       "      <td>45.157</td>\n",
       "      <td>71.296</td>\n",
       "      <td>434.191</td>\n",
       "    </tr>\n",
       "    <tr>\n",
       "      <th>Monthly_Balance</th>\n",
       "      <td>50000.000</td>\n",
       "      <td>393.416</td>\n",
       "      <td>201.846</td>\n",
       "      <td>0.095</td>\n",
       "      <td>267.938</td>\n",
       "      <td>334.003</td>\n",
       "      <td>463.876</td>\n",
       "      <td>1183.931</td>\n",
       "    </tr>\n",
       "  </tbody>\n",
       "</table>\n",
       "</div>"
      ],
      "text/plain": [
       "                             count      mean       std      min       25%  \\\n",
       "Age                      50000.000    33.804    10.765   14.000    25.000   \n",
       "Annual_Income            50000.000 50505.123 38299.614 7005.930 19342.972   \n",
       "Monthly_Inhand_Salary    50000.000  4183.034  3175.319  303.645  1623.555   \n",
       "Num_Bank_Accounts        50000.000     5.369     2.595    0.000     3.000   \n",
       "Num_Credit_Card          50000.000     5.534     2.072    0.000     4.000   \n",
       "Interest_Rate            50000.000    14.532     8.741    1.000     7.000   \n",
       "Num_of_Loan              50000.000     3.533     2.446    0.000     2.000   \n",
       "Delay_from_due_date      50000.000    21.067    14.806    0.000    10.000   \n",
       "Num_of_Delayed_Payment   50000.000    13.315     6.238    0.000     9.000   \n",
       "Changed_Credit_Limit     50000.000    10.465     6.606    0.500     5.380   \n",
       "Num_Credit_Inquiries     50000.000     7.240     3.961    0.000     4.000   \n",
       "Outstanding_Debt         50000.000  1426.220  1155.135    0.230   566.072   \n",
       "Credit_Utilization_Ratio 50000.000    32.280     5.106   20.510    28.061   \n",
       "Credit_History_Age       50000.000   227.179    99.663    9.000   150.000   \n",
       "Total_EMI_per_month      50000.000   123.981   165.191    0.000    31.155   \n",
       "Amount_invested_monthly  50000.000    55.101    39.007    0.000    27.959   \n",
       "Monthly_Balance          50000.000   393.416   201.846    0.095   267.938   \n",
       "\n",
       "                               50%       75%        max  \n",
       "Age                         33.000    42.000     56.000  \n",
       "Annual_Income            36999.705 71683.470 179987.280  \n",
       "Monthly_Inhand_Salary     3082.272  5937.530  15204.633  \n",
       "Num_Bank_Accounts            5.000     7.000     11.000  \n",
       "Num_Credit_Card              5.000     7.000     11.000  \n",
       "Interest_Rate               13.000    20.000     34.000  \n",
       "Num_of_Loan                  3.000     5.000      9.000  \n",
       "Delay_from_due_date         18.000    28.000     62.000  \n",
       "Num_of_Delayed_Payment      14.000    18.000     25.000  \n",
       "Changed_Credit_Limit         9.410    14.810     29.980  \n",
       "Num_Credit_Inquiries         7.000    10.000     17.000  \n",
       "Outstanding_Debt          1166.155  1945.963   4998.070  \n",
       "Credit_Utilization_Ratio    32.280    36.469     48.541  \n",
       "Credit_History_Age         225.000   308.000    408.000  \n",
       "Total_EMI_per_month         71.600   163.129   1779.103  \n",
       "Amount_invested_monthly     45.157    71.296    434.191  \n",
       "Monthly_Balance            334.003   463.876   1183.931  "
      ]
     },
     "execution_count": 57,
     "metadata": {},
     "output_type": "execute_result"
    }
   ],
   "source": [
    "df_test.describe().T"
   ]
  },
  {
   "cell_type": "code",
   "execution_count": 58,
   "metadata": {
    "execution": {
     "iopub.execute_input": "2023-05-09T17:05:36.293522Z",
     "iopub.status.busy": "2023-05-09T17:05:36.292977Z",
     "iopub.status.idle": "2023-05-09T17:05:36.389195Z",
     "shell.execute_reply": "2023-05-09T17:05:36.387985Z",
     "shell.execute_reply.started": "2023-05-09T17:05:36.293354Z"
    }
   },
   "outputs": [
    {
     "data": {
      "text/html": [
       "<div>\n",
       "<style scoped>\n",
       "    .dataframe tbody tr th:only-of-type {\n",
       "        vertical-align: middle;\n",
       "    }\n",
       "\n",
       "    .dataframe tbody tr th {\n",
       "        vertical-align: top;\n",
       "    }\n",
       "\n",
       "    .dataframe thead th {\n",
       "        text-align: right;\n",
       "    }\n",
       "</style>\n",
       "<table border=\"1\" class=\"dataframe\">\n",
       "  <thead>\n",
       "    <tr style=\"text-align: right;\">\n",
       "      <th></th>\n",
       "      <th>count</th>\n",
       "      <th>unique</th>\n",
       "      <th>top</th>\n",
       "      <th>freq</th>\n",
       "    </tr>\n",
       "  </thead>\n",
       "  <tbody>\n",
       "    <tr>\n",
       "      <th>Occupation</th>\n",
       "      <td>100000</td>\n",
       "      <td>15</td>\n",
       "      <td>Lawyer</td>\n",
       "      <td>7096</td>\n",
       "    </tr>\n",
       "    <tr>\n",
       "      <th>Type_of_Loan</th>\n",
       "      <td>100000</td>\n",
       "      <td>6261</td>\n",
       "      <td>No Data</td>\n",
       "      <td>11408</td>\n",
       "    </tr>\n",
       "    <tr>\n",
       "      <th>Credit_Mix</th>\n",
       "      <td>100000</td>\n",
       "      <td>3</td>\n",
       "      <td>Standard</td>\n",
       "      <td>45848</td>\n",
       "    </tr>\n",
       "    <tr>\n",
       "      <th>Payment_of_Min_Amount</th>\n",
       "      <td>100000</td>\n",
       "      <td>3</td>\n",
       "      <td>Yes</td>\n",
       "      <td>52326</td>\n",
       "    </tr>\n",
       "    <tr>\n",
       "      <th>Payment_Behaviour</th>\n",
       "      <td>100000</td>\n",
       "      <td>6</td>\n",
       "      <td>Low_spent_Small_value_payments</td>\n",
       "      <td>28580</td>\n",
       "    </tr>\n",
       "    <tr>\n",
       "      <th>Credit_Score</th>\n",
       "      <td>100000</td>\n",
       "      <td>3</td>\n",
       "      <td>Standard</td>\n",
       "      <td>53174</td>\n",
       "    </tr>\n",
       "  </tbody>\n",
       "</table>\n",
       "</div>"
      ],
      "text/plain": [
       "                        count unique                             top   freq\n",
       "Occupation             100000     15                          Lawyer   7096\n",
       "Type_of_Loan           100000   6261                         No Data  11408\n",
       "Credit_Mix             100000      3                        Standard  45848\n",
       "Payment_of_Min_Amount  100000      3                             Yes  52326\n",
       "Payment_Behaviour      100000      6  Low_spent_Small_value_payments  28580\n",
       "Credit_Score           100000      3                        Standard  53174"
      ]
     },
     "execution_count": 58,
     "metadata": {},
     "output_type": "execute_result"
    }
   ],
   "source": [
    "df_train.select_dtypes(include=\"object\").describe().T"
   ]
  },
  {
   "cell_type": "code",
   "execution_count": 59,
   "metadata": {
    "execution": {
     "iopub.execute_input": "2023-05-09T17:05:37.378813Z",
     "iopub.status.busy": "2023-05-09T17:05:37.378423Z",
     "iopub.status.idle": "2023-05-09T17:05:37.433663Z",
     "shell.execute_reply": "2023-05-09T17:05:37.432401Z",
     "shell.execute_reply.started": "2023-05-09T17:05:37.378782Z"
    }
   },
   "outputs": [
    {
     "data": {
      "text/html": [
       "<div>\n",
       "<style scoped>\n",
       "    .dataframe tbody tr th:only-of-type {\n",
       "        vertical-align: middle;\n",
       "    }\n",
       "\n",
       "    .dataframe tbody tr th {\n",
       "        vertical-align: top;\n",
       "    }\n",
       "\n",
       "    .dataframe thead th {\n",
       "        text-align: right;\n",
       "    }\n",
       "</style>\n",
       "<table border=\"1\" class=\"dataframe\">\n",
       "  <thead>\n",
       "    <tr style=\"text-align: right;\">\n",
       "      <th></th>\n",
       "      <th>count</th>\n",
       "      <th>unique</th>\n",
       "      <th>top</th>\n",
       "      <th>freq</th>\n",
       "    </tr>\n",
       "  </thead>\n",
       "  <tbody>\n",
       "    <tr>\n",
       "      <th>Occupation</th>\n",
       "      <td>50000</td>\n",
       "      <td>15</td>\n",
       "      <td>Lawyer</td>\n",
       "      <td>3548</td>\n",
       "    </tr>\n",
       "    <tr>\n",
       "      <th>Type_of_Loan</th>\n",
       "      <td>50000</td>\n",
       "      <td>6261</td>\n",
       "      <td>No Data</td>\n",
       "      <td>5704</td>\n",
       "    </tr>\n",
       "    <tr>\n",
       "      <th>Credit_Mix</th>\n",
       "      <td>50000</td>\n",
       "      <td>3</td>\n",
       "      <td>Standard</td>\n",
       "      <td>22924</td>\n",
       "    </tr>\n",
       "    <tr>\n",
       "      <th>Payment_of_Min_Amount</th>\n",
       "      <td>50000</td>\n",
       "      <td>3</td>\n",
       "      <td>Yes</td>\n",
       "      <td>26158</td>\n",
       "    </tr>\n",
       "    <tr>\n",
       "      <th>Payment_Behaviour</th>\n",
       "      <td>50000</td>\n",
       "      <td>6</td>\n",
       "      <td>Low_spent_Small_value_payments</td>\n",
       "      <td>14151</td>\n",
       "    </tr>\n",
       "  </tbody>\n",
       "</table>\n",
       "</div>"
      ],
      "text/plain": [
       "                       count unique                             top   freq\n",
       "Occupation             50000     15                          Lawyer   3548\n",
       "Type_of_Loan           50000   6261                         No Data   5704\n",
       "Credit_Mix             50000      3                        Standard  22924\n",
       "Payment_of_Min_Amount  50000      3                             Yes  26158\n",
       "Payment_Behaviour      50000      6  Low_spent_Small_value_payments  14151"
      ]
     },
     "execution_count": 59,
     "metadata": {},
     "output_type": "execute_result"
    }
   ],
   "source": [
    "df_test.select_dtypes(include=\"object\").describe().T"
   ]
  },
  {
   "cell_type": "code",
   "execution_count": 60,
   "metadata": {
    "execution": {
     "iopub.execute_input": "2023-05-09T17:05:38.825421Z",
     "iopub.status.busy": "2023-05-09T17:05:38.824957Z",
     "iopub.status.idle": "2023-05-09T17:05:40.293368Z",
     "shell.execute_reply": "2023-05-09T17:05:40.292211Z",
     "shell.execute_reply.started": "2023-05-09T17:05:38.825382Z"
    }
   },
   "outputs": [
    {
     "data": {
      "image/png": "[encoded data removed]",
      "text/plain": [
       "<Figure size 1296x720 with 2 Axes>"
      ]
     },
     "metadata": {},
     "output_type": "display_data"
    }
   ],
   "source": [
    "# Correlation between Numerical features\n",
    "plt.figure(figsize=(18, 10))\n",
    "sns.heatmap(\n",
    "    df_train.corr(), \n",
    "    mask=np.triu(np.ones_like(df_train.corr(), dtype=bool)), \n",
    "    annot=True, vmin=-1, vmax=1, cmap=\"PiYG\"\n",
    ");"
   ]
  },
  {
   "cell_type": "markdown",
   "metadata": {},
   "source": [
    "# 03. Multi-class Classification Data Pre-Processing\n",
    "\n",
    "## Import Libraries"
   ]
  },
  {
   "cell_type": "code",
   "execution_count": 61,
   "metadata": {
    "execution": {
     "iopub.execute_input": "2023-05-09T17:05:45.527730Z",
     "iopub.status.busy": "2023-05-09T17:05:45.527276Z",
     "iopub.status.idle": "2023-05-09T17:05:45.537604Z",
     "shell.execute_reply": "2023-05-09T17:05:45.536141Z",
     "shell.execute_reply.started": "2023-05-09T17:05:45.527695Z"
    }
   },
   "outputs": [],
   "source": [
    "# conda install -c anaconda scikit-learn\n",
    "# sklearn library for machine learning algorithms, data preprocessing, and evaluation\n",
    "from sklearn.model_selection import train_test_split\n",
    "from sklearn.preprocessing import OneHotEncoder, OrdinalEncoder, LabelEncoder\n",
    "from sklearn.preprocessing import StandardScaler, MinMaxScaler, RobustScaler\n",
    "from sklearn.pipeline import Pipeline\n",
    "\n",
    "# Supervised-Classifier\n",
    "from sklearn.linear_model import LogisticRegression\n",
    "from sklearn.svm import LinearSVC, SVC\n",
    "from sklearn.ensemble import BaggingClassifier, RandomForestClassifier\n",
    "\n",
    "# conda install -c conda-forge xgboost\n",
    "from xgboost import XGBClassifier\n",
    "\n",
    "# Supervised-Classifier-metrics\n",
    "from sklearn.metrics import make_scorer, precision_score, recall_score, f1_score, accuracy_score, log_loss\n",
    "from sklearn.metrics import confusion_matrix, ConfusionMatrixDisplay, classification_report, plot_confusion_matrix\n",
    "from sklearn.metrics import plot_roc_curve, roc_curve, roc_auc_score, auc\n",
    "from sklearn.metrics import plot_precision_recall_curve, precision_recall_curve, average_precision_score\n",
    "\n",
    "# Supervised-cross_validate-GridSearchCV\n",
    "from sklearn.model_selection import cross_validate, cross_val_score\n",
    "from sklearn.model_selection import KFold\n",
    "from sklearn.model_selection import GridSearchCV\n",
    "\n",
    "# import pickle\n",
    "\n",
    "random_state = 42"
   ]
  },
  {
   "cell_type": "markdown",
   "metadata": {},
   "source": [
    "## Train | Test Split"
   ]
  },
  {
   "cell_type": "code",
   "execution_count": 62,
   "metadata": {
    "execution": {
     "iopub.execute_input": "2023-05-09T17:05:54.208634Z",
     "iopub.status.busy": "2023-05-09T17:05:54.208234Z",
     "iopub.status.idle": "2023-05-09T17:05:54.254039Z",
     "shell.execute_reply": "2023-05-09T17:05:54.252820Z",
     "shell.execute_reply.started": "2023-05-09T17:05:54.208604Z"
    }
   },
   "outputs": [
    {
     "name": "stdout",
     "output_type": "stream",
     "text": [
      "<class 'pandas.core.frame.DataFrame'>\n",
      "RangeIndex: 100000 entries, 0 to 99999\n",
      "Data columns (total 23 columns):\n",
      " #   Column                    Non-Null Count   Dtype  \n",
      "---  ------                    --------------   -----  \n",
      " 0   Age                       100000 non-null  float64\n",
      " 1   Occupation                100000 non-null  object \n",
      " 2   Annual_Income             100000 non-null  float64\n",
      " 3   Monthly_Inhand_Salary     100000 non-null  float64\n",
      " 4   Num_Bank_Accounts         100000 non-null  float64\n",
      " 5   Num_Credit_Card           100000 non-null  float64\n",
      " 6   Interest_Rate             100000 non-null  float64\n",
      " 7   Num_of_Loan               100000 non-null  float64\n",
      " 8   Type_of_Loan              100000 non-null  object \n",
      " 9   Delay_from_due_date       100000 non-null  float64\n",
      " 10  Num_of_Delayed_Payment    100000 non-null  float64\n",
      " 11  Changed_Credit_Limit      100000 non-null  float64\n",
      " 12  Num_Credit_Inquiries      100000 non-null  float64\n",
      " 13  Credit_Mix                100000 non-null  object \n",
      " 14  Outstanding_Debt          100000 non-null  float64\n",
      " 15  Credit_Utilization_Ratio  100000 non-null  float64\n",
      " 16  Credit_History_Age        100000 non-null  float64\n",
      " 17  Payment_of_Min_Amount     100000 non-null  object \n",
      " 18  Total_EMI_per_month       100000 non-null  float64\n",
      " 19  Amount_invested_monthly   100000 non-null  float64\n",
      " 20  Payment_Behaviour         100000 non-null  object \n",
      " 21  Monthly_Balance           100000 non-null  float64\n",
      " 22  Credit_Score              100000 non-null  object \n",
      "dtypes: float64(17), object(6)\n",
      "memory usage: 17.5+ MB\n"
     ]
    }
   ],
   "source": [
    "df_train.info()"
   ]
  },
  {
   "cell_type": "code",
   "execution_count": 63,
   "metadata": {
    "execution": {
     "iopub.execute_input": "2023-05-09T17:05:55.643879Z",
     "iopub.status.busy": "2023-05-09T17:05:55.642835Z",
     "iopub.status.idle": "2023-05-09T17:05:55.659869Z",
     "shell.execute_reply": "2023-05-09T17:05:55.658646Z",
     "shell.execute_reply.started": "2023-05-09T17:05:55.643825Z"
    }
   },
   "outputs": [
    {
     "data": {
      "text/plain": [
       "Good       0.178\n",
       "Poor       0.290\n",
       "Standard   0.532\n",
       "Name: Credit_Score, dtype: float64"
      ]
     },
     "execution_count": 63,
     "metadata": {},
     "output_type": "execute_result"
    }
   ],
   "source": [
    "df_train[\"Credit_Score\"].value_counts(normalize=True).sort_index()"
   ]
  },
  {
   "cell_type": "code",
   "execution_count": 64,
   "metadata": {
    "execution": {
     "iopub.execute_input": "2023-05-09T17:05:56.835874Z",
     "iopub.status.busy": "2023-05-09T17:05:56.835464Z",
     "iopub.status.idle": "2023-05-09T17:05:56.905142Z",
     "shell.execute_reply": "2023-05-09T17:05:56.903905Z",
     "shell.execute_reply.started": "2023-05-09T17:05:56.835839Z"
    }
   },
   "outputs": [
    {
     "data": {
      "text/plain": [
       "((80000, 22), (80000,), (20000, 22), (20000,), (50000, 22))"
      ]
     },
     "execution_count": 64,
     "metadata": {},
     "output_type": "execute_result"
    }
   ],
   "source": [
    "X      = df_train.drop(columns=\"Credit_Score\")\n",
    "y      = df_train['Credit_Score']\n",
    "X_test = df_test\n",
    "\n",
    "X_train, X_val, y_train, y_val = train_test_split(X, y, test_size=0.2, random_state=random_state)\n",
    "\n",
    "X_train.shape, y_train.shape, X_val.shape, y_val.shape, X_test.shape, "
   ]
  },
  {
   "cell_type": "markdown",
   "metadata": {},
   "source": [
    "## Label Encoder"
   ]
  },
  {
   "cell_type": "code",
   "execution_count": 65,
   "metadata": {
    "execution": {
     "iopub.execute_input": "2023-05-09T17:05:58.994473Z",
     "iopub.status.busy": "2023-05-09T17:05:58.994026Z",
     "iopub.status.idle": "2023-05-09T17:05:59.096290Z",
     "shell.execute_reply": "2023-05-09T17:05:59.094994Z",
     "shell.execute_reply.started": "2023-05-09T17:05:58.994436Z"
    }
   },
   "outputs": [
    {
     "name": "stdout",
     "output_type": "stream",
     "text": [
      "['Good' 'Poor' 'Standard']\n"
     ]
    },
    {
     "data": {
      "text/plain": [
       "0    14301\n",
       "1    23124\n",
       "2    42575\n",
       "dtype: int64"
      ]
     },
     "execution_count": 65,
     "metadata": {},
     "output_type": "execute_result"
    }
   ],
   "source": [
    "from sklearn.preprocessing import LabelEncoder\n",
    "\n",
    "le      = LabelEncoder()\n",
    "print(np.unique(y_train))\n",
    "y_train = le.fit_transform(y_train)\n",
    "y_val   = le.transform(y_val)\n",
    "\n",
    "pd.DataFrame(y_train).value_counts().sort_index()"
   ]
  },
  {
   "cell_type": "code",
   "execution_count": 66,
   "metadata": {
    "execution": {
     "iopub.execute_input": "2023-05-09T17:06:00.288176Z",
     "iopub.status.busy": "2023-05-09T17:06:00.287750Z",
     "iopub.status.idle": "2023-05-09T17:06:00.296394Z",
     "shell.execute_reply": "2023-05-09T17:06:00.295003Z",
     "shell.execute_reply.started": "2023-05-09T17:06:00.288140Z"
    }
   },
   "outputs": [
    {
     "data": {
      "text/plain": [
       "array(['Poor'], dtype=object)"
      ]
     },
     "execution_count": 66,
     "metadata": {},
     "output_type": "execute_result"
    }
   ],
   "source": [
    "# our focus group\n",
    "le.inverse_transform([1])"
   ]
  },
  {
   "cell_type": "markdown",
   "metadata": {},
   "source": [
    "## Dummy Operation\n",
    "\n",
    "https://celik-muhammed.medium.com/how-to-converting-pandas-column-of-comma-separated-strings-into-dummy-variables-762c02282a6c"
   ]
  },
  {
   "cell_type": "code",
   "execution_count": 67,
   "metadata": {
    "execution": {
     "iopub.execute_input": "2023-05-09T17:06:03.719106Z",
     "iopub.status.busy": "2023-05-09T17:06:03.718681Z",
     "iopub.status.idle": "2023-05-09T17:06:03.733003Z",
     "shell.execute_reply": "2023-05-09T17:06:03.732144Z",
     "shell.execute_reply.started": "2023-05-09T17:06:03.719057Z"
    }
   },
   "outputs": [],
   "source": [
    "from sklearn.base import BaseEstimator, TransformerMixin\n",
    "\n",
    "class GetDummies(BaseEstimator, TransformerMixin): \n",
    "    def __init__(self, data_sep=',', col_name_sep='_'):\n",
    "        \"\"\"\n",
    "        Transformer that creates dummy variables from categorical columns with a separator.\n",
    "        Parameters:\n",
    "            - data_sep (str): Separator used to split categorical values into multiple dummy variables.\n",
    "            - col_name_sep (str): Separator used to separate the column name from the prefix in the output column names.\n",
    "        \"\"\"\n",
    "        self.data_sep     = data_sep\n",
    "        self.col_name_sep = col_name_sep\n",
    "        \n",
    "    # Return self nothing else to do here\n",
    "    def fit(self, X, y  = None): \n",
    "        \"\"\"\n",
    "        Fit the transformer to the data.\n",
    "        Parameters:\n",
    "            - X (pandas.DataFrame): Input data with categorical columns.\n",
    "            - y (array-like): Target variable (ignored).\n",
    "        Returns:\n",
    "            - self: Returns the transformer object.\n",
    "        \"\"\"\n",
    "        object_cols       = X.select_dtypes(include=\"object\").columns\n",
    "        self.dummy_cols   = [col for col in object_cols if X[col].str.contains(self.data_sep, regex=True).any()]\n",
    "        self.dummy_prefix = [''.join(map(lambda x: x[0], col.split(self.col_name_sep)))  if self.col_name_sep in col else col[:2]   for col in self.dummy_cols]\n",
    "        \n",
    "        for col, pre in zip(self.dummy_cols, self.dummy_prefix):\n",
    "            dummy_X = X.join(X[col].str.get_dummies(sep=self.data_sep).add_prefix(pre+self.col_name_sep))            \n",
    "            \n",
    "        dummy_X.drop(columns = self.dummy_cols, inplace=True)\n",
    "        self.columns = dummy_X.columns\n",
    "        return self\n",
    "    \n",
    "    # Transformer method we wrote for this transformer\n",
    "    def transform(self, X, y = None):\n",
    "        \"\"\"\n",
    "        Transform the input data by creating dummy variables.\n",
    "        Parameters:\n",
    "            - X (pandas.DataFrame): Input data with categorical columns.\n",
    "            - y (array-like): Target variable (ignored).\n",
    "        Returns:\n",
    "            - X_transformed (pandas.DataFrame): Transformed data with dummy variables.\n",
    "        \"\"\"\n",
    "        for col, pre in zip(self.dummy_cols, self.dummy_prefix):\n",
    "            X_transformed = X.join(X[col].str.get_dummies(sep=self.data_sep).add_prefix(pre+self.col_name_sep))   \n",
    "\n",
    "        X_transformed = X_transformed.reindex(columns=self.columns, fill_value=0)          \n",
    "        return X_transformed\n",
    "        \n",
    "    # to get feature names    \n",
    "    def get_feature_names_out(self, input_features=None):\n",
    "        \"\"\"\n",
    "        Get the names of the transformed features.\n",
    "        Parameters:\n",
    "            - input_features (array-like): Names of the input features (ignored).\n",
    "        Returns:\n",
    "            - output_features (list): Names of the transformed features.\n",
    "        \"\"\"\n",
    "        return self.columns.tolist()"
   ]
  },
  {
   "cell_type": "code",
   "execution_count": 68,
   "metadata": {
    "execution": {
     "iopub.execute_input": "2023-05-09T17:06:05.209467Z",
     "iopub.status.busy": "2023-05-09T17:06:05.208407Z",
     "iopub.status.idle": "2023-05-09T17:06:05.419557Z",
     "shell.execute_reply": "2023-05-09T17:06:05.418424Z",
     "shell.execute_reply.started": "2023-05-09T17:06:05.209428Z"
    }
   },
   "outputs": [
    {
     "data": {
      "text/plain": [
       "['Type_of_Loan']"
      ]
     },
     "execution_count": 68,
     "metadata": {},
     "output_type": "execute_result"
    }
   ],
   "source": [
    "# check for columns containing commas\n",
    "[col for col in X_train.select_dtypes('O').columns if X_train[col].str.contains(',', regex=True).any()]"
   ]
  },
  {
   "cell_type": "code",
   "execution_count": 69,
   "metadata": {
    "execution": {
     "iopub.execute_input": "2023-05-09T17:06:07.495830Z",
     "iopub.status.busy": "2023-05-09T17:06:07.495433Z",
     "iopub.status.idle": "2023-05-09T17:06:08.889113Z",
     "shell.execute_reply": "2023-05-09T17:06:08.888038Z",
     "shell.execute_reply.started": "2023-05-09T17:06:07.495791Z"
    }
   },
   "outputs": [
    {
     "data": {
      "text/plain": [
       "((80000, 31), (20000, 31))"
      ]
     },
     "execution_count": 69,
     "metadata": {},
     "output_type": "execute_result"
    }
   ],
   "source": [
    "dummy = GetDummies()\n",
    "\n",
    "X_train_dummy = dummy.fit_transform(X_train)\n",
    "X_val_dummy   = dummy.transform(X_val)\n",
    "\n",
    "X_train_dummy.shape, X_val_dummy.shape"
   ]
  },
  {
   "cell_type": "code",
   "execution_count": 70,
   "metadata": {
    "execution": {
     "iopub.execute_input": "2023-05-09T17:06:09.118460Z",
     "iopub.status.busy": "2023-05-09T17:06:09.118012Z",
     "iopub.status.idle": "2023-05-09T17:06:09.152614Z",
     "shell.execute_reply": "2023-05-09T17:06:09.151501Z",
     "shell.execute_reply.started": "2023-05-09T17:06:09.118423Z"
    }
   },
   "outputs": [
    {
     "name": "stdout",
     "output_type": "stream",
     "text": [
      "<class 'pandas.core.frame.DataFrame'>\n",
      "Int64Index: 80000 entries, 75220 to 15795\n",
      "Data columns (total 31 columns):\n",
      " #   Column                       Non-Null Count  Dtype  \n",
      "---  ------                       --------------  -----  \n",
      " 0   Age                          80000 non-null  float64\n",
      " 1   Occupation                   80000 non-null  object \n",
      " 2   Annual_Income                80000 non-null  float64\n",
      " 3   Monthly_Inhand_Salary        80000 non-null  float64\n",
      " 4   Num_Bank_Accounts            80000 non-null  float64\n",
      " 5   Num_Credit_Card              80000 non-null  float64\n",
      " 6   Interest_Rate                80000 non-null  float64\n",
      " 7   Num_of_Loan                  80000 non-null  float64\n",
      " 8   Delay_from_due_date          80000 non-null  float64\n",
      " 9   Num_of_Delayed_Payment       80000 non-null  float64\n",
      " 10  Changed_Credit_Limit         80000 non-null  float64\n",
      " 11  Num_Credit_Inquiries         80000 non-null  float64\n",
      " 12  Credit_Mix                   80000 non-null  object \n",
      " 13  Outstanding_Debt             80000 non-null  float64\n",
      " 14  Credit_Utilization_Ratio     80000 non-null  float64\n",
      " 15  Credit_History_Age           80000 non-null  float64\n",
      " 16  Payment_of_Min_Amount        80000 non-null  object \n",
      " 17  Total_EMI_per_month          80000 non-null  float64\n",
      " 18  Amount_invested_monthly      80000 non-null  float64\n",
      " 19  Payment_Behaviour            80000 non-null  object \n",
      " 20  Monthly_Balance              80000 non-null  float64\n",
      " 21  ToL_No Data                  80000 non-null  int64  \n",
      " 22  ToL_auto loan                80000 non-null  int64  \n",
      " 23  ToL_credit-builder loan      80000 non-null  int64  \n",
      " 24  ToL_debt consolidation loan  80000 non-null  int64  \n",
      " 25  ToL_home equity loan         80000 non-null  int64  \n",
      " 26  ToL_mortgage loan            80000 non-null  int64  \n",
      " 27  ToL_not specified            80000 non-null  int64  \n",
      " 28  ToL_payday loan              80000 non-null  int64  \n",
      " 29  ToL_personal loan            80000 non-null  int64  \n",
      " 30  ToL_student loan             80000 non-null  int64  \n",
      "dtypes: float64(17), int64(10), object(4)\n",
      "memory usage: 21.5+ MB\n"
     ]
    }
   ],
   "source": [
    "X_train_dummy.info()"
   ]
  },
  {
   "cell_type": "markdown",
   "metadata": {},
   "source": [
    "## OneHotEncoder and LabelEncoder\n",
    "\n",
    "- Nominal data represents categories without any inherent order or hierarchy. Each category is independent of others. One-hot encoding is commonly used for nominal data."
   ]
  },
  {
   "cell_type": "code",
   "execution_count": 71,
   "metadata": {
    "execution": {
     "iopub.execute_input": "2023-05-09T17:06:45.427030Z",
     "iopub.status.busy": "2023-05-09T17:06:45.426620Z",
     "iopub.status.idle": "2023-05-09T17:06:45.621738Z",
     "shell.execute_reply": "2023-05-09T17:06:45.620780Z",
     "shell.execute_reply.started": "2023-05-09T17:06:45.426997Z"
    }
   },
   "outputs": [
    {
     "name": "stdout",
     "output_type": "stream",
     "text": [
      "OneHotEncoder: ['Occupation', 'Credit_Mix', 'Payment_of_Min_Amount', 'Payment_Behaviour']\n"
     ]
    },
    {
     "data": {
      "text/plain": [
       "((80000, 54), (20000, 54))"
      ]
     },
     "execution_count": 71,
     "metadata": {},
     "output_type": "execute_result"
    }
   ],
   "source": [
    "from sklearn.preprocessing import OneHotEncoder\n",
    "\n",
    "cat = X_train_dummy.select_dtypes(include=\"object\").columns.tolist()   \n",
    "print('OneHotEncoder:', cat)\n",
    "ohe = OneHotEncoder(handle_unknown=\"ignore\", sparse=False)\n",
    "\n",
    "X_train_cat = pd.DataFrame(\n",
    "    ohe.fit_transform(X_train_dummy[cat]), index = X_train_dummy.index, \n",
    "    columns = ohe.get_feature_names_out(cat)\n",
    ")    \n",
    "X_val_cat  = pd.DataFrame(\n",
    "    ohe.transform(X_val_dummy[cat]), index = X_val_dummy.index, \n",
    "    columns = ohe.get_feature_names_out(cat)\n",
    ")    \n",
    "X_train_ohe = X_train_cat.join(X_train_dummy.select_dtypes(\"number\"))\n",
    "X_val_ohe   = X_val_cat.join(X_val_dummy.select_dtypes(\"number\"))\n",
    "\n",
    "X_train_ohe.shape, X_val_ohe.shape"
   ]
  },
  {
   "cell_type": "code",
   "execution_count": 24,
   "metadata": {
    "execution": {
     "iopub.execute_input": "2023-05-09T16:51:29.311555Z",
     "iopub.status.busy": "2023-05-09T16:51:29.310291Z",
     "iopub.status.idle": "2023-05-09T16:51:29.319531Z",
     "shell.execute_reply": "2023-05-09T16:51:29.318312Z",
     "shell.execute_reply.started": "2023-05-09T16:51:29.311508Z"
    }
   },
   "outputs": [
    {
     "data": {
      "text/plain": [
       "Index(['Occupation_Accountant', 'Occupation_Architect', 'Occupation_Developer',\n",
       "       'Occupation_Doctor', 'Occupation_Engineer', 'Occupation_Entrepreneur',\n",
       "       'Occupation_Journalist', 'Occupation_Lawyer', 'Occupation_Manager',\n",
       "       'Occupation_Mechanic', 'Occupation_Media_Manager',\n",
       "       'Occupation_Musician', 'Occupation_Scientist', 'Occupation_Teacher',\n",
       "       'Occupation_Writer', 'Credit_Mix_Bad', 'Credit_Mix_Good',\n",
       "       'Credit_Mix_Standard', 'Payment_of_Min_Amount_NM',\n",
       "       'Payment_of_Min_Amount_No', 'Payment_of_Min_Amount_Yes',\n",
       "       'Payment_Behaviour_High_spent_Large_value_payments',\n",
       "       'Payment_Behaviour_High_spent_Medium_value_payments',\n",
       "       'Payment_Behaviour_High_spent_Small_value_payments',\n",
       "       'Payment_Behaviour_Low_spent_Large_value_payments',\n",
       "       'Payment_Behaviour_Low_spent_Medium_value_payments',\n",
       "       'Payment_Behaviour_Low_spent_Small_value_payments', 'Age',\n",
       "       'Annual_Income', 'Monthly_Inhand_Salary', 'Num_Bank_Accounts',\n",
       "       'Num_Credit_Card', 'Interest_Rate', 'Num_of_Loan',\n",
       "       'Delay_from_due_date', 'Num_of_Delayed_Payment', 'Changed_Credit_Limit',\n",
       "       'Num_Credit_Inquiries', 'Outstanding_Debt', 'Credit_Utilization_Ratio',\n",
       "       'Credit_History_Age', 'Total_EMI_per_month', 'Amount_invested_monthly',\n",
       "       'Monthly_Balance', 'ToL_No Data', 'ToL_auto loan',\n",
       "       'ToL_credit-builder loan', 'ToL_debt consolidation loan',\n",
       "       'ToL_home equity loan', 'ToL_mortgage loan', 'ToL_not specified',\n",
       "       'ToL_payday loan', 'ToL_personal loan', 'ToL_student loan'],\n",
       "      dtype='object')"
      ]
     },
     "execution_count": 24,
     "metadata": {},
     "output_type": "execute_result"
    }
   ],
   "source": [
    "X_train_ohe.columns"
   ]
  },
  {
   "cell_type": "markdown",
   "metadata": {},
   "source": [
    "## Scale data"
   ]
  },
  {
   "cell_type": "code",
   "execution_count": 25,
   "metadata": {
    "execution": {
     "iopub.execute_input": "2023-05-09T16:52:00.850421Z",
     "iopub.status.busy": "2023-05-09T16:52:00.849954Z",
     "iopub.status.idle": "2023-05-09T16:52:00.978360Z",
     "shell.execute_reply": "2023-05-09T16:52:00.977013Z",
     "shell.execute_reply.started": "2023-05-09T16:52:00.850385Z"
    }
   },
   "outputs": [],
   "source": [
    "scaler = MinMaxScaler()\n",
    "\n",
    "X_train_scaled = pd.DataFrame(scaler.fit_transform(X_train_ohe), columns=X_train_ohe.columns)\n",
    "X_val_scaled   = pd.DataFrame(scaler.transform(X_val_ohe), columns=X_val_ohe.columns)"
   ]
  },
  {
   "cell_type": "markdown",
   "metadata": {},
   "source": [
    "## Define Model Evaluation Functions"
   ]
  },
  {
   "cell_type": "code",
   "execution_count": 26,
   "metadata": {
    "execution": {
     "iopub.execute_input": "2023-05-09T16:52:12.883323Z",
     "iopub.status.busy": "2023-05-09T16:52:12.882872Z",
     "iopub.status.idle": "2023-05-09T16:52:12.890670Z",
     "shell.execute_reply": "2023-05-09T16:52:12.889414Z",
     "shell.execute_reply.started": "2023-05-09T16:52:12.883286Z"
    }
   },
   "outputs": [],
   "source": [
    "from sklearn.metrics import confusion_matrix, classification_report \n",
    "\n",
    "def eval(model, X_train, X_val, y_train=y_train, y_val=y_val):\n",
    "    print('TEST')\n",
    "    y_val_pred = model.predict(X_val)\n",
    "    print(confusion_matrix(y_val, y_val_pred))\n",
    "    print(classification_report(y_val, y_val_pred))\n",
    "    print(\"-------------------------------------------------------\")\n",
    "    print('TRAIN')\n",
    "    y_train_pred = model.predict(X_train)\n",
    "    print(confusion_matrix(y_train, y_train_pred))\n",
    "    print(classification_report(y_train, y_train_pred))"
   ]
  },
  {
   "cell_type": "code",
   "execution_count": 27,
   "metadata": {
    "execution": {
     "iopub.execute_input": "2023-05-09T16:52:15.900143Z",
     "iopub.status.busy": "2023-05-09T16:52:15.899137Z",
     "iopub.status.idle": "2023-05-09T16:52:15.909876Z",
     "shell.execute_reply": "2023-05-09T16:52:15.908418Z",
     "shell.execute_reply.started": "2023-05-09T16:52:15.900085Z"
    }
   },
   "outputs": [
    {
     "data": {
      "text/plain": [
       "make_scorer(recall_score, average=None, labels=[1])"
      ]
     },
     "execution_count": 27,
     "metadata": {},
     "output_type": "execute_result"
    }
   ],
   "source": [
    "from sklearn.metrics import precision_score, recall_score, f1_score, accuracy_score\n",
    "from sklearn.metrics import roc_auc_score, auc\n",
    "from sklearn.metrics import make_scorer\n",
    "\n",
    "# for multi-class\n",
    "scoring = {\n",
    "    'precision': make_scorer(precision_score, average=None, labels=[1]),\n",
    "    'recall'   : make_scorer(recall_score, average=None, labels=[1]),\n",
    "    'f1'       : make_scorer(f1_score, average=None, labels=[1]),\n",
    "    'accuracy' : make_scorer(accuracy_score),\n",
    "} \n",
    "# Identify people with low credit scores\n",
    "# recall_1    = make_scorer(recall_score, average = None, labels=[1])\n",
    "scoring['recall'] \n",
    "# log_loss_neg = make_scorer(log_loss, greater_is_better=False, needs_proba=True)"
   ]
  },
  {
   "cell_type": "code",
   "execution_count": 28,
   "metadata": {
    "execution": {
     "iopub.execute_input": "2023-05-09T16:52:17.647154Z",
     "iopub.status.busy": "2023-05-09T16:52:17.646701Z",
     "iopub.status.idle": "2023-05-09T16:52:17.671626Z",
     "shell.execute_reply": "2023-05-09T16:52:17.670366Z",
     "shell.execute_reply.started": "2023-05-09T16:52:17.647107Z"
    }
   },
   "outputs": [
    {
     "data": {
      "text/plain": [
       "{0: 1.8646714681956973, 1: 1.153203021391916, 2: 0.6263456645136034}"
      ]
     },
     "execution_count": 28,
     "metadata": {},
     "output_type": "execute_result"
    }
   ],
   "source": [
    "from sklearn.utils import class_weight\n",
    "\n",
    "class_weights = dict(\n",
    "    zip(np.unique(y_train),\n",
    "        class_weight.compute_class_weight(\n",
    "            class_weight = 'balanced',\n",
    "            classes = np.unique(y_train), \n",
    "            y = y_train)\n",
    "))\n",
    "class_weights"
   ]
  },
  {
   "cell_type": "code",
   "execution_count": 29,
   "metadata": {
    "execution": {
     "iopub.execute_input": "2023-05-09T16:52:18.869827Z",
     "iopub.status.busy": "2023-05-09T16:52:18.869390Z",
     "iopub.status.idle": "2023-05-09T16:52:18.897263Z",
     "shell.execute_reply": "2023-05-09T16:52:18.895992Z",
     "shell.execute_reply.started": "2023-05-09T16:52:18.869791Z"
    }
   },
   "outputs": [
    {
     "data": {
      "text/plain": [
       "array([0.62634566, 1.86467147, 1.15320302])"
      ]
     },
     "execution_count": 29,
     "metadata": {},
     "output_type": "execute_result"
    }
   ],
   "source": [
    "from sklearn.utils import class_weight\n",
    "sample_weight = class_weight.compute_sample_weight(class_weight='balanced', y=y_train)\n",
    "pd.unique(sample_weight)"
   ]
  },
  {
   "cell_type": "code",
   "execution_count": 30,
   "metadata": {
    "execution": {
     "iopub.execute_input": "2023-05-09T16:52:22.427765Z",
     "iopub.status.busy": "2023-05-09T16:52:22.427324Z",
     "iopub.status.idle": "2023-05-09T16:52:22.449190Z",
     "shell.execute_reply": "2023-05-09T16:52:22.448252Z",
     "shell.execute_reply.started": "2023-05-09T16:52:22.427727Z"
    }
   },
   "outputs": [
    {
     "data": {
      "text/plain": [
       "{2: 1.0, 0: 2.977064540941193, 1: 1.841160698841031}"
      ]
     },
     "execution_count": 30,
     "metadata": {},
     "output_type": "execute_result"
    }
   ],
   "source": [
    "from collections import Counter\n",
    "\n",
    "counter = Counter(y_train)                          \n",
    "max_val = float(max(counter.values()))       \n",
    "class_weights = {class_id : max_val/count for class_id, count in counter.items()}  \n",
    "class_weights"
   ]
  },
  {
   "cell_type": "code",
   "execution_count": 31,
   "metadata": {
    "execution": {
     "iopub.execute_input": "2023-05-09T16:52:24.168913Z",
     "iopub.status.busy": "2023-05-09T16:52:24.168139Z",
     "iopub.status.idle": "2023-05-09T16:52:24.181397Z",
     "shell.execute_reply": "2023-05-09T16:52:24.180211Z",
     "shell.execute_reply.started": "2023-05-09T16:52:24.168873Z"
    }
   },
   "outputs": [
    {
     "data": {
      "text/plain": [
       "0   0.179\n",
       "1   0.289\n",
       "2   0.532\n",
       "dtype: float64"
      ]
     },
     "execution_count": 31,
     "metadata": {},
     "output_type": "execute_result"
    }
   ],
   "source": [
    "pd.value_counts(y_train, normalize=True).sort_index()"
   ]
  },
  {
   "cell_type": "code",
   "execution_count": 32,
   "metadata": {
    "execution": {
     "iopub.execute_input": "2023-05-09T16:52:25.418621Z",
     "iopub.status.busy": "2023-05-09T16:52:25.417584Z",
     "iopub.status.idle": "2023-05-09T16:52:25.429024Z",
     "shell.execute_reply": "2023-05-09T16:52:25.427806Z",
     "shell.execute_reply.started": "2023-05-09T16:52:25.418581Z"
    }
   },
   "outputs": [
    {
     "data": {
      "text/plain": [
       "2   1.000\n",
       "1   1.841\n",
       "0   2.977\n",
       "dtype: float64"
      ]
     },
     "execution_count": 32,
     "metadata": {},
     "output_type": "execute_result"
    }
   ],
   "source": [
    "# Step 1: Compute normalized class proportions\n",
    "class_proportions = pd.value_counts(y_train, normalize=True)\n",
    "\n",
    "# Step 2: Determine maximum class proportion\n",
    "max_proportion = class_proportions.max()\n",
    "\n",
    "# Step 3: Calculate class weights\n",
    "class_weights = max_proportion / class_proportions\n",
    "class_weights "
   ]
  },
  {
   "cell_type": "markdown",
   "metadata": {},
   "source": [
    "# 01. Implement Logistic Regression Model"
   ]
  },
  {
   "cell_type": "code",
   "execution_count": 33,
   "metadata": {
    "execution": {
     "iopub.execute_input": "2023-05-09T16:52:27.656528Z",
     "iopub.status.busy": "2023-05-09T16:52:27.656034Z",
     "iopub.status.idle": "2023-05-09T16:52:27.662190Z",
     "shell.execute_reply": "2023-05-09T16:52:27.660928Z",
     "shell.execute_reply.started": "2023-05-09T16:52:27.656490Z"
    }
   },
   "outputs": [],
   "source": [
    "log_reg = LogisticRegression(\n",
    "    class_weight = \"balanced\",\n",
    "    random_state = random_state,\n",
    "    max_iter     = 10000\n",
    ")"
   ]
  },
  {
   "cell_type": "code",
   "execution_count": 34,
   "metadata": {
    "execution": {
     "iopub.execute_input": "2023-05-09T16:52:29.318377Z",
     "iopub.status.busy": "2023-05-09T16:52:29.317895Z",
     "iopub.status.idle": "2023-05-09T16:52:57.856906Z",
     "shell.execute_reply": "2023-05-09T16:52:57.855599Z",
     "shell.execute_reply.started": "2023-05-09T16:52:29.318333Z"
    }
   },
   "outputs": [
    {
     "name": "stdout",
     "output_type": "stream",
     "text": [
      "CPU times: user 1min 8s, sys: 41.8 s, total: 1min 50s\n",
      "Wall time: 28.5 s\n"
     ]
    },
    {
     "data": {
      "text/plain": [
       "LogisticRegression(class_weight='balanced', max_iter=10000, random_state=42)"
      ]
     },
     "execution_count": 34,
     "metadata": {},
     "output_type": "execute_result"
    }
   ],
   "source": [
    "%%time\n",
    "log_reg.fit(X_train_scaled, y_train)"
   ]
  },
  {
   "cell_type": "code",
   "execution_count": 35,
   "metadata": {
    "execution": {
     "iopub.execute_input": "2023-05-09T16:52:57.859931Z",
     "iopub.status.busy": "2023-05-09T16:52:57.859109Z",
     "iopub.status.idle": "2023-05-09T16:52:58.206858Z",
     "shell.execute_reply": "2023-05-09T16:52:58.205594Z",
     "shell.execute_reply.started": "2023-05-09T16:52:57.859883Z"
    }
   },
   "outputs": [
    {
     "name": "stdout",
     "output_type": "stream",
     "text": [
      "LOG MODEL\n",
      "TEST\n",
      "[[2939   97  491]\n",
      " [ 887 4042  945]\n",
      " [2065 2186 6348]]\n",
      "              precision    recall  f1-score   support\n",
      "\n",
      "           0       0.50      0.83      0.62      3527\n",
      "           1       0.64      0.69      0.66      5874\n",
      "           2       0.82      0.60      0.69     10599\n",
      "\n",
      "    accuracy                           0.67     20000\n",
      "   macro avg       0.65      0.71      0.66     20000\n",
      "weighted avg       0.71      0.67      0.67     20000\n",
      "\n",
      "-------------------------------------------------------\n",
      "TRAIN\n",
      "[[11983   381  1937]\n",
      " [ 3693 15786  3645]\n",
      " [ 8490  8583 25502]]\n",
      "              precision    recall  f1-score   support\n",
      "\n",
      "           0       0.50      0.84      0.62     14301\n",
      "           1       0.64      0.68      0.66     23124\n",
      "           2       0.82      0.60      0.69     42575\n",
      "\n",
      "    accuracy                           0.67     80000\n",
      "   macro avg       0.65      0.71      0.66     80000\n",
      "weighted avg       0.71      0.67      0.67     80000\n",
      "\n"
     ]
    }
   ],
   "source": [
    "print(\"LOG MODEL\")\n",
    "eval(log_reg, X_train_scaled, X_val_scaled)"
   ]
  },
  {
   "cell_type": "markdown",
   "metadata": {},
   "source": [
    "## With Best Parameters (GridsearchCV)"
   ]
  },
  {
   "cell_type": "code",
   "execution_count": 36,
   "metadata": {
    "execution": {
     "iopub.execute_input": "2023-05-09T16:52:58.209316Z",
     "iopub.status.busy": "2023-05-09T16:52:58.208423Z",
     "iopub.status.idle": "2023-05-09T16:52:58.217734Z",
     "shell.execute_reply": "2023-05-09T16:52:58.216359Z",
     "shell.execute_reply.started": "2023-05-09T16:52:58.209275Z"
    }
   },
   "outputs": [],
   "source": [
    "from sklearn.model_selection import GridSearchCV\n",
    "from sklearn.metrics import make_scorer\n",
    "\n",
    "model = LogisticRegression(   \n",
    "    class_weight = \"balanced\",\n",
    "    random_state = random_state,\n",
    "    max_iter     = 10000\n",
    ")\n",
    "param_grid = {\n",
    "    \"penalty\"     : [\"l1\", \"l2\"],\n",
    "    \"C\"           : np.linspace(0.01, 1, 2).round(3),\n",
    "    \"class_weight\": [\"balanced\"],\n",
    "    \"solver\"      : [\"saga\", \"liblinear\"]\n",
    "}\n",
    "grid_model_log = GridSearchCV(\n",
    "    estimator=model,\n",
    "    param_grid = param_grid, \n",
    "    scoring = scoring['recall'],\n",
    "    error_score=\"raise\",\n",
    "    n_jobs=-1,\n",
    "    cv=5\n",
    ") "
   ]
  },
  {
   "cell_type": "code",
   "execution_count": 37,
   "metadata": {
    "execution": {
     "iopub.execute_input": "2023-05-09T16:52:58.222422Z",
     "iopub.status.busy": "2023-05-09T16:52:58.220866Z",
     "iopub.status.idle": "2023-05-09T16:57:12.639613Z",
     "shell.execute_reply": "2023-05-09T16:57:12.638309Z",
     "shell.execute_reply.started": "2023-05-09T16:52:58.222370Z"
    }
   },
   "outputs": [
    {
     "name": "stdout",
     "output_type": "stream",
     "text": [
      "CPU times: user 18.3 s, sys: 160 ms, total: 18.4 s\n",
      "Wall time: 4min 14s\n"
     ]
    },
    {
     "data": {
      "text/plain": [
       "GridSearchCV(cv=5, error_score='raise',\n",
       "             estimator=LogisticRegression(class_weight='balanced',\n",
       "                                          max_iter=10000, random_state=42),\n",
       "             n_jobs=-1,\n",
       "             param_grid={'C': array([0.01, 1.  ]), 'class_weight': ['balanced'],\n",
       "                         'penalty': ['l1', 'l2'],\n",
       "                         'solver': ['saga', 'liblinear']},\n",
       "             scoring=make_scorer(recall_score, average=None, labels=[1]))"
      ]
     },
     "execution_count": 37,
     "metadata": {},
     "output_type": "execute_result"
    }
   ],
   "source": [
    "%%time\n",
    "grid_model_log.fit(X_train_scaled, y_train)"
   ]
  },
  {
   "cell_type": "code",
   "execution_count": 104,
   "metadata": {
    "execution": {
     "iopub.execute_input": "2023-05-09T17:54:09.809297Z",
     "iopub.status.busy": "2023-05-09T17:54:09.808658Z",
     "iopub.status.idle": "2023-05-09T17:54:09.816508Z",
     "shell.execute_reply": "2023-05-09T17:54:09.815406Z",
     "shell.execute_reply.started": "2023-05-09T17:54:09.809259Z"
    }
   },
   "outputs": [
    {
     "data": {
      "text/plain": [
       "({'C': 1.0, 'class_weight': 'balanced', 'penalty': 'l1', 'solver': 'saga'},\n",
       " 0.6822348452258487)"
      ]
     },
     "execution_count": 104,
     "metadata": {},
     "output_type": "execute_result"
    }
   ],
   "source": [
    "# Get the best hyperparameters\n",
    "best_paramsl_log = grid_model_log.best_params_\n",
    "\n",
    "best_paramsl_log, grid_model_log.best_score_"
   ]
  },
  {
   "cell_type": "code",
   "execution_count": 39,
   "metadata": {
    "execution": {
     "iopub.execute_input": "2023-05-09T16:57:12.653277Z",
     "iopub.status.busy": "2023-05-09T16:57:12.652852Z",
     "iopub.status.idle": "2023-05-09T16:57:12.994771Z",
     "shell.execute_reply": "2023-05-09T16:57:12.993713Z",
     "shell.execute_reply.started": "2023-05-09T16:57:12.653241Z"
    }
   },
   "outputs": [
    {
     "name": "stdout",
     "output_type": "stream",
     "text": [
      "GRID LOG MODEL BALANCED\n",
      "TEST\n",
      "[[2940   96  491]\n",
      " [ 887 4041  946]\n",
      " [2066 2184 6349]]\n",
      "              precision    recall  f1-score   support\n",
      "\n",
      "           0       0.50      0.83      0.62      3527\n",
      "           1       0.64      0.69      0.66      5874\n",
      "           2       0.82      0.60      0.69     10599\n",
      "\n",
      "    accuracy                           0.67     20000\n",
      "   macro avg       0.65      0.71      0.66     20000\n",
      "weighted avg       0.71      0.67      0.67     20000\n",
      "\n",
      "-------------------------------------------------------\n",
      "TRAIN\n",
      "[[11989   378  1934]\n",
      " [ 3693 15795  3636]\n",
      " [ 8491  8581 25503]]\n",
      "              precision    recall  f1-score   support\n",
      "\n",
      "           0       0.50      0.84      0.62     14301\n",
      "           1       0.64      0.68      0.66     23124\n",
      "           2       0.82      0.60      0.69     42575\n",
      "\n",
      "    accuracy                           0.67     80000\n",
      "   macro avg       0.65      0.71      0.66     80000\n",
      "weighted avg       0.71      0.67      0.67     80000\n",
      "\n"
     ]
    }
   ],
   "source": [
    "print(\"GRID LOG MODEL BALANCED\")\n",
    "eval(grid_model_log, X_train_scaled, X_val_scaled)"
   ]
  },
  {
   "cell_type": "markdown",
   "metadata": {},
   "source": [
    "# 02. Implement Random Forest Classifier Model"
   ]
  },
  {
   "cell_type": "markdown",
   "metadata": {},
   "source": [
    "## OrdinalEncoder\n",
    "\n",
    "- Ordinal data represents categories with a specific order or hierarchy. Ordinal encoding is suitable for ordinal data."
   ]
  },
  {
   "cell_type": "code",
   "execution_count": 72,
   "metadata": {
    "execution": {
     "iopub.execute_input": "2023-05-09T17:24:28.461544Z",
     "iopub.status.busy": "2023-05-09T17:24:28.461044Z",
     "iopub.status.idle": "2023-05-09T17:24:28.467081Z",
     "shell.execute_reply": "2023-05-09T17:24:28.466132Z",
     "shell.execute_reply.started": "2023-05-09T17:24:28.461506Z"
    }
   },
   "outputs": [
    {
     "name": "stdout",
     "output_type": "stream",
     "text": [
      "1.0.2\n"
     ]
    }
   ],
   "source": [
    "import sklearn; print(sklearn.__version__)"
   ]
  },
  {
   "cell_type": "code",
   "execution_count": 145,
   "metadata": {
    "execution": {
     "iopub.execute_input": "2023-05-09T18:15:04.453440Z",
     "iopub.status.busy": "2023-05-09T18:15:04.452585Z",
     "iopub.status.idle": "2023-05-09T18:15:04.624108Z",
     "shell.execute_reply": "2023-05-09T18:15:04.622947Z",
     "shell.execute_reply.started": "2023-05-09T18:15:04.453392Z"
    }
   },
   "outputs": [
    {
     "name": "stdout",
     "output_type": "stream",
     "text": [
      "OrdinalEncoder: ['Occupation', 'Credit_Mix', 'Payment_of_Min_Amount', 'Payment_Behaviour']\n"
     ]
    },
    {
     "data": {
      "text/plain": [
       "((80000, 31), (20000, 31))"
      ]
     },
     "execution_count": 145,
     "metadata": {},
     "output_type": "execute_result"
    }
   ],
   "source": [
    "from sklearn.preprocessing import OrdinalEncoder\n",
    "\n",
    "cat = X_train_dummy.select_dtypes(include=\"object\").columns.to_list()    \n",
    "print('OrdinalEncoder:', cat) \n",
    "enc = OrdinalEncoder(handle_unknown='use_encoded_value', unknown_value=-1)\n",
    "\n",
    "X_train_cat = pd.DataFrame(\n",
    "    enc.fit_transform(X_train_dummy[cat]), index = X_train_dummy.index, \n",
    "    columns = enc.feature_names_in_\n",
    ")    \n",
    "X_val_cat  = pd.DataFrame(\n",
    "    enc.transform(X_val_dummy[cat]), index = X_val_dummy.index, \n",
    "    columns = enc.feature_names_in_\n",
    ")    \n",
    "X_train_enc = X_train_cat.join(X_train_dummy.select_dtypes(\"number\"))\n",
    "X_val_enc   = X_val_cat.join(X_val_dummy.select_dtypes(\"number\"))\n",
    "\n",
    "X_train_enc.shape, X_val_enc.shape"
   ]
  },
  {
   "cell_type": "code",
   "execution_count": 75,
   "metadata": {
    "execution": {
     "iopub.execute_input": "2023-05-09T17:24:39.091106Z",
     "iopub.status.busy": "2023-05-09T17:24:39.090686Z",
     "iopub.status.idle": "2023-05-09T17:24:39.099817Z",
     "shell.execute_reply": "2023-05-09T17:24:39.098512Z",
     "shell.execute_reply.started": "2023-05-09T17:24:39.091046Z"
    }
   },
   "outputs": [
    {
     "data": {
      "text/plain": [
       "Index(['Occupation', 'Credit_Mix', 'Payment_of_Min_Amount',\n",
       "       'Payment_Behaviour', 'Age', 'Annual_Income', 'Monthly_Inhand_Salary',\n",
       "       'Num_Bank_Accounts', 'Num_Credit_Card', 'Interest_Rate', 'Num_of_Loan',\n",
       "       'Delay_from_due_date', 'Num_of_Delayed_Payment', 'Changed_Credit_Limit',\n",
       "       'Num_Credit_Inquiries', 'Outstanding_Debt', 'Credit_Utilization_Ratio',\n",
       "       'Credit_History_Age', 'Total_EMI_per_month', 'Amount_invested_monthly',\n",
       "       'Monthly_Balance', 'ToL_No Data', 'ToL_auto loan',\n",
       "       'ToL_credit-builder loan', 'ToL_debt consolidation loan',\n",
       "       'ToL_home equity loan', 'ToL_mortgage loan', 'ToL_not specified',\n",
       "       'ToL_payday loan', 'ToL_personal loan', 'ToL_student loan'],\n",
       "      dtype='object')"
      ]
     },
     "execution_count": 75,
     "metadata": {},
     "output_type": "execute_result"
    }
   ],
   "source": [
    "X_train_enc.columns"
   ]
  },
  {
   "cell_type": "markdown",
   "metadata": {},
   "source": [
    "## RandomForestClassifier"
   ]
  },
  {
   "cell_type": "code",
   "execution_count": 76,
   "metadata": {
    "execution": {
     "iopub.execute_input": "2023-05-09T17:24:41.727650Z",
     "iopub.status.busy": "2023-05-09T17:24:41.727234Z",
     "iopub.status.idle": "2023-05-09T17:24:41.732742Z",
     "shell.execute_reply": "2023-05-09T17:24:41.731937Z",
     "shell.execute_reply.started": "2023-05-09T17:24:41.727616Z"
    }
   },
   "outputs": [],
   "source": [
    "from sklearn.ensemble import RandomForestClassifier\n",
    "\n",
    "rfc = RandomForestClassifier(\n",
    "    class_weight = 'balanced',\n",
    "    random_state=random_state\n",
    ")"
   ]
  },
  {
   "cell_type": "code",
   "execution_count": 77,
   "metadata": {
    "execution": {
     "iopub.execute_input": "2023-05-09T17:24:42.537355Z",
     "iopub.status.busy": "2023-05-09T17:24:42.536368Z",
     "iopub.status.idle": "2023-05-09T17:25:13.943208Z",
     "shell.execute_reply": "2023-05-09T17:25:13.942118Z",
     "shell.execute_reply.started": "2023-05-09T17:24:42.537316Z"
    }
   },
   "outputs": [
    {
     "name": "stdout",
     "output_type": "stream",
     "text": [
      "CPU times: user 31.3 s, sys: 88.7 ms, total: 31.4 s\n",
      "Wall time: 31.4 s\n"
     ]
    },
    {
     "data": {
      "text/plain": [
       "RandomForestClassifier(class_weight='balanced', random_state=42)"
      ]
     },
     "execution_count": 77,
     "metadata": {},
     "output_type": "execute_result"
    }
   ],
   "source": [
    "%%time\n",
    "rfc.fit(X_train_enc, y_train)"
   ]
  },
  {
   "cell_type": "code",
   "execution_count": 78,
   "metadata": {
    "execution": {
     "iopub.execute_input": "2023-05-09T17:25:13.945686Z",
     "iopub.status.busy": "2023-05-09T17:25:13.945336Z",
     "iopub.status.idle": "2023-05-09T17:25:17.813334Z",
     "shell.execute_reply": "2023-05-09T17:25:17.812199Z",
     "shell.execute_reply.started": "2023-05-09T17:25:13.945655Z"
    }
   },
   "outputs": [
    {
     "name": "stdout",
     "output_type": "stream",
     "text": [
      "RF MODEL\n",
      "TEST\n",
      "[[2703   13  811]\n",
      " [  16 4949  909]\n",
      " [ 714 1194 8691]]\n",
      "              precision    recall  f1-score   support\n",
      "\n",
      "           0       0.79      0.77      0.78      3527\n",
      "           1       0.80      0.84      0.82      5874\n",
      "           2       0.83      0.82      0.83     10599\n",
      "\n",
      "    accuracy                           0.82     20000\n",
      "   macro avg       0.81      0.81      0.81     20000\n",
      "weighted avg       0.82      0.82      0.82     20000\n",
      "\n",
      "-------------------------------------------------------\n",
      "TRAIN\n",
      "[[14301     0     0]\n",
      " [    0 23124     0]\n",
      " [    1     0 42574]]\n",
      "              precision    recall  f1-score   support\n",
      "\n",
      "           0       1.00      1.00      1.00     14301\n",
      "           1       1.00      1.00      1.00     23124\n",
      "           2       1.00      1.00      1.00     42575\n",
      "\n",
      "    accuracy                           1.00     80000\n",
      "   macro avg       1.00      1.00      1.00     80000\n",
      "weighted avg       1.00      1.00      1.00     80000\n",
      "\n"
     ]
    }
   ],
   "source": [
    "print(\"RF MODEL\")\n",
    "eval(rfc, X_train_enc, X_val_enc)"
   ]
  },
  {
   "cell_type": "markdown",
   "metadata": {},
   "source": [
    "## With Best Parameters (GridsearchCV)"
   ]
  },
  {
   "cell_type": "code",
   "execution_count": 3,
   "metadata": {},
   "outputs": [],
   "source": [
    "import numpy as np"
   ]
  },
  {
   "cell_type": "code",
   "execution_count": 7,
   "metadata": {},
   "outputs": [
    {
     "data": {
      "text/plain": [
       "array([100, 200, 300, 400, 500])"
      ]
     },
     "execution_count": 7,
     "metadata": {},
     "output_type": "execute_result"
    }
   ],
   "source": [
    "np.linspace(100, 500, 5, dtype=int)"
   ]
  },
  {
   "cell_type": "code",
   "execution_count": 9,
   "metadata": {},
   "outputs": [
    {
     "data": {
      "text/plain": [
       "array([2, 3, 4])"
      ]
     },
     "execution_count": 9,
     "metadata": {},
     "output_type": "execute_result"
    }
   ],
   "source": [
    "np.arange(2, 5, 1)"
   ]
  },
  {
   "cell_type": "code",
   "execution_count": null,
   "metadata": {},
   "outputs": [],
   "source": []
  },
  {
   "cell_type": "code",
   "execution_count": 79,
   "metadata": {
    "execution": {
     "iopub.execute_input": "2023-05-09T17:25:17.815411Z",
     "iopub.status.busy": "2023-05-09T17:25:17.814540Z",
     "iopub.status.idle": "2023-05-09T17:25:17.822911Z",
     "shell.execute_reply": "2023-05-09T17:25:17.821361Z",
     "shell.execute_reply.started": "2023-05-09T17:25:17.815363Z"
    }
   },
   "outputs": [],
   "source": [
    "from sklearn.model_selection import GridSearchCV\n",
    "\n",
    "model = RandomForestClassifier(\n",
    "    class_weight = 'balanced',\n",
    "    random_state=random_state\n",
    ")\n",
    "param_grid = {\n",
    "    'class_weight': ['balanced'], # [None, 'balanced', 'balanced_subsample']\n",
    "    'n_estimators': np.linspace(100, 200, 2, dtype=int),\n",
    "    'criterion'   : [\"gini\", \"entropy\"],\n",
    "    'max_depth'   : np.arange(2, 3, 1), \n",
    "    'min_impurity_decrease': [0],\n",
    "    'oob_score'   : [True],  \n",
    "#     'max_features': [None],\n",
    "}\n",
    "grid_model_rfc = GridSearchCV(\n",
    "    estimator=model,\n",
    "    param_grid=param_grid,\n",
    "    scoring = scoring['recall'],      \n",
    "    error_score='raise',  \n",
    "    n_jobs = -1,\n",
    "#     refit=True,\n",
    "    cv=5,\n",
    ")"
   ]
  },
  {
   "cell_type": "code",
   "execution_count": 80,
   "metadata": {
    "execution": {
     "iopub.execute_input": "2023-05-09T17:25:17.825486Z",
     "iopub.status.busy": "2023-05-09T17:25:17.825164Z",
     "iopub.status.idle": "2023-05-09T17:26:23.943746Z",
     "shell.execute_reply": "2023-05-09T17:26:23.942283Z",
     "shell.execute_reply.started": "2023-05-09T17:25:17.825457Z"
    }
   },
   "outputs": [
    {
     "name": "stdout",
     "output_type": "stream",
     "text": [
      "CPU times: user 12.1 s, sys: 144 ms, total: 12.3 s\n",
      "Wall time: 1min 6s\n"
     ]
    },
    {
     "data": {
      "text/plain": [
       "GridSearchCV(cv=5, error_score='raise',\n",
       "             estimator=RandomForestClassifier(class_weight='balanced',\n",
       "                                              random_state=42),\n",
       "             n_jobs=-1,\n",
       "             param_grid={'class_weight': ['balanced'],\n",
       "                         'criterion': ['gini', 'entropy'],\n",
       "                         'max_depth': array([2]), 'min_impurity_decrease': [0],\n",
       "                         'n_estimators': array([100, 200]),\n",
       "                         'oob_score': [True]},\n",
       "             scoring=make_scorer(recall_score, average=None, labels=[1]))"
      ]
     },
     "execution_count": 80,
     "metadata": {},
     "output_type": "execute_result"
    }
   ],
   "source": [
    "%%time\n",
    "grid_model_rfc.fit(X_train_enc, y_train)"
   ]
  },
  {
   "cell_type": "code",
   "execution_count": 103,
   "metadata": {
    "execution": {
     "iopub.execute_input": "2023-05-09T17:53:27.686725Z",
     "iopub.status.busy": "2023-05-09T17:53:27.686320Z",
     "iopub.status.idle": "2023-05-09T17:53:27.694570Z",
     "shell.execute_reply": "2023-05-09T17:53:27.693206Z",
     "shell.execute_reply.started": "2023-05-09T17:53:27.686694Z"
    }
   },
   "outputs": [
    {
     "data": {
      "text/plain": [
       "({'class_weight': 'balanced',\n",
       "  'criterion': 'entropy',\n",
       "  'max_depth': 2,\n",
       "  'min_impurity_decrease': 0,\n",
       "  'n_estimators': 200,\n",
       "  'oob_score': True},\n",
       " 0.7551030487234639)"
      ]
     },
     "execution_count": 103,
     "metadata": {},
     "output_type": "execute_result"
    }
   ],
   "source": [
    "# Get the best hyperparameters\n",
    "best_paramsl_rfc = grid_model_rfc.best_params_\n",
    "\n",
    "best_paramsl_rfc, grid_model_rfc.best_score_"
   ]
  },
  {
   "cell_type": "code",
   "execution_count": 82,
   "metadata": {
    "execution": {
     "iopub.execute_input": "2023-05-09T17:26:23.956959Z",
     "iopub.status.busy": "2023-05-09T17:26:23.956339Z",
     "iopub.status.idle": "2023-05-09T17:26:25.506260Z",
     "shell.execute_reply": "2023-05-09T17:26:25.505104Z",
     "shell.execute_reply.started": "2023-05-09T17:26:23.956915Z"
    }
   },
   "outputs": [
    {
     "name": "stdout",
     "output_type": "stream",
     "text": [
      "GRID RF MODEL BALANCED\n",
      "TEST\n",
      "[[3007   98  422]\n",
      " [1019 4448  407]\n",
      " [3073 2628 4898]]\n",
      "              precision    recall  f1-score   support\n",
      "\n",
      "           0       0.42      0.85      0.57      3527\n",
      "           1       0.62      0.76      0.68      5874\n",
      "           2       0.86      0.46      0.60     10599\n",
      "\n",
      "    accuracy                           0.62     20000\n",
      "   macro avg       0.63      0.69      0.62     20000\n",
      "weighted avg       0.71      0.62      0.62     20000\n",
      "\n",
      "-------------------------------------------------------\n",
      "TRAIN\n",
      "[[12256   407  1638]\n",
      " [ 4166 17461  1497]\n",
      " [12313 10310 19952]]\n",
      "              precision    recall  f1-score   support\n",
      "\n",
      "           0       0.43      0.86      0.57     14301\n",
      "           1       0.62      0.76      0.68     23124\n",
      "           2       0.86      0.47      0.61     42575\n",
      "\n",
      "    accuracy                           0.62     80000\n",
      "   macro avg       0.64      0.69      0.62     80000\n",
      "weighted avg       0.72      0.62      0.62     80000\n",
      "\n"
     ]
    }
   ],
   "source": [
    "print(\"GRID RF MODEL BALANCED\")\n",
    "eval(grid_model_rfc, X_train_enc, X_val_enc)"
   ]
  },
  {
   "cell_type": "markdown",
   "metadata": {},
   "source": [
    "# 03. Implement XGBoost Classifier Model"
   ]
  },
  {
   "cell_type": "code",
   "execution_count": 83,
   "metadata": {
    "execution": {
     "iopub.execute_input": "2023-05-09T17:26:25.509168Z",
     "iopub.status.busy": "2023-05-09T17:26:25.508815Z",
     "iopub.status.idle": "2023-05-09T17:26:25.515916Z",
     "shell.execute_reply": "2023-05-09T17:26:25.514427Z",
     "shell.execute_reply.started": "2023-05-09T17:26:25.509139Z"
    }
   },
   "outputs": [],
   "source": [
    "from xgboost import XGBClassifier\n",
    "\n",
    "xgb = XGBClassifier(\n",
    "    random_state=random_state,\n",
    ")"
   ]
  },
  {
   "cell_type": "code",
   "execution_count": 84,
   "metadata": {
    "execution": {
     "iopub.execute_input": "2023-05-09T17:26:25.518836Z",
     "iopub.status.busy": "2023-05-09T17:26:25.518247Z",
     "iopub.status.idle": "2023-05-09T17:26:53.888990Z",
     "shell.execute_reply": "2023-05-09T17:26:53.888135Z",
     "shell.execute_reply.started": "2023-05-09T17:26:25.518787Z"
    }
   },
   "outputs": [
    {
     "name": "stdout",
     "output_type": "stream",
     "text": [
      "CPU times: user 1min 50s, sys: 130 ms, total: 1min 50s\n",
      "Wall time: 28.4 s\n"
     ]
    },
    {
     "data": {
      "text/plain": [
       "XGBClassifier(base_score=0.5, booster='gbtree', callbacks=None,\n",
       "              colsample_bylevel=1, colsample_bynode=1, colsample_bytree=1,\n",
       "              early_stopping_rounds=None, enable_categorical=False,\n",
       "              eval_metric=None, gamma=0, gpu_id=-1, grow_policy='depthwise',\n",
       "              importance_type=None, interaction_constraints='',\n",
       "              learning_rate=0.300000012, max_bin=256, max_cat_to_onehot=4,\n",
       "              max_delta_step=0, max_depth=6, max_leaves=0, min_child_weight=1,\n",
       "              missing=nan, monotone_constraints='()', n_estimators=100,\n",
       "              n_jobs=0, num_parallel_tree=1, objective='multi:softprob',\n",
       "              predictor='auto', random_state=42, reg_alpha=0, ...)"
      ]
     },
     "execution_count": 84,
     "metadata": {},
     "output_type": "execute_result"
    }
   ],
   "source": [
    "%%time\n",
    "xgb.fit(X_train_enc, y_train, \n",
    "    sample_weight=sample_weight\n",
    ")\n",
    "# weight parameter in XGBoost is per instance not per class."
   ]
  },
  {
   "cell_type": "code",
   "execution_count": 85,
   "metadata": {
    "execution": {
     "iopub.execute_input": "2023-05-09T17:26:53.891234Z",
     "iopub.status.busy": "2023-05-09T17:26:53.890261Z",
     "iopub.status.idle": "2023-05-09T17:26:54.413976Z",
     "shell.execute_reply": "2023-05-09T17:26:54.412770Z",
     "shell.execute_reply.started": "2023-05-09T17:26:53.891196Z"
    }
   },
   "outputs": [
    {
     "name": "stdout",
     "output_type": "stream",
     "text": [
      "XGB MODEL\n",
      "TEST\n",
      "[[3064   37  426]\n",
      " [ 367 4880  627]\n",
      " [1655 1724 7220]]\n",
      "              precision    recall  f1-score   support\n",
      "\n",
      "           0       0.60      0.87      0.71      3527\n",
      "           1       0.73      0.83      0.78      5874\n",
      "           2       0.87      0.68      0.77     10599\n",
      "\n",
      "    accuracy                           0.76     20000\n",
      "   macro avg       0.74      0.79      0.75     20000\n",
      "weighted avg       0.78      0.76      0.76     20000\n",
      "\n",
      "-------------------------------------------------------\n",
      "TRAIN\n",
      "[[13192    77  1032]\n",
      " [  995 20368  1761]\n",
      " [ 6094  6183 30298]]\n",
      "              precision    recall  f1-score   support\n",
      "\n",
      "           0       0.65      0.92      0.76     14301\n",
      "           1       0.76      0.88      0.82     23124\n",
      "           2       0.92      0.71      0.80     42575\n",
      "\n",
      "    accuracy                           0.80     80000\n",
      "   macro avg       0.78      0.84      0.79     80000\n",
      "weighted avg       0.82      0.80      0.80     80000\n",
      "\n"
     ]
    }
   ],
   "source": [
    "print(\"XGB MODEL\")\n",
    "eval(xgb, X_train_enc, X_val_enc)"
   ]
  },
  {
   "cell_type": "markdown",
   "metadata": {},
   "source": [
    "## With Best Parameters (GridsearchCV)"
   ]
  },
  {
   "cell_type": "code",
   "execution_count": 86,
   "metadata": {
    "execution": {
     "iopub.execute_input": "2023-05-09T17:26:54.416318Z",
     "iopub.status.busy": "2023-05-09T17:26:54.415941Z",
     "iopub.status.idle": "2023-05-09T17:26:54.422469Z",
     "shell.execute_reply": "2023-05-09T17:26:54.421689Z",
     "shell.execute_reply.started": "2023-05-09T17:26:54.416284Z"
    }
   },
   "outputs": [],
   "source": [
    "from sklearn.model_selection import GridSearchCV\n",
    "\n",
    "model = XGBClassifier(\n",
    "    random_state=random_state\n",
    ")\n",
    "param_grid = {\n",
    "    'n_estimators' : [100],\n",
    "    'learning_rate': np.linspace(0.01, 0.3, 2).round(3),\n",
    "    'max_depth'    : [5, 6],   \n",
    "#     'reg_alpha'    : [0, 0.5, 1],  \n",
    "#     'reg_lambda'   : [0, 0.5, 1], \n",
    "}\n",
    "grid_model_xgb = GridSearchCV(\n",
    "    estimator=model,\n",
    "    param_grid=param_grid,\n",
    "    scoring = scoring['recall'], # 'neg_log_loss'      \n",
    "    error_score='raise',     \n",
    "    n_jobs = -1,\n",
    "#     refit=True,\n",
    "    cv=5,\n",
    ")"
   ]
  },
  {
   "cell_type": "code",
   "execution_count": 87,
   "metadata": {
    "execution": {
     "iopub.execute_input": "2023-05-09T17:26:54.424285Z",
     "iopub.status.busy": "2023-05-09T17:26:54.423617Z",
     "iopub.status.idle": "2023-05-09T17:33:56.165737Z",
     "shell.execute_reply": "2023-05-09T17:33:56.164764Z",
     "shell.execute_reply.started": "2023-05-09T17:26:54.424252Z"
    }
   },
   "outputs": [
    {
     "name": "stdout",
     "output_type": "stream",
     "text": [
      "CPU times: user 1min 48s, sys: 188 ms, total: 1min 48s\n",
      "Wall time: 7min 1s\n"
     ]
    },
    {
     "data": {
      "text/plain": [
       "GridSearchCV(cv=5, error_score='raise',\n",
       "             estimator=XGBClassifier(base_score=None, booster=None,\n",
       "                                     callbacks=None, colsample_bylevel=None,\n",
       "                                     colsample_bynode=None,\n",
       "                                     colsample_bytree=None,\n",
       "                                     early_stopping_rounds=None,\n",
       "                                     enable_categorical=False, eval_metric=None,\n",
       "                                     gamma=None, gpu_id=None, grow_policy=None,\n",
       "                                     importance_type=None,\n",
       "                                     interaction_constraints=None,\n",
       "                                     learning_rate=None...\n",
       "                                     max_delta_step=None, max_depth=None,\n",
       "                                     max_leaves=None, min_child_weight=None,\n",
       "                                     missing=nan, monotone_constraints=None,\n",
       "                                     n_estimators=100, n_jobs=None,\n",
       "                                     num_parallel_tree=None, predictor=None,\n",
       "                                     random_state=42, reg_alpha=None,\n",
       "                                     reg_lambda=None, ...),\n",
       "             n_jobs=-1,\n",
       "             param_grid={'learning_rate': array([0.01, 0.3 ]),\n",
       "                         'max_depth': [5, 6], 'n_estimators': [100]},\n",
       "             scoring=make_scorer(recall_score, average=None, labels=[1]))"
      ]
     },
     "execution_count": 87,
     "metadata": {},
     "output_type": "execute_result"
    }
   ],
   "source": [
    "%%time\n",
    "grid_model_xgb.fit(X_train_enc, y_train, \n",
    "    sample_weight=sample_weight\n",
    ")"
   ]
  },
  {
   "cell_type": "code",
   "execution_count": 101,
   "metadata": {
    "execution": {
     "iopub.execute_input": "2023-05-09T17:52:36.882028Z",
     "iopub.status.busy": "2023-05-09T17:52:36.881583Z",
     "iopub.status.idle": "2023-05-09T17:52:36.889784Z",
     "shell.execute_reply": "2023-05-09T17:52:36.888599Z",
     "shell.execute_reply.started": "2023-05-09T17:52:36.881990Z"
    }
   },
   "outputs": [
    {
     "data": {
      "text/plain": [
       "({'learning_rate': 0.3, 'max_depth': 6, 'n_estimators': 100},\n",
       " 0.8286197886467782)"
      ]
     },
     "execution_count": 101,
     "metadata": {},
     "output_type": "execute_result"
    }
   ],
   "source": [
    "# Get the best hyperparameters\n",
    "best_params_xgb = grid_model_xgb.best_params_\n",
    "\n",
    "best_params_xgb, grid_model_xgb.best_score_"
   ]
  },
  {
   "cell_type": "code",
   "execution_count": 89,
   "metadata": {
    "execution": {
     "iopub.execute_input": "2023-05-09T17:33:56.182804Z",
     "iopub.status.busy": "2023-05-09T17:33:56.181862Z",
     "iopub.status.idle": "2023-05-09T17:33:56.719777Z",
     "shell.execute_reply": "2023-05-09T17:33:56.718464Z",
     "shell.execute_reply.started": "2023-05-09T17:33:56.182757Z"
    }
   },
   "outputs": [
    {
     "name": "stdout",
     "output_type": "stream",
     "text": [
      "GRID XGB MODEL BALANCED\n",
      "TEST\n",
      "[[3064   37  426]\n",
      " [ 367 4880  627]\n",
      " [1655 1724 7220]]\n",
      "              precision    recall  f1-score   support\n",
      "\n",
      "           0       0.60      0.87      0.71      3527\n",
      "           1       0.73      0.83      0.78      5874\n",
      "           2       0.87      0.68      0.77     10599\n",
      "\n",
      "    accuracy                           0.76     20000\n",
      "   macro avg       0.74      0.79      0.75     20000\n",
      "weighted avg       0.78      0.76      0.76     20000\n",
      "\n",
      "-------------------------------------------------------\n",
      "TRAIN\n",
      "[[13192    77  1032]\n",
      " [  995 20368  1761]\n",
      " [ 6094  6183 30298]]\n",
      "              precision    recall  f1-score   support\n",
      "\n",
      "           0       0.65      0.92      0.76     14301\n",
      "           1       0.76      0.88      0.82     23124\n",
      "           2       0.92      0.71      0.80     42575\n",
      "\n",
      "    accuracy                           0.80     80000\n",
      "   macro avg       0.78      0.84      0.79     80000\n",
      "weighted avg       0.82      0.80      0.80     80000\n",
      "\n"
     ]
    }
   ],
   "source": [
    "print(\"GRID XGB MODEL BALANCED\")\n",
    "eval(grid_model_xgb, X_train_enc, X_val_enc)"
   ]
  },
  {
   "cell_type": "markdown",
   "metadata": {},
   "source": [
    "# Compare The Models"
   ]
  },
  {
   "cell_type": "code",
   "execution_count": null,
   "metadata": {
    "execution": {
     "iopub.execute_input": "2023-05-06T01:45:07.987089Z",
     "iopub.status.busy": "2023-05-06T01:45:07.986678Z",
     "iopub.status.idle": "2023-05-06T01:56:25.615023Z",
     "shell.execute_reply": "2023-05-06T01:56:25.613950Z",
     "shell.execute_reply.started": "2023-05-06T01:45:07.987053Z"
    }
   },
   "outputs": [],
   "source": [
    "# from yellowbrick.classifier import PrecisionRecallCurve\n",
    "\n",
    "# model      = grid_model_log\n",
    "# visualizer = PrecisionRecallCurve(model, classes=le.classes_, per_class=True, micro=False)\n",
    "# visualizer.fit(X_train_scaled, y_train)     # Fit the training data to the visualizer\n",
    "# visualizer.score(X_val_scaled, y_val)       # Evaluate the model on the test data\n",
    "# visualizer.show(); "
   ]
  },
  {
   "cell_type": "code",
   "execution_count": 91,
   "metadata": {
    "execution": {
     "iopub.execute_input": "2023-05-09T17:37:26.007954Z",
     "iopub.status.busy": "2023-05-09T17:37:26.007516Z",
     "iopub.status.idle": "2023-05-09T17:45:23.472728Z",
     "shell.execute_reply": "2023-05-09T17:45:23.471298Z",
     "shell.execute_reply.started": "2023-05-09T17:37:26.007918Z"
    }
   },
   "outputs": [
    {
     "data": {
      "image/png": "[encoded data removed]",
      "text/plain": [
       "<Figure size 576x396 with 1 Axes>"
      ]
     },
     "metadata": {},
     "output_type": "display_data"
    }
   ],
   "source": [
    "from yellowbrick.classifier import precision_recall_curve, PrecisionRecallCurve\n",
    "\n",
    "# Create the visualizer, fit, score, and show it\n",
    "viz = precision_recall_curve(grid_model_log, X_train_scaled, y_train, X_val_scaled, y_val)"
   ]
  },
  {
   "cell_type": "code",
   "execution_count": 94,
   "metadata": {
    "execution": {
     "iopub.execute_input": "2023-05-09T17:48:22.211907Z",
     "iopub.status.busy": "2023-05-09T17:48:22.211387Z",
     "iopub.status.idle": "2023-05-09T17:48:23.154894Z",
     "shell.execute_reply": "2023-05-09T17:48:23.153635Z",
     "shell.execute_reply.started": "2023-05-09T17:48:22.211858Z"
    }
   },
   "outputs": [
    {
     "data": {
      "image/png": "[encoded data removed]",
      "text/plain": [
       "<Figure size 576x396 with 1 Axes>"
      ]
     },
     "metadata": {},
     "output_type": "display_data"
    }
   ],
   "source": [
    "# !pip install scikit-plot -q\n",
    "import scikitplot as skplt\n",
    "\n",
    "y_val_proba = grid_model_log.predict_proba(X_val_scaled)\n",
    "skplt.metrics.plot_precision_recall(y_val, y_val_proba);\n",
    "# skplt.metrics.plot_roc(y_test, y_prob_test)\n",
    "plt.plot([0, 1],[1, 0], 'k--')\n",
    "plt.show()"
   ]
  },
  {
   "cell_type": "code",
   "execution_count": 95,
   "metadata": {
    "execution": {
     "iopub.execute_input": "2023-05-09T17:48:53.668239Z",
     "iopub.status.busy": "2023-05-09T17:48:53.666884Z",
     "iopub.status.idle": "2023-05-09T17:48:54.634311Z",
     "shell.execute_reply": "2023-05-09T17:48:54.633137Z",
     "shell.execute_reply.started": "2023-05-09T17:48:53.668183Z"
    }
   },
   "outputs": [
    {
     "data": {
      "image/png": "[encoded data removed]",
      "text/plain": [
       "<Figure size 576x396 with 1 Axes>"
      ]
     },
     "metadata": {},
     "output_type": "display_data"
    }
   ],
   "source": [
    "# !pip install scikit-plot -q\n",
    "import scikitplot as skplt\n",
    "\n",
    "y_val_proba = grid_model_rfc.predict_proba(X_val_enc)\n",
    "skplt.metrics.plot_precision_recall(y_val, y_val_proba);\n",
    "# skplt.metrics.plot_roc(y_test, y_prob_test)\n",
    "plt.plot([0, 1],[1, 0], 'k--')\n",
    "plt.show()"
   ]
  },
  {
   "cell_type": "code",
   "execution_count": 96,
   "metadata": {
    "execution": {
     "iopub.execute_input": "2023-05-09T17:49:01.777468Z",
     "iopub.status.busy": "2023-05-09T17:49:01.777051Z",
     "iopub.status.idle": "2023-05-09T17:49:02.604521Z",
     "shell.execute_reply": "2023-05-09T17:49:02.603374Z",
     "shell.execute_reply.started": "2023-05-09T17:49:01.777434Z"
    }
   },
   "outputs": [
    {
     "data": {
      "image/png": "[encoded data removed]",
      "text/plain": [
       "<Figure size 576x396 with 1 Axes>"
      ]
     },
     "metadata": {},
     "output_type": "display_data"
    }
   ],
   "source": [
    "# !pip install scikit-plot -q\n",
    "import scikitplot as skplt\n",
    "\n",
    "y_val_proba = grid_model_xgb.predict_proba(X_val_enc)\n",
    "skplt.metrics.plot_precision_recall(y_val, y_val_proba);\n",
    "# skplt.metrics.plot_roc(y_test, y_prob_test)\n",
    "plt.plot([0, 1],[1, 0], 'k--')\n",
    "plt.show()"
   ]
  },
  {
   "cell_type": "markdown",
   "metadata": {},
   "source": [
    "# 04. Future Importance XGBoost "
   ]
  },
  {
   "cell_type": "code",
   "execution_count": 108,
   "metadata": {
    "execution": {
     "iopub.execute_input": "2023-05-09T17:57:59.557860Z",
     "iopub.status.busy": "2023-05-09T17:57:59.557424Z",
     "iopub.status.idle": "2023-05-09T17:57:59.567241Z",
     "shell.execute_reply": "2023-05-09T17:57:59.566454Z",
     "shell.execute_reply.started": "2023-05-09T17:57:59.557824Z"
    }
   },
   "outputs": [
    {
     "data": {
      "text/plain": [
       "((31,), (31,))"
      ]
     },
     "execution_count": 108,
     "metadata": {},
     "output_type": "execute_result"
    }
   ],
   "source": [
    "# xgb_model has best scorer default parameters\n",
    "X_val_enc.columns.shape, xgb.feature_importances_.shape"
   ]
  },
  {
   "cell_type": "code",
   "execution_count": 109,
   "metadata": {
    "execution": {
     "iopub.execute_input": "2023-05-09T17:58:01.186490Z",
     "iopub.status.busy": "2023-05-09T17:58:01.186054Z",
     "iopub.status.idle": "2023-05-09T17:58:01.592804Z",
     "shell.execute_reply": "2023-05-09T17:58:01.591356Z",
     "shell.execute_reply.started": "2023-05-09T17:58:01.186456Z"
    }
   },
   "outputs": [
    {
     "data": {
      "image/png": "[encoded data removed]",
      "text/plain": [
       "<Figure size 1008x576 with 1 Axes>"
      ]
     },
     "metadata": {},
     "output_type": "display_data"
    }
   ],
   "source": [
    "plt.figure(figsize=(14,8))\n",
    "plt.barh(X_val_enc.columns, xgb.feature_importances_);"
   ]
  },
  {
   "cell_type": "markdown",
   "metadata": {},
   "source": [
    "## yellowbrick Feature Importances"
   ]
  },
  {
   "cell_type": "code",
   "execution_count": 110,
   "metadata": {
    "execution": {
     "iopub.execute_input": "2023-05-09T17:59:30.350393Z",
     "iopub.status.busy": "2023-05-09T17:59:30.349285Z",
     "iopub.status.idle": "2023-05-09T17:59:38.935307Z",
     "shell.execute_reply": "2023-05-09T17:59:38.934123Z",
     "shell.execute_reply.started": "2023-05-09T17:59:30.350338Z"
    }
   },
   "outputs": [
    {
     "data": {
      "image/png": "[encoded data removed]",
      "text/plain": [
       "<Figure size 864x648 with 1 Axes>"
      ]
     },
     "metadata": {},
     "output_type": "display_data"
    }
   ],
   "source": [
    "from yellowbrick.model_selection import feature_importances, FeatureImportances\n",
    "\n",
    "model = XGBClassifier(\n",
    "    random_state=random_state, \n",
    "    **best_params_xgb\n",
    ")\n",
    "\n",
    "plt.subplots(figsize=(12, 9))\n",
    "# Use the quick method and immediately show the figure\n",
    "feature_importances(model, X_val_enc, y_val);"
   ]
  },
  {
   "cell_type": "markdown",
   "metadata": {},
   "source": [
    "## Permutation Based Feature Importance (with scikit-learn)"
   ]
  },
  {
   "cell_type": "code",
   "execution_count": 134,
   "metadata": {
    "execution": {
     "iopub.execute_input": "2023-05-09T18:08:38.806715Z",
     "iopub.status.busy": "2023-05-09T18:08:38.806039Z",
     "iopub.status.idle": "2023-05-09T18:08:51.233136Z",
     "shell.execute_reply": "2023-05-09T18:08:51.231934Z",
     "shell.execute_reply.started": "2023-05-09T18:08:38.806676Z"
    }
   },
   "outputs": [
    {
     "data": {
      "text/plain": [
       "array([ 7.9400e-03,  1.6319e-01, -2.2900e-03,  5.2500e-03,  1.0810e-02,\n",
       "        1.4250e-02,  2.1840e-02,  1.6330e-02,  1.1800e-02,  8.7630e-02,\n",
       "       -9.1000e-04,  4.6980e-02,  1.6530e-02,  3.4860e-02,  9.2400e-03,\n",
       "        6.3350e-02,  5.0000e-04,  1.4690e-02,  3.6800e-02,  1.9090e-02,\n",
       "        7.2100e-03,  0.0000e+00,  1.4100e-03,  1.0700e-03,  6.6000e-04,\n",
       "        1.1600e-03,  6.1000e-04,  8.0000e-05,  1.1200e-03,  9.8000e-04,\n",
       "        1.2700e-03])"
      ]
     },
     "execution_count": 134,
     "metadata": {},
     "output_type": "execute_result"
    }
   ],
   "source": [
    "from sklearn.inspection import permutation_importance\n",
    "\n",
    "perm_importance = permutation_importance(xgb, X_val_enc, y_val)\n",
    "perm_importance['importances_mean']"
   ]
  },
  {
   "cell_type": "code",
   "execution_count": 135,
   "metadata": {
    "execution": {
     "iopub.execute_input": "2023-05-09T18:08:51.240699Z",
     "iopub.status.busy": "2023-05-09T18:08:51.238274Z",
     "iopub.status.idle": "2023-05-09T18:08:51.716607Z",
     "shell.execute_reply": "2023-05-09T18:08:51.715758Z",
     "shell.execute_reply.started": "2023-05-09T18:08:51.240653Z"
    }
   },
   "outputs": [
    {
     "data": {
      "image/png": "[encoded data removed]",
      "text/plain": [
       "<Figure size 1008x576 with 1 Axes>"
      ]
     },
     "metadata": {},
     "output_type": "display_data"
    }
   ],
   "source": [
    "sorted_idx = perm_importance.importances_mean.argsort()\n",
    "plt.figure(figsize=(14,8))\n",
    "plt.barh(X_val_enc.columns[sorted_idx], perm_importance.importances_mean[sorted_idx])\n",
    "plt.xlabel(\"Permutation Importance\");"
   ]
  },
  {
   "cell_type": "markdown",
   "metadata": {},
   "source": [
    "# 05. Final Model"
   ]
  },
  {
   "cell_type": "code",
   "execution_count": 146,
   "metadata": {
    "execution": {
     "iopub.execute_input": "2023-05-09T18:15:17.323976Z",
     "iopub.status.busy": "2023-05-09T18:15:17.323558Z",
     "iopub.status.idle": "2023-05-09T18:15:25.765735Z",
     "shell.execute_reply": "2023-05-09T18:15:25.764374Z",
     "shell.execute_reply.started": "2023-05-09T18:15:17.323941Z"
    }
   },
   "outputs": [
    {
     "data": {
      "image/png": "[encoded data removed]",
      "text/plain": [
       "<Figure size 576x396 with 1 Axes>"
      ]
     },
     "metadata": {},
     "output_type": "display_data"
    },
    {
     "name": "stdout",
     "output_type": "stream",
     "text": [
      "['Total_EMI_per_month' 'Num_Bank_Accounts' 'Num_of_Delayed_Payment'\n",
      " 'Delay_from_due_date' 'Changed_Credit_Limit' 'Num_Credit_Card'\n",
      " 'Outstanding_Debt' 'Interest_Rate' 'Credit_Mix']\n"
     ]
    }
   ],
   "source": [
    "model = XGBClassifier(\n",
    "    random_state=random_state, \n",
    "    **best_params_xgb\n",
    ")\n",
    "# seect top 8 features\n",
    "viz = feature_importances(model, X_val_enc, y_val, relative=False, topn=9)\n",
    "\n",
    "# get top 8 features\n",
    "print(viz.features_)"
   ]
  },
  {
   "cell_type": "code",
   "execution_count": 147,
   "metadata": {
    "execution": {
     "iopub.execute_input": "2023-05-09T18:15:25.767732Z",
     "iopub.status.busy": "2023-05-09T18:15:25.767399Z",
     "iopub.status.idle": "2023-05-09T18:15:25.789716Z",
     "shell.execute_reply": "2023-05-09T18:15:25.788912Z",
     "shell.execute_reply.started": "2023-05-09T18:15:25.767700Z"
    }
   },
   "outputs": [
    {
     "data": {
      "text/html": [
       "<div>\n",
       "<style scoped>\n",
       "    .dataframe tbody tr th:only-of-type {\n",
       "        vertical-align: middle;\n",
       "    }\n",
       "\n",
       "    .dataframe tbody tr th {\n",
       "        vertical-align: top;\n",
       "    }\n",
       "\n",
       "    .dataframe thead th {\n",
       "        text-align: right;\n",
       "    }\n",
       "</style>\n",
       "<table border=\"1\" class=\"dataframe\">\n",
       "  <thead>\n",
       "    <tr style=\"text-align: right;\">\n",
       "      <th></th>\n",
       "      <th>Total_EMI_per_month</th>\n",
       "      <th>Num_Bank_Accounts</th>\n",
       "      <th>Num_of_Delayed_Payment</th>\n",
       "      <th>Delay_from_due_date</th>\n",
       "      <th>Changed_Credit_Limit</th>\n",
       "      <th>Num_Credit_Card</th>\n",
       "      <th>Outstanding_Debt</th>\n",
       "      <th>Interest_Rate</th>\n",
       "      <th>Credit_Mix</th>\n",
       "      <th>Credit_Score</th>\n",
       "    </tr>\n",
       "  </thead>\n",
       "  <tbody>\n",
       "    <tr>\n",
       "      <th>0</th>\n",
       "      <td>49.575</td>\n",
       "      <td>3.000</td>\n",
       "      <td>7.000</td>\n",
       "      <td>3.000</td>\n",
       "      <td>11.270</td>\n",
       "      <td>4.000</td>\n",
       "      <td>809.980</td>\n",
       "      <td>3.000</td>\n",
       "      <td>Good</td>\n",
       "      <td>Good</td>\n",
       "    </tr>\n",
       "    <tr>\n",
       "      <th>1</th>\n",
       "      <td>49.575</td>\n",
       "      <td>3.000</td>\n",
       "      <td>4.000</td>\n",
       "      <td>3.000</td>\n",
       "      <td>11.270</td>\n",
       "      <td>4.000</td>\n",
       "      <td>809.980</td>\n",
       "      <td>3.000</td>\n",
       "      <td>Good</td>\n",
       "      <td>Good</td>\n",
       "    </tr>\n",
       "    <tr>\n",
       "      <th>2</th>\n",
       "      <td>49.575</td>\n",
       "      <td>3.000</td>\n",
       "      <td>7.000</td>\n",
       "      <td>3.000</td>\n",
       "      <td>11.270</td>\n",
       "      <td>4.000</td>\n",
       "      <td>809.980</td>\n",
       "      <td>3.000</td>\n",
       "      <td>Good</td>\n",
       "      <td>Good</td>\n",
       "    </tr>\n",
       "    <tr>\n",
       "      <th>3</th>\n",
       "      <td>49.575</td>\n",
       "      <td>3.000</td>\n",
       "      <td>4.000</td>\n",
       "      <td>5.000</td>\n",
       "      <td>6.270</td>\n",
       "      <td>4.000</td>\n",
       "      <td>809.980</td>\n",
       "      <td>3.000</td>\n",
       "      <td>Good</td>\n",
       "      <td>Good</td>\n",
       "    </tr>\n",
       "    <tr>\n",
       "      <th>4</th>\n",
       "      <td>49.575</td>\n",
       "      <td>3.000</td>\n",
       "      <td>4.000</td>\n",
       "      <td>6.000</td>\n",
       "      <td>11.270</td>\n",
       "      <td>4.000</td>\n",
       "      <td>809.980</td>\n",
       "      <td>3.000</td>\n",
       "      <td>Good</td>\n",
       "      <td>Good</td>\n",
       "    </tr>\n",
       "    <tr>\n",
       "      <th>...</th>\n",
       "      <td>...</td>\n",
       "      <td>...</td>\n",
       "      <td>...</td>\n",
       "      <td>...</td>\n",
       "      <td>...</td>\n",
       "      <td>...</td>\n",
       "      <td>...</td>\n",
       "      <td>...</td>\n",
       "      <td>...</td>\n",
       "      <td>...</td>\n",
       "    </tr>\n",
       "    <tr>\n",
       "      <th>99995</th>\n",
       "      <td>35.104</td>\n",
       "      <td>4.000</td>\n",
       "      <td>7.000</td>\n",
       "      <td>23.000</td>\n",
       "      <td>11.500</td>\n",
       "      <td>6.000</td>\n",
       "      <td>502.380</td>\n",
       "      <td>7.000</td>\n",
       "      <td>Good</td>\n",
       "      <td>Poor</td>\n",
       "    </tr>\n",
       "    <tr>\n",
       "      <th>99996</th>\n",
       "      <td>35.104</td>\n",
       "      <td>4.000</td>\n",
       "      <td>7.000</td>\n",
       "      <td>18.000</td>\n",
       "      <td>11.500</td>\n",
       "      <td>6.000</td>\n",
       "      <td>502.380</td>\n",
       "      <td>7.000</td>\n",
       "      <td>Good</td>\n",
       "      <td>Poor</td>\n",
       "    </tr>\n",
       "    <tr>\n",
       "      <th>99997</th>\n",
       "      <td>35.104</td>\n",
       "      <td>4.000</td>\n",
       "      <td>6.000</td>\n",
       "      <td>27.000</td>\n",
       "      <td>11.500</td>\n",
       "      <td>6.000</td>\n",
       "      <td>502.380</td>\n",
       "      <td>7.000</td>\n",
       "      <td>Good</td>\n",
       "      <td>Poor</td>\n",
       "    </tr>\n",
       "    <tr>\n",
       "      <th>99998</th>\n",
       "      <td>35.104</td>\n",
       "      <td>4.000</td>\n",
       "      <td>6.000</td>\n",
       "      <td>20.000</td>\n",
       "      <td>11.500</td>\n",
       "      <td>6.000</td>\n",
       "      <td>502.380</td>\n",
       "      <td>7.000</td>\n",
       "      <td>Good</td>\n",
       "      <td>Standard</td>\n",
       "    </tr>\n",
       "    <tr>\n",
       "      <th>99999</th>\n",
       "      <td>35.104</td>\n",
       "      <td>4.000</td>\n",
       "      <td>6.000</td>\n",
       "      <td>18.000</td>\n",
       "      <td>11.500</td>\n",
       "      <td>6.000</td>\n",
       "      <td>502.380</td>\n",
       "      <td>7.000</td>\n",
       "      <td>Good</td>\n",
       "      <td>Poor</td>\n",
       "    </tr>\n",
       "  </tbody>\n",
       "</table>\n",
       "<p>100000 rows × 10 columns</p>\n",
       "</div>"
      ],
      "text/plain": [
       "       Total_EMI_per_month  Num_Bank_Accounts  Num_of_Delayed_Payment  \\\n",
       "0                   49.575              3.000                   7.000   \n",
       "1                   49.575              3.000                   4.000   \n",
       "2                   49.575              3.000                   7.000   \n",
       "3                   49.575              3.000                   4.000   \n",
       "4                   49.575              3.000                   4.000   \n",
       "...                    ...                ...                     ...   \n",
       "99995               35.104              4.000                   7.000   \n",
       "99996               35.104              4.000                   7.000   \n",
       "99997               35.104              4.000                   6.000   \n",
       "99998               35.104              4.000                   6.000   \n",
       "99999               35.104              4.000                   6.000   \n",
       "\n",
       "       Delay_from_due_date  Changed_Credit_Limit  Num_Credit_Card  \\\n",
       "0                    3.000                11.270            4.000   \n",
       "1                    3.000                11.270            4.000   \n",
       "2                    3.000                11.270            4.000   \n",
       "3                    5.000                 6.270            4.000   \n",
       "4                    6.000                11.270            4.000   \n",
       "...                    ...                   ...              ...   \n",
       "99995               23.000                11.500            6.000   \n",
       "99996               18.000                11.500            6.000   \n",
       "99997               27.000                11.500            6.000   \n",
       "99998               20.000                11.500            6.000   \n",
       "99999               18.000                11.500            6.000   \n",
       "\n",
       "       Outstanding_Debt  Interest_Rate Credit_Mix Credit_Score  \n",
       "0               809.980          3.000       Good         Good  \n",
       "1               809.980          3.000       Good         Good  \n",
       "2               809.980          3.000       Good         Good  \n",
       "3               809.980          3.000       Good         Good  \n",
       "4               809.980          3.000       Good         Good  \n",
       "...                 ...            ...        ...          ...  \n",
       "99995           502.380          7.000       Good         Poor  \n",
       "99996           502.380          7.000       Good         Poor  \n",
       "99997           502.380          7.000       Good         Poor  \n",
       "99998           502.380          7.000       Good     Standard  \n",
       "99999           502.380          7.000       Good         Poor  \n",
       "\n",
       "[100000 rows x 10 columns]"
      ]
     },
     "execution_count": 147,
     "metadata": {},
     "output_type": "execute_result"
    }
   ],
   "source": [
    "# we selected 9 features for final model\n",
    "df_final = df_train[viz.features_.tolist() + ['Credit_Score']]\n",
    "df_final"
   ]
  },
  {
   "cell_type": "code",
   "execution_count": 148,
   "metadata": {
    "execution": {
     "iopub.execute_input": "2023-05-09T18:15:25.791313Z",
     "iopub.status.busy": "2023-05-09T18:15:25.790880Z",
     "iopub.status.idle": "2023-05-09T18:15:25.817788Z",
     "shell.execute_reply": "2023-05-09T18:15:25.816944Z",
     "shell.execute_reply.started": "2023-05-09T18:15:25.791280Z"
    }
   },
   "outputs": [
    {
     "name": "stdout",
     "output_type": "stream",
     "text": [
      "<class 'pandas.core.frame.DataFrame'>\n",
      "RangeIndex: 100000 entries, 0 to 99999\n",
      "Data columns (total 10 columns):\n",
      " #   Column                  Non-Null Count   Dtype  \n",
      "---  ------                  --------------   -----  \n",
      " 0   Total_EMI_per_month     100000 non-null  float64\n",
      " 1   Num_Bank_Accounts       100000 non-null  float64\n",
      " 2   Num_of_Delayed_Payment  100000 non-null  float64\n",
      " 3   Delay_from_due_date     100000 non-null  float64\n",
      " 4   Changed_Credit_Limit    100000 non-null  float64\n",
      " 5   Num_Credit_Card         100000 non-null  float64\n",
      " 6   Outstanding_Debt        100000 non-null  float64\n",
      " 7   Interest_Rate           100000 non-null  float64\n",
      " 8   Credit_Mix              100000 non-null  object \n",
      " 9   Credit_Score            100000 non-null  object \n",
      "dtypes: float64(8), object(2)\n",
      "memory usage: 7.6+ MB\n"
     ]
    }
   ],
   "source": [
    "df_final.info()"
   ]
  },
  {
   "cell_type": "code",
   "execution_count": 149,
   "metadata": {
    "execution": {
     "iopub.execute_input": "2023-05-09T18:15:25.820442Z",
     "iopub.status.busy": "2023-05-09T18:15:25.819535Z",
     "iopub.status.idle": "2023-05-09T18:15:25.827936Z",
     "shell.execute_reply": "2023-05-09T18:15:25.827107Z",
     "shell.execute_reply.started": "2023-05-09T18:15:25.820406Z"
    }
   },
   "outputs": [],
   "source": [
    "X = df_final.drop(columns='Credit_Score')\n",
    "y = df_final['Credit_Score']"
   ]
  },
  {
   "cell_type": "code",
   "execution_count": 150,
   "metadata": {
    "execution": {
     "iopub.execute_input": "2023-05-09T18:15:25.829842Z",
     "iopub.status.busy": "2023-05-09T18:15:25.829508Z",
     "iopub.status.idle": "2023-05-09T18:15:25.876598Z",
     "shell.execute_reply": "2023-05-09T18:15:25.875530Z",
     "shell.execute_reply.started": "2023-05-09T18:15:25.829813Z"
    }
   },
   "outputs": [
    {
     "name": "stdout",
     "output_type": "stream",
     "text": [
      "OrdinalEncoder: ['Credit_Mix']\n"
     ]
    },
    {
     "data": {
      "text/plain": [
       "(100000, 9)"
      ]
     },
     "execution_count": 150,
     "metadata": {},
     "output_type": "execute_result"
    }
   ],
   "source": [
    "cat = X.select_dtypes(include=\"object\").columns.to_list()     \n",
    "print('OrdinalEncoder:', cat)  \n",
    "enc = OrdinalEncoder(handle_unknown='use_encoded_value', unknown_value=-1)\n",
    "\n",
    "X_enc      = X.copy()\n",
    "X_enc[cat] = enc.fit_transform(X_enc[cat])\n",
    "\n",
    "X_enc.shape"
   ]
  },
  {
   "cell_type": "code",
   "execution_count": 151,
   "metadata": {
    "execution": {
     "iopub.execute_input": "2023-05-09T18:15:37.921998Z",
     "iopub.status.busy": "2023-05-09T18:15:37.921585Z",
     "iopub.status.idle": "2023-05-09T18:15:37.951632Z",
     "shell.execute_reply": "2023-05-09T18:15:37.950623Z",
     "shell.execute_reply.started": "2023-05-09T18:15:37.921964Z"
    }
   },
   "outputs": [],
   "source": [
    "le = LabelEncoder()\n",
    "y  = le.fit_transform(y)"
   ]
  },
  {
   "cell_type": "code",
   "execution_count": 152,
   "metadata": {
    "execution": {
     "iopub.execute_input": "2023-05-09T18:15:46.674683Z",
     "iopub.status.busy": "2023-05-09T18:15:46.674251Z",
     "iopub.status.idle": "2023-05-09T18:15:46.699458Z",
     "shell.execute_reply": "2023-05-09T18:15:46.698297Z",
     "shell.execute_reply.started": "2023-05-09T18:15:46.674648Z"
    }
   },
   "outputs": [
    {
     "data": {
      "text/plain": [
       "array([1.86971805, 1.86971805, 1.86971805, ..., 1.14950456, 0.62687278,\n",
       "       1.14950456])"
      ]
     },
     "execution_count": 152,
     "metadata": {},
     "output_type": "execute_result"
    }
   ],
   "source": [
    "sample_weight = class_weight.compute_sample_weight(class_weight='balanced', y=y)\n",
    "sample_weight"
   ]
  },
  {
   "cell_type": "markdown",
   "metadata": {},
   "source": [
    "### ({'learning_rate': 0.3, 'max_depth': 6, 'n_estimators': 100},"
   ]
  },
  {
   "cell_type": "code",
   "execution_count": 153,
   "metadata": {
    "execution": {
     "iopub.execute_input": "2023-05-09T18:16:10.196989Z",
     "iopub.status.busy": "2023-05-09T18:16:10.196570Z",
     "iopub.status.idle": "2023-05-09T18:16:10.201995Z",
     "shell.execute_reply": "2023-05-09T18:16:10.201042Z",
     "shell.execute_reply.started": "2023-05-09T18:16:10.196957Z"
    }
   },
   "outputs": [],
   "source": [
    "final_model = XGBClassifier(\n",
    "    random_state=random_state, \n",
    "    **best_params_xgb\n",
    ")"
   ]
  },
  {
   "cell_type": "code",
   "execution_count": 154,
   "metadata": {
    "execution": {
     "iopub.execute_input": "2023-05-09T18:16:12.456021Z",
     "iopub.status.busy": "2023-05-09T18:16:12.455616Z",
     "iopub.status.idle": "2023-05-09T18:16:23.453477Z",
     "shell.execute_reply": "2023-05-09T18:16:23.452539Z",
     "shell.execute_reply.started": "2023-05-09T18:16:12.455989Z"
    }
   },
   "outputs": [
    {
     "name": "stdout",
     "output_type": "stream",
     "text": [
      "CPU times: user 43.5 s, sys: 121 ms, total: 43.6 s\n",
      "Wall time: 11 s\n"
     ]
    },
    {
     "data": {
      "text/plain": [
       "XGBClassifier(base_score=0.5, booster='gbtree', callbacks=None,\n",
       "              colsample_bylevel=1, colsample_bynode=1, colsample_bytree=1,\n",
       "              early_stopping_rounds=None, enable_categorical=False,\n",
       "              eval_metric=None, gamma=0, gpu_id=-1, grow_policy='depthwise',\n",
       "              importance_type=None, interaction_constraints='',\n",
       "              learning_rate=0.3, max_bin=256, max_cat_to_onehot=4,\n",
       "              max_delta_step=0, max_depth=6, max_leaves=0, min_child_weight=1,\n",
       "              missing=nan, monotone_constraints='()', n_estimators=100,\n",
       "              n_jobs=0, num_parallel_tree=1, objective='multi:softprob',\n",
       "              predictor='auto', random_state=42, reg_alpha=0, ...)"
      ]
     },
     "execution_count": 154,
     "metadata": {},
     "output_type": "execute_result"
    }
   ],
   "source": [
    "%%time\n",
    "final_model.fit(X_enc, y, \n",
    "    sample_weight=sample_weight\n",
    ")"
   ]
  },
  {
   "cell_type": "code",
   "execution_count": 155,
   "metadata": {
    "execution": {
     "iopub.execute_input": "2023-05-09T18:16:23.455859Z",
     "iopub.status.busy": "2023-05-09T18:16:23.455005Z",
     "iopub.status.idle": "2023-05-09T18:16:24.467852Z",
     "shell.execute_reply": "2023-05-09T18:16:24.466431Z",
     "shell.execute_reply.started": "2023-05-09T18:16:23.455821Z"
    }
   },
   "outputs": [
    {
     "name": "stdout",
     "output_type": "stream",
     "text": [
      "              precision    recall  f1-score   support\n",
      "\n",
      "           0       0.59      0.88      0.70     17828\n",
      "           1       0.74      0.84      0.79     28998\n",
      "           2       0.89      0.68      0.77     53174\n",
      "\n",
      "    accuracy                           0.76    100000\n",
      "   macro avg       0.74      0.80      0.75    100000\n",
      "weighted avg       0.79      0.76      0.76    100000\n",
      "\n"
     ]
    },
    {
     "data": {
      "image/png": "[encoded data removed]",
      "text/plain": [
       "<Figure size 576x396 with 2 Axes>"
      ]
     },
     "metadata": {},
     "output_type": "display_data"
    }
   ],
   "source": [
    "sns.set_style(\"whitegrid\", {'axes.grid' : False})\n",
    "from sklearn.metrics import ConfusionMatrixDisplay\n",
    "\n",
    "y_pred = final_model.predict(X_enc)\n",
    "\n",
    "print(classification_report(y, y_pred))\n",
    "ConfusionMatrixDisplay.from_estimator(final_model, X_enc, y);"
   ]
  },
  {
   "cell_type": "code",
   "execution_count": 156,
   "metadata": {
    "execution": {
     "iopub.execute_input": "2023-05-09T18:16:40.420496Z",
     "iopub.status.busy": "2023-05-09T18:16:40.420019Z",
     "iopub.status.idle": "2023-05-09T18:16:40.428825Z",
     "shell.execute_reply": "2023-05-09T18:16:40.427701Z",
     "shell.execute_reply.started": "2023-05-09T18:16:40.420461Z"
    }
   },
   "outputs": [
    {
     "data": {
      "text/plain": [
       "array([26603, 32737, 40660])"
      ]
     },
     "execution_count": 156,
     "metadata": {},
     "output_type": "execute_result"
    }
   ],
   "source": [
    "np.bincount(y_pred)"
   ]
  },
  {
   "cell_type": "code",
   "execution_count": 168,
   "metadata": {
    "execution": {
     "iopub.execute_input": "2023-05-09T18:24:47.392551Z",
     "iopub.status.busy": "2023-05-09T18:24:47.392108Z",
     "iopub.status.idle": "2023-05-09T18:24:47.407538Z",
     "shell.execute_reply": "2023-05-09T18:24:47.406410Z",
     "shell.execute_reply.started": "2023-05-09T18:24:47.392514Z"
    }
   },
   "outputs": [
    {
     "data": {
      "text/html": [
       "<div>\n",
       "<style scoped>\n",
       "    .dataframe tbody tr th:only-of-type {\n",
       "        vertical-align: middle;\n",
       "    }\n",
       "\n",
       "    .dataframe tbody tr th {\n",
       "        vertical-align: top;\n",
       "    }\n",
       "\n",
       "    .dataframe thead th {\n",
       "        text-align: right;\n",
       "    }\n",
       "</style>\n",
       "<table border=\"1\" class=\"dataframe\">\n",
       "  <thead>\n",
       "    <tr style=\"text-align: right;\">\n",
       "      <th></th>\n",
       "      <th>Total_EMI_per_month</th>\n",
       "      <th>Num_Bank_Accounts</th>\n",
       "      <th>Num_of_Delayed_Payment</th>\n",
       "      <th>Delay_from_due_date</th>\n",
       "      <th>Changed_Credit_Limit</th>\n",
       "      <th>Num_Credit_Card</th>\n",
       "      <th>Outstanding_Debt</th>\n",
       "      <th>Interest_Rate</th>\n",
       "      <th>Credit_Mix</th>\n",
       "    </tr>\n",
       "  </thead>\n",
       "  <tbody>\n",
       "    <tr>\n",
       "      <th>0</th>\n",
       "      <td>49.575</td>\n",
       "      <td>3.000</td>\n",
       "      <td>7.000</td>\n",
       "      <td>3.000</td>\n",
       "      <td>11.270</td>\n",
       "      <td>4.000</td>\n",
       "      <td>809.980</td>\n",
       "      <td>3.000</td>\n",
       "      <td>Good</td>\n",
       "    </tr>\n",
       "    <tr>\n",
       "      <th>1</th>\n",
       "      <td>49.575</td>\n",
       "      <td>3.000</td>\n",
       "      <td>4.000</td>\n",
       "      <td>3.000</td>\n",
       "      <td>11.270</td>\n",
       "      <td>4.000</td>\n",
       "      <td>809.980</td>\n",
       "      <td>3.000</td>\n",
       "      <td>Good</td>\n",
       "    </tr>\n",
       "    <tr>\n",
       "      <th>2</th>\n",
       "      <td>49.575</td>\n",
       "      <td>3.000</td>\n",
       "      <td>7.000</td>\n",
       "      <td>3.000</td>\n",
       "      <td>11.270</td>\n",
       "      <td>4.000</td>\n",
       "      <td>809.980</td>\n",
       "      <td>3.000</td>\n",
       "      <td>Good</td>\n",
       "    </tr>\n",
       "    <tr>\n",
       "      <th>3</th>\n",
       "      <td>49.575</td>\n",
       "      <td>3.000</td>\n",
       "      <td>4.000</td>\n",
       "      <td>5.000</td>\n",
       "      <td>6.270</td>\n",
       "      <td>4.000</td>\n",
       "      <td>809.980</td>\n",
       "      <td>3.000</td>\n",
       "      <td>Good</td>\n",
       "    </tr>\n",
       "    <tr>\n",
       "      <th>4</th>\n",
       "      <td>49.575</td>\n",
       "      <td>3.000</td>\n",
       "      <td>4.000</td>\n",
       "      <td>6.000</td>\n",
       "      <td>11.270</td>\n",
       "      <td>4.000</td>\n",
       "      <td>809.980</td>\n",
       "      <td>3.000</td>\n",
       "      <td>Good</td>\n",
       "    </tr>\n",
       "  </tbody>\n",
       "</table>\n",
       "</div>"
      ],
      "text/plain": [
       "   Total_EMI_per_month  Num_Bank_Accounts  Num_of_Delayed_Payment  \\\n",
       "0               49.575              3.000                   7.000   \n",
       "1               49.575              3.000                   4.000   \n",
       "2               49.575              3.000                   7.000   \n",
       "3               49.575              3.000                   4.000   \n",
       "4               49.575              3.000                   4.000   \n",
       "\n",
       "   Delay_from_due_date  Changed_Credit_Limit  Num_Credit_Card  \\\n",
       "0                3.000                11.270            4.000   \n",
       "1                3.000                11.270            4.000   \n",
       "2                3.000                11.270            4.000   \n",
       "3                5.000                 6.270            4.000   \n",
       "4                6.000                11.270            4.000   \n",
       "\n",
       "   Outstanding_Debt  Interest_Rate Credit_Mix  \n",
       "0           809.980          3.000       Good  \n",
       "1           809.980          3.000       Good  \n",
       "2           809.980          3.000       Good  \n",
       "3           809.980          3.000       Good  \n",
       "4           809.980          3.000       Good  "
      ]
     },
     "execution_count": 168,
     "metadata": {},
     "output_type": "execute_result"
    }
   ],
   "source": [
    "X.head()"
   ]
  },
  {
   "cell_type": "code",
   "execution_count": 170,
   "metadata": {
    "execution": {
     "iopub.execute_input": "2023-05-09T18:25:07.228612Z",
     "iopub.status.busy": "2023-05-09T18:25:07.227193Z",
     "iopub.status.idle": "2023-05-09T18:25:07.290269Z",
     "shell.execute_reply": "2023-05-09T18:25:07.289125Z",
     "shell.execute_reply.started": "2023-05-09T18:25:07.228562Z"
    }
   },
   "outputs": [
    {
     "data": {
      "text/html": [
       "<div>\n",
       "<style scoped>\n",
       "    .dataframe tbody tr th:only-of-type {\n",
       "        vertical-align: middle;\n",
       "    }\n",
       "\n",
       "    .dataframe tbody tr th {\n",
       "        vertical-align: top;\n",
       "    }\n",
       "\n",
       "    .dataframe thead th {\n",
       "        text-align: right;\n",
       "    }\n",
       "</style>\n",
       "<table border=\"1\" class=\"dataframe\">\n",
       "  <thead>\n",
       "    <tr style=\"text-align: right;\">\n",
       "      <th></th>\n",
       "      <th>Total_EMI_per_month</th>\n",
       "      <th>Num_Bank_Accounts</th>\n",
       "      <th>Num_of_Delayed_Payment</th>\n",
       "      <th>Delay_from_due_date</th>\n",
       "      <th>Changed_Credit_Limit</th>\n",
       "      <th>Num_Credit_Card</th>\n",
       "      <th>Outstanding_Debt</th>\n",
       "      <th>Interest_Rate</th>\n",
       "    </tr>\n",
       "  </thead>\n",
       "  <tbody>\n",
       "    <tr>\n",
       "      <th>count</th>\n",
       "      <td>100000.000</td>\n",
       "      <td>100000.000</td>\n",
       "      <td>100000.000</td>\n",
       "      <td>100000.000</td>\n",
       "      <td>100000.000</td>\n",
       "      <td>100000.000</td>\n",
       "      <td>100000.000</td>\n",
       "      <td>100000.000</td>\n",
       "    </tr>\n",
       "    <tr>\n",
       "      <th>mean</th>\n",
       "      <td>107.699</td>\n",
       "      <td>5.369</td>\n",
       "      <td>13.313</td>\n",
       "      <td>21.081</td>\n",
       "      <td>10.470</td>\n",
       "      <td>5.534</td>\n",
       "      <td>1426.220</td>\n",
       "      <td>14.532</td>\n",
       "    </tr>\n",
       "    <tr>\n",
       "      <th>std</th>\n",
       "      <td>132.267</td>\n",
       "      <td>2.593</td>\n",
       "      <td>6.237</td>\n",
       "      <td>14.805</td>\n",
       "      <td>6.609</td>\n",
       "      <td>2.067</td>\n",
       "      <td>1155.129</td>\n",
       "      <td>8.741</td>\n",
       "    </tr>\n",
       "    <tr>\n",
       "      <th>min</th>\n",
       "      <td>0.000</td>\n",
       "      <td>0.000</td>\n",
       "      <td>0.000</td>\n",
       "      <td>0.000</td>\n",
       "      <td>0.500</td>\n",
       "      <td>0.000</td>\n",
       "      <td>0.230</td>\n",
       "      <td>1.000</td>\n",
       "    </tr>\n",
       "    <tr>\n",
       "      <th>25%</th>\n",
       "      <td>29.269</td>\n",
       "      <td>3.000</td>\n",
       "      <td>9.000</td>\n",
       "      <td>10.000</td>\n",
       "      <td>5.380</td>\n",
       "      <td>4.000</td>\n",
       "      <td>566.072</td>\n",
       "      <td>7.000</td>\n",
       "    </tr>\n",
       "    <tr>\n",
       "      <th>50%</th>\n",
       "      <td>66.462</td>\n",
       "      <td>5.000</td>\n",
       "      <td>14.000</td>\n",
       "      <td>18.000</td>\n",
       "      <td>9.400</td>\n",
       "      <td>5.000</td>\n",
       "      <td>1166.155</td>\n",
       "      <td>13.000</td>\n",
       "    </tr>\n",
       "    <tr>\n",
       "      <th>75%</th>\n",
       "      <td>147.393</td>\n",
       "      <td>7.000</td>\n",
       "      <td>18.000</td>\n",
       "      <td>28.000</td>\n",
       "      <td>14.850</td>\n",
       "      <td>7.000</td>\n",
       "      <td>1945.963</td>\n",
       "      <td>20.000</td>\n",
       "    </tr>\n",
       "    <tr>\n",
       "      <th>max</th>\n",
       "      <td>1779.103</td>\n",
       "      <td>11.000</td>\n",
       "      <td>25.000</td>\n",
       "      <td>62.000</td>\n",
       "      <td>29.980</td>\n",
       "      <td>11.000</td>\n",
       "      <td>4998.070</td>\n",
       "      <td>34.000</td>\n",
       "    </tr>\n",
       "  </tbody>\n",
       "</table>\n",
       "</div>"
      ],
      "text/plain": [
       "       Total_EMI_per_month  Num_Bank_Accounts  Num_of_Delayed_Payment  \\\n",
       "count           100000.000         100000.000              100000.000   \n",
       "mean               107.699              5.369                  13.313   \n",
       "std                132.267              2.593                   6.237   \n",
       "min                  0.000              0.000                   0.000   \n",
       "25%                 29.269              3.000                   9.000   \n",
       "50%                 66.462              5.000                  14.000   \n",
       "75%                147.393              7.000                  18.000   \n",
       "max               1779.103             11.000                  25.000   \n",
       "\n",
       "       Delay_from_due_date  Changed_Credit_Limit  Num_Credit_Card  \\\n",
       "count           100000.000            100000.000       100000.000   \n",
       "mean                21.081                10.470            5.534   \n",
       "std                 14.805                 6.609            2.067   \n",
       "min                  0.000                 0.500            0.000   \n",
       "25%                 10.000                 5.380            4.000   \n",
       "50%                 18.000                 9.400            5.000   \n",
       "75%                 28.000                14.850            7.000   \n",
       "max                 62.000                29.980           11.000   \n",
       "\n",
       "       Outstanding_Debt  Interest_Rate  \n",
       "count        100000.000     100000.000  \n",
       "mean           1426.220         14.532  \n",
       "std            1155.129          8.741  \n",
       "min               0.230          1.000  \n",
       "25%             566.072          7.000  \n",
       "50%            1166.155         13.000  \n",
       "75%            1945.963         20.000  \n",
       "max            4998.070         34.000  "
      ]
     },
     "execution_count": 170,
     "metadata": {},
     "output_type": "execute_result"
    }
   ],
   "source": [
    "X.describe()"
   ]
  },
  {
   "cell_type": "code",
   "execution_count": 169,
   "metadata": {
    "execution": {
     "iopub.execute_input": "2023-05-09T18:24:53.084110Z",
     "iopub.status.busy": "2023-05-09T18:24:53.083691Z",
     "iopub.status.idle": "2023-05-09T18:24:53.110964Z",
     "shell.execute_reply": "2023-05-09T18:24:53.109629Z",
     "shell.execute_reply.started": "2023-05-09T18:24:53.084073Z"
    }
   },
   "outputs": [
    {
     "data": {
      "text/html": [
       "<div>\n",
       "<style scoped>\n",
       "    .dataframe tbody tr th:only-of-type {\n",
       "        vertical-align: middle;\n",
       "    }\n",
       "\n",
       "    .dataframe tbody tr th {\n",
       "        vertical-align: top;\n",
       "    }\n",
       "\n",
       "    .dataframe thead th {\n",
       "        text-align: right;\n",
       "    }\n",
       "</style>\n",
       "<table border=\"1\" class=\"dataframe\">\n",
       "  <thead>\n",
       "    <tr style=\"text-align: right;\">\n",
       "      <th></th>\n",
       "      <th>Credit_Mix</th>\n",
       "    </tr>\n",
       "  </thead>\n",
       "  <tbody>\n",
       "    <tr>\n",
       "      <th>count</th>\n",
       "      <td>100000</td>\n",
       "    </tr>\n",
       "    <tr>\n",
       "      <th>unique</th>\n",
       "      <td>3</td>\n",
       "    </tr>\n",
       "    <tr>\n",
       "      <th>top</th>\n",
       "      <td>Standard</td>\n",
       "    </tr>\n",
       "    <tr>\n",
       "      <th>freq</th>\n",
       "      <td>45848</td>\n",
       "    </tr>\n",
       "  </tbody>\n",
       "</table>\n",
       "</div>"
      ],
      "text/plain": [
       "       Credit_Mix\n",
       "count      100000\n",
       "unique          3\n",
       "top      Standard\n",
       "freq        45848"
      ]
     },
     "execution_count": 169,
     "metadata": {},
     "output_type": "execute_result"
    }
   ],
   "source": [
    "X.describe(include='O')"
   ]
  },
  {
   "cell_type": "code",
   "execution_count": 165,
   "metadata": {
    "execution": {
     "iopub.execute_input": "2023-05-09T18:23:52.222338Z",
     "iopub.status.busy": "2023-05-09T18:23:52.221910Z",
     "iopub.status.idle": "2023-05-09T18:23:52.252959Z",
     "shell.execute_reply": "2023-05-09T18:23:52.251769Z",
     "shell.execute_reply.started": "2023-05-09T18:23:52.222306Z"
    }
   },
   "outputs": [
    {
     "data": {
      "text/html": [
       "<div>\n",
       "<style scoped>\n",
       "    .dataframe tbody tr th:only-of-type {\n",
       "        vertical-align: middle;\n",
       "    }\n",
       "\n",
       "    .dataframe tbody tr th {\n",
       "        vertical-align: top;\n",
       "    }\n",
       "\n",
       "    .dataframe thead th {\n",
       "        text-align: right;\n",
       "    }\n",
       "</style>\n",
       "<table border=\"1\" class=\"dataframe\">\n",
       "  <thead>\n",
       "    <tr style=\"text-align: right;\">\n",
       "      <th></th>\n",
       "      <th>Total_EMI_per_month</th>\n",
       "      <th>Num_Bank_Accounts</th>\n",
       "      <th>Num_of_Delayed_Payment</th>\n",
       "      <th>Delay_from_due_date</th>\n",
       "      <th>Changed_Credit_Limit</th>\n",
       "      <th>Num_Credit_Card</th>\n",
       "      <th>Outstanding_Debt</th>\n",
       "      <th>Interest_Rate</th>\n",
       "      <th>Credit_Mix</th>\n",
       "    </tr>\n",
       "  </thead>\n",
       "  <tbody>\n",
       "    <tr>\n",
       "      <th>0</th>\n",
       "      <td>107</td>\n",
       "      <td>5</td>\n",
       "      <td>13</td>\n",
       "      <td>21</td>\n",
       "      <td>10</td>\n",
       "      <td>5</td>\n",
       "      <td>1426</td>\n",
       "      <td>14</td>\n",
       "      <td>2.000</td>\n",
       "    </tr>\n",
       "  </tbody>\n",
       "</table>\n",
       "</div>"
      ],
      "text/plain": [
       "   Total_EMI_per_month  Num_Bank_Accounts  Num_of_Delayed_Payment  \\\n",
       "0                  107                  5                      13   \n",
       "\n",
       "   Delay_from_due_date  Changed_Credit_Limit  Num_Credit_Card  \\\n",
       "0                   21                    10                5   \n",
       "\n",
       "   Outstanding_Debt  Interest_Rate  Credit_Mix  \n",
       "0              1426             14       2.000  "
      ]
     },
     "execution_count": 165,
     "metadata": {},
     "output_type": "execute_result"
    }
   ],
   "source": [
    "mean_human      = pd.concat([X.select_dtypes('number').mean().astype(int).to_frame().T, X.select_dtypes('object').mode()], axis=1)\n",
    "mean_human[cat] = enc.transform(mean_human[cat])\n",
    "mean_human"
   ]
  },
  {
   "cell_type": "code",
   "execution_count": 171,
   "metadata": {
    "execution": {
     "iopub.execute_input": "2023-05-09T18:34:30.613561Z",
     "iopub.status.busy": "2023-05-09T18:34:30.613116Z",
     "iopub.status.idle": "2023-05-09T18:34:30.627530Z",
     "shell.execute_reply": "2023-05-09T18:34:30.626519Z",
     "shell.execute_reply.started": "2023-05-09T18:34:30.613524Z"
    }
   },
   "outputs": [
    {
     "data": {
      "text/plain": [
       "(array([2]), array(['Standard'], dtype=object))"
      ]
     },
     "execution_count": 171,
     "metadata": {},
     "output_type": "execute_result"
    }
   ],
   "source": [
    "predict = final_model.predict(mean_human)\n",
    "predict, le.inverse_transform(predict)"
   ]
  },
  {
   "cell_type": "markdown",
   "metadata": {},
   "source": [
    "## Predict Test Data"
   ]
  },
  {
   "cell_type": "code",
   "execution_count": 172,
   "metadata": {
    "execution": {
     "iopub.execute_input": "2023-05-09T18:34:32.945252Z",
     "iopub.status.busy": "2023-05-09T18:34:32.944368Z",
     "iopub.status.idle": "2023-05-09T18:34:32.973392Z",
     "shell.execute_reply": "2023-05-09T18:34:32.972161Z",
     "shell.execute_reply.started": "2023-05-09T18:34:32.945202Z"
    }
   },
   "outputs": [
    {
     "data": {
      "text/plain": [
       "(50000, 9)"
      ]
     },
     "execution_count": 172,
     "metadata": {},
     "output_type": "execute_result"
    }
   ],
   "source": [
    "X_test_enc      = X_test[df_final.columns[:-1]].copy()\n",
    "X_test_enc[cat] = enc.fit_transform(X_test_enc[cat])\n",
    "\n",
    "X_test_enc.shape"
   ]
  },
  {
   "cell_type": "code",
   "execution_count": 177,
   "metadata": {
    "execution": {
     "iopub.execute_input": "2023-05-09T18:36:08.293458Z",
     "iopub.status.busy": "2023-05-09T18:36:08.293012Z",
     "iopub.status.idle": "2023-05-09T18:36:08.451607Z",
     "shell.execute_reply": "2023-05-09T18:36:08.450482Z",
     "shell.execute_reply.started": "2023-05-09T18:36:08.293422Z"
    }
   },
   "outputs": [
    {
     "data": {
      "text/plain": [
       "0    13739\n",
       "1    16199\n",
       "2    20062\n",
       "dtype: int64"
      ]
     },
     "execution_count": 177,
     "metadata": {},
     "output_type": "execute_result"
    }
   ],
   "source": [
    "y_test_pred = final_model.predict(X_test_enc)\n",
    "pd.value_counts(y_test_pred).sort_index()"
   ]
  },
  {
   "cell_type": "code",
   "execution_count": 178,
   "metadata": {
    "execution": {
     "iopub.execute_input": "2023-05-09T18:36:10.614044Z",
     "iopub.status.busy": "2023-05-09T18:36:10.613149Z",
     "iopub.status.idle": "2023-05-09T18:36:10.621453Z",
     "shell.execute_reply": "2023-05-09T18:36:10.620301Z",
     "shell.execute_reply.started": "2023-05-09T18:36:10.614007Z"
    }
   },
   "outputs": [
    {
     "data": {
      "text/plain": [
       "array([13739, 16199, 20062])"
      ]
     },
     "execution_count": 178,
     "metadata": {},
     "output_type": "execute_result"
    }
   ],
   "source": [
    "np.bincount(y_test_pred)"
   ]
  },
  {
   "cell_type": "markdown",
   "metadata": {},
   "source": [
    "# 06. Prepare Model Deployment"
   ]
  },
  {
   "cell_type": "code",
   "execution_count": 181,
   "metadata": {
    "execution": {
     "iopub.execute_input": "2023-05-09T18:42:49.665254Z",
     "iopub.status.busy": "2023-05-09T18:42:49.664833Z",
     "iopub.status.idle": "2023-05-09T18:42:49.673124Z",
     "shell.execute_reply": "2023-05-09T18:42:49.671943Z",
     "shell.execute_reply.started": "2023-05-09T18:42:49.665221Z"
    }
   },
   "outputs": [],
   "source": [
    "# Save the model for XGBoost\n",
    "filename = 'credit_score_multi_class_xgboost_model.bin'\n",
    "final_model.save_model(filename)"
   ]
  },
  {
   "cell_type": "code",
   "execution_count": 182,
   "metadata": {
    "execution": {
     "iopub.execute_input": "2023-05-09T18:42:51.018602Z",
     "iopub.status.busy": "2023-05-09T18:42:51.018194Z",
     "iopub.status.idle": "2023-05-09T18:42:51.025389Z",
     "shell.execute_reply": "2023-05-09T18:42:51.024104Z",
     "shell.execute_reply.started": "2023-05-09T18:42:51.018571Z"
    }
   },
   "outputs": [],
   "source": [
    "import pickle\n",
    "pickle.dump(enc, open(\"credit_score_multi_class_ord_encoder.pkl\", 'wb'))\n",
    "pickle.dump(le,  open(\"credit_score_multi_class_le.pkl\", 'wb'))"
   ]
  },
  {
   "cell_type": "markdown",
   "metadata": {},
   "source": [
    "## sanity check"
   ]
  },
  {
   "cell_type": "code",
   "execution_count": 187,
   "metadata": {
    "execution": {
     "iopub.execute_input": "2023-05-09T18:44:35.879243Z",
     "iopub.status.busy": "2023-05-09T18:44:35.878766Z",
     "iopub.status.idle": "2023-05-09T18:44:35.890151Z",
     "shell.execute_reply": "2023-05-09T18:44:35.888921Z",
     "shell.execute_reply.started": "2023-05-09T18:44:35.879204Z"
    }
   },
   "outputs": [],
   "source": [
    "# sanity check\n",
    "# Load the model from the file\n",
    "loaded_model = XGBClassifier()\n",
    "loaded_model.load_model(filename)\n",
    "\n",
    "loaded_enc = pickle.load(open(\"credit_score_multi_class_ord_encoder.pkl\", \"rb\")) \n",
    "loaded_le  = pickle.load(open(\"credit_score_multi_class_le.pkl\", \"rb\"))"
   ]
  },
  {
   "cell_type": "code",
   "execution_count": 188,
   "metadata": {
    "execution": {
     "iopub.execute_input": "2023-05-09T18:44:39.367643Z",
     "iopub.status.busy": "2023-05-09T18:44:39.366484Z",
     "iopub.status.idle": "2023-05-09T18:44:39.400047Z",
     "shell.execute_reply": "2023-05-09T18:44:39.399109Z",
     "shell.execute_reply.started": "2023-05-09T18:44:39.367596Z"
    }
   },
   "outputs": [
    {
     "data": {
      "text/plain": [
       "(array([2]), array(['Standard'], dtype=object))"
      ]
     },
     "execution_count": 188,
     "metadata": {},
     "output_type": "execute_result"
    }
   ],
   "source": [
    "mean_human      = pd.concat([X.select_dtypes('number').mean().astype(int).to_frame().T, X.select_dtypes('object').mode()], axis=1)\n",
    "mean_human[cat] = enc.transform(mean_human[cat])\n",
    "predict         = loaded_model.predict(mean_human)\n",
    "\n",
    "predict, loaded_le.inverse_transform(predict)"
   ]
  },
  {
   "cell_type": "code",
   "execution_count": 189,
   "metadata": {
    "execution": {
     "iopub.execute_input": "2023-05-09T18:45:59.442553Z",
     "iopub.status.busy": "2023-05-09T18:45:59.441782Z",
     "iopub.status.idle": "2023-05-09T18:45:59.454609Z",
     "shell.execute_reply": "2023-05-09T18:45:59.453516Z",
     "shell.execute_reply.started": "2023-05-09T18:45:59.442514Z"
    }
   },
   "outputs": [
    {
     "data": {
      "text/html": [
       "Click here to download: <a href='credit_score_multi_class_xgboost_model.bin' target='_blank'>credit_score_multi_class_xgboost_model.bin</a><br>"
      ],
      "text/plain": [
       "/kaggle/working/credit_score_multi_class_xgboost_model.bin"
      ]
     },
     "metadata": {},
     "output_type": "display_data"
    },
    {
     "data": {
      "text/html": [
       "Click here to download: <a href='credit_score_multi_class_ord_encoder.pkl' target='_blank'>credit_score_multi_class_ord_encoder.pkl</a><br>"
      ],
      "text/plain": [
       "/kaggle/working/credit_score_multi_class_ord_encoder.pkl"
      ]
     },
     "metadata": {},
     "output_type": "display_data"
    },
    {
     "data": {
      "text/html": [
       "Click here to download: <a href='credit_score_multi_class_le.pkl' target='_blank'>credit_score_multi_class_le.pkl</a><br>"
      ],
      "text/plain": [
       "/kaggle/working/credit_score_multi_class_le.pkl"
      ]
     },
     "metadata": {},
     "output_type": "display_data"
    }
   ],
   "source": [
    "from IPython.display import FileLink, FileLinks\n",
    "model   = FileLink(filename, result_html_prefix=\"Click here to download: \")\n",
    "ord_enc = FileLink(r'credit_score_multi_class_ord_encoder.pkl', result_html_prefix=\"Click here to download: \")\n",
    "l_enc   = FileLink(r'credit_score_multi_class_le.pkl', result_html_prefix=\"Click here to download: \")\n",
    "\n",
    "display(model, ord_enc, l_enc)"
   ]
  },
  {
   "cell_type": "markdown",
   "metadata": {},
   "source": [
    "# End of the Project"
   ]
  }
 ],
 "metadata": {
  "kernelspec": {
   "display_name": "Python 3 (ipykernel)",
   "language": "python",
   "name": "python3"
  },
  "language_info": {
   "codemirror_mode": {
    "name": "ipython",
    "version": 3
   },
   "file_extension": ".py",
   "mimetype": "text/x-python",
   "name": "python",
   "nbconvert_exporter": "python",
   "pygments_lexer": "ipython3",
   "version": "3.9.7"
  }
 },
 "nbformat": 4,
 "nbformat_minor": 4
}
