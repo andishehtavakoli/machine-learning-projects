{
 "cells": [
  {
   "cell_type": "code",
   "execution_count": 105,
   "id": "0d325376",
   "metadata": {},
   "outputs": [],
   "source": [
    "import numpy as np\n",
    "import pandas as pd\n",
    "import seaborn as sns\n",
    "import matplotlib.pyplot as plt\n",
    "import re\n",
    "\n",
    "import missingno as msno\n",
    "import warnings\n",
    "warnings.filterwarnings('ignore')"
   ]
  },
  {
   "cell_type": "markdown",
   "id": "9ffc18f8",
   "metadata": {},
   "source": [
    "# Read Data"
   ]
  },
  {
   "cell_type": "code",
   "execution_count": 9,
   "id": "ac59675d",
   "metadata": {},
   "outputs": [],
   "source": [
    "DATA_DIR = '/Users/andishetavakkoli/Documents/notebook/github_project/machine-learning-projects-data/credit_score'"
   ]
  },
  {
   "cell_type": "code",
   "execution_count": 10,
   "id": "0d040870",
   "metadata": {},
   "outputs": [],
   "source": [
    "df_train = pd.read_csv(DATA_DIR +'/train.csv')\n",
    "df_test = pd.read_csv(DATA_DIR +'/test.csv')"
   ]
  },
  {
   "cell_type": "code",
   "execution_count": 11,
   "id": "dd2e5887",
   "metadata": {
    "scrolled": true
   },
   "outputs": [
    {
     "data": {
      "text/html": [
       "<div>\n",
       "<style scoped>\n",
       "    .dataframe tbody tr th:only-of-type {\n",
       "        vertical-align: middle;\n",
       "    }\n",
       "\n",
       "    .dataframe tbody tr th {\n",
       "        vertical-align: top;\n",
       "    }\n",
       "\n",
       "    .dataframe thead th {\n",
       "        text-align: right;\n",
       "    }\n",
       "</style>\n",
       "<table border=\"1\" class=\"dataframe\">\n",
       "  <thead>\n",
       "    <tr style=\"text-align: right;\">\n",
       "      <th></th>\n",
       "      <th>ID</th>\n",
       "      <th>Customer_ID</th>\n",
       "      <th>Month</th>\n",
       "      <th>Name</th>\n",
       "      <th>Age</th>\n",
       "      <th>SSN</th>\n",
       "      <th>Occupation</th>\n",
       "      <th>Annual_Income</th>\n",
       "      <th>Monthly_Inhand_Salary</th>\n",
       "      <th>Num_Bank_Accounts</th>\n",
       "      <th>...</th>\n",
       "      <th>Credit_Mix</th>\n",
       "      <th>Outstanding_Debt</th>\n",
       "      <th>Credit_Utilization_Ratio</th>\n",
       "      <th>Credit_History_Age</th>\n",
       "      <th>Payment_of_Min_Amount</th>\n",
       "      <th>Total_EMI_per_month</th>\n",
       "      <th>Amount_invested_monthly</th>\n",
       "      <th>Payment_Behaviour</th>\n",
       "      <th>Monthly_Balance</th>\n",
       "      <th>Credit_Score</th>\n",
       "    </tr>\n",
       "  </thead>\n",
       "  <tbody>\n",
       "    <tr>\n",
       "      <th>0</th>\n",
       "      <td>0x1602</td>\n",
       "      <td>CUS_0xd40</td>\n",
       "      <td>January</td>\n",
       "      <td>Aaron Maashoh</td>\n",
       "      <td>23</td>\n",
       "      <td>821-00-0265</td>\n",
       "      <td>Scientist</td>\n",
       "      <td>19114.12</td>\n",
       "      <td>1824.843333</td>\n",
       "      <td>3</td>\n",
       "      <td>...</td>\n",
       "      <td>_</td>\n",
       "      <td>809.98</td>\n",
       "      <td>26.82262</td>\n",
       "      <td>22 Years and 1 Months</td>\n",
       "      <td>No</td>\n",
       "      <td>49.574949</td>\n",
       "      <td>80.41529543900253</td>\n",
       "      <td>High_spent_Small_value_payments</td>\n",
       "      <td>312.49408867943663</td>\n",
       "      <td>Good</td>\n",
       "    </tr>\n",
       "    <tr>\n",
       "      <th>1</th>\n",
       "      <td>0x1603</td>\n",
       "      <td>CUS_0xd40</td>\n",
       "      <td>February</td>\n",
       "      <td>Aaron Maashoh</td>\n",
       "      <td>23</td>\n",
       "      <td>821-00-0265</td>\n",
       "      <td>Scientist</td>\n",
       "      <td>19114.12</td>\n",
       "      <td>NaN</td>\n",
       "      <td>3</td>\n",
       "      <td>...</td>\n",
       "      <td>Good</td>\n",
       "      <td>809.98</td>\n",
       "      <td>31.94496</td>\n",
       "      <td>NaN</td>\n",
       "      <td>No</td>\n",
       "      <td>49.574949</td>\n",
       "      <td>118.28022162236736</td>\n",
       "      <td>Low_spent_Large_value_payments</td>\n",
       "      <td>284.62916249607184</td>\n",
       "      <td>Good</td>\n",
       "    </tr>\n",
       "  </tbody>\n",
       "</table>\n",
       "<p>2 rows × 28 columns</p>\n",
       "</div>"
      ],
      "text/plain": [
       "       ID Customer_ID     Month           Name Age          SSN Occupation  \\\n",
       "0  0x1602   CUS_0xd40   January  Aaron Maashoh  23  821-00-0265  Scientist   \n",
       "1  0x1603   CUS_0xd40  February  Aaron Maashoh  23  821-00-0265  Scientist   \n",
       "\n",
       "  Annual_Income  Monthly_Inhand_Salary  Num_Bank_Accounts  ...  Credit_Mix  \\\n",
       "0      19114.12            1824.843333                  3  ...           _   \n",
       "1      19114.12                    NaN                  3  ...        Good   \n",
       "\n",
       "   Outstanding_Debt Credit_Utilization_Ratio     Credit_History_Age  \\\n",
       "0            809.98                 26.82262  22 Years and 1 Months   \n",
       "1            809.98                 31.94496                    NaN   \n",
       "\n",
       "   Payment_of_Min_Amount Total_EMI_per_month Amount_invested_monthly  \\\n",
       "0                     No           49.574949       80.41529543900253   \n",
       "1                     No           49.574949      118.28022162236736   \n",
       "\n",
       "                 Payment_Behaviour     Monthly_Balance Credit_Score  \n",
       "0  High_spent_Small_value_payments  312.49408867943663         Good  \n",
       "1   Low_spent_Large_value_payments  284.62916249607184         Good  \n",
       "\n",
       "[2 rows x 28 columns]"
      ]
     },
     "execution_count": 11,
     "metadata": {},
     "output_type": "execute_result"
    }
   ],
   "source": [
    "df_train.head(2)"
   ]
  },
  {
   "cell_type": "markdown",
   "id": "c500b906",
   "metadata": {},
   "source": [
    "# Cncate train and test df"
   ]
  },
  {
   "cell_type": "code",
   "execution_count": 12,
   "id": "8d018dfe",
   "metadata": {},
   "outputs": [
    {
     "data": {
      "text/plain": [
       "(100000, 28)"
      ]
     },
     "execution_count": 12,
     "metadata": {},
     "output_type": "execute_result"
    }
   ],
   "source": [
    "df_train.shape"
   ]
  },
  {
   "cell_type": "code",
   "execution_count": 13,
   "id": "62e9606e",
   "metadata": {},
   "outputs": [
    {
     "data": {
      "text/html": [
       "<div>\n",
       "<style scoped>\n",
       "    .dataframe tbody tr th:only-of-type {\n",
       "        vertical-align: middle;\n",
       "    }\n",
       "\n",
       "    .dataframe tbody tr th {\n",
       "        vertical-align: top;\n",
       "    }\n",
       "\n",
       "    .dataframe thead th {\n",
       "        text-align: right;\n",
       "    }\n",
       "</style>\n",
       "<table border=\"1\" class=\"dataframe\">\n",
       "  <thead>\n",
       "    <tr style=\"text-align: right;\">\n",
       "      <th></th>\n",
       "      <th>ID</th>\n",
       "      <th>Customer_ID</th>\n",
       "      <th>Month</th>\n",
       "      <th>Name</th>\n",
       "      <th>Age</th>\n",
       "      <th>SSN</th>\n",
       "      <th>Occupation</th>\n",
       "      <th>Annual_Income</th>\n",
       "      <th>Num_of_Loan</th>\n",
       "      <th>Type_of_Loan</th>\n",
       "      <th>Num_of_Delayed_Payment</th>\n",
       "      <th>Changed_Credit_Limit</th>\n",
       "      <th>Credit_Mix</th>\n",
       "      <th>Outstanding_Debt</th>\n",
       "      <th>Credit_History_Age</th>\n",
       "      <th>Payment_of_Min_Amount</th>\n",
       "      <th>Amount_invested_monthly</th>\n",
       "      <th>Payment_Behaviour</th>\n",
       "      <th>Monthly_Balance</th>\n",
       "      <th>Credit_Score</th>\n",
       "    </tr>\n",
       "  </thead>\n",
       "  <tbody>\n",
       "    <tr>\n",
       "      <th>count</th>\n",
       "      <td>100000</td>\n",
       "      <td>100000</td>\n",
       "      <td>100000</td>\n",
       "      <td>90015</td>\n",
       "      <td>100000</td>\n",
       "      <td>100000</td>\n",
       "      <td>100000</td>\n",
       "      <td>100000</td>\n",
       "      <td>100000</td>\n",
       "      <td>88592</td>\n",
       "      <td>92998</td>\n",
       "      <td>100000</td>\n",
       "      <td>100000</td>\n",
       "      <td>100000</td>\n",
       "      <td>90970</td>\n",
       "      <td>100000</td>\n",
       "      <td>95521</td>\n",
       "      <td>100000</td>\n",
       "      <td>98800</td>\n",
       "      <td>100000</td>\n",
       "    </tr>\n",
       "    <tr>\n",
       "      <th>unique</th>\n",
       "      <td>100000</td>\n",
       "      <td>12500</td>\n",
       "      <td>8</td>\n",
       "      <td>10139</td>\n",
       "      <td>1788</td>\n",
       "      <td>12501</td>\n",
       "      <td>16</td>\n",
       "      <td>18940</td>\n",
       "      <td>434</td>\n",
       "      <td>6260</td>\n",
       "      <td>749</td>\n",
       "      <td>4384</td>\n",
       "      <td>4</td>\n",
       "      <td>13178</td>\n",
       "      <td>404</td>\n",
       "      <td>3</td>\n",
       "      <td>91049</td>\n",
       "      <td>7</td>\n",
       "      <td>98792</td>\n",
       "      <td>3</td>\n",
       "    </tr>\n",
       "    <tr>\n",
       "      <th>top</th>\n",
       "      <td>0x1602</td>\n",
       "      <td>CUS_0xd40</td>\n",
       "      <td>January</td>\n",
       "      <td>Langep</td>\n",
       "      <td>38</td>\n",
       "      <td>#F%$D@*&amp;8</td>\n",
       "      <td>_______</td>\n",
       "      <td>36585.12</td>\n",
       "      <td>3</td>\n",
       "      <td>Not Specified</td>\n",
       "      <td>19</td>\n",
       "      <td>_</td>\n",
       "      <td>Standard</td>\n",
       "      <td>1360.45</td>\n",
       "      <td>15 Years and 11 Months</td>\n",
       "      <td>Yes</td>\n",
       "      <td>__10000__</td>\n",
       "      <td>Low_spent_Small_value_payments</td>\n",
       "      <td>__-333333333333333333333333333__</td>\n",
       "      <td>Standard</td>\n",
       "    </tr>\n",
       "    <tr>\n",
       "      <th>freq</th>\n",
       "      <td>1</td>\n",
       "      <td>8</td>\n",
       "      <td>12500</td>\n",
       "      <td>44</td>\n",
       "      <td>2833</td>\n",
       "      <td>5572</td>\n",
       "      <td>7062</td>\n",
       "      <td>16</td>\n",
       "      <td>14386</td>\n",
       "      <td>1408</td>\n",
       "      <td>5327</td>\n",
       "      <td>2091</td>\n",
       "      <td>36479</td>\n",
       "      <td>24</td>\n",
       "      <td>446</td>\n",
       "      <td>52326</td>\n",
       "      <td>4305</td>\n",
       "      <td>25513</td>\n",
       "      <td>9</td>\n",
       "      <td>53174</td>\n",
       "    </tr>\n",
       "  </tbody>\n",
       "</table>\n",
       "</div>"
      ],
      "text/plain": [
       "            ID Customer_ID    Month    Name     Age        SSN Occupation  \\\n",
       "count   100000      100000   100000   90015  100000     100000     100000   \n",
       "unique  100000       12500        8   10139    1788      12501         16   \n",
       "top     0x1602   CUS_0xd40  January  Langep      38  #F%$D@*&8    _______   \n",
       "freq         1           8    12500      44    2833       5572       7062   \n",
       "\n",
       "       Annual_Income Num_of_Loan   Type_of_Loan Num_of_Delayed_Payment  \\\n",
       "count         100000      100000          88592                  92998   \n",
       "unique         18940         434           6260                    749   \n",
       "top         36585.12           3  Not Specified                     19   \n",
       "freq              16       14386           1408                   5327   \n",
       "\n",
       "       Changed_Credit_Limit Credit_Mix Outstanding_Debt  \\\n",
       "count                100000     100000           100000   \n",
       "unique                 4384          4            13178   \n",
       "top                       _   Standard          1360.45   \n",
       "freq                   2091      36479               24   \n",
       "\n",
       "            Credit_History_Age Payment_of_Min_Amount Amount_invested_monthly  \\\n",
       "count                    90970                100000                   95521   \n",
       "unique                     404                     3                   91049   \n",
       "top     15 Years and 11 Months                   Yes               __10000__   \n",
       "freq                       446                 52326                    4305   \n",
       "\n",
       "                     Payment_Behaviour                   Monthly_Balance  \\\n",
       "count                           100000                             98800   \n",
       "unique                               7                             98792   \n",
       "top     Low_spent_Small_value_payments  __-333333333333333333333333333__   \n",
       "freq                             25513                                 9   \n",
       "\n",
       "       Credit_Score  \n",
       "count        100000  \n",
       "unique            3  \n",
       "top        Standard  \n",
       "freq          53174  "
      ]
     },
     "execution_count": 13,
     "metadata": {},
     "output_type": "execute_result"
    }
   ],
   "source": [
    "df_train.describe(include='object')"
   ]
  },
  {
   "cell_type": "code",
   "execution_count": 14,
   "id": "df22e4c9",
   "metadata": {},
   "outputs": [
    {
     "data": {
      "text/html": [
       "<div>\n",
       "<style scoped>\n",
       "    .dataframe tbody tr th:only-of-type {\n",
       "        vertical-align: middle;\n",
       "    }\n",
       "\n",
       "    .dataframe tbody tr th {\n",
       "        vertical-align: top;\n",
       "    }\n",
       "\n",
       "    .dataframe thead th {\n",
       "        text-align: right;\n",
       "    }\n",
       "</style>\n",
       "<table border=\"1\" class=\"dataframe\">\n",
       "  <thead>\n",
       "    <tr style=\"text-align: right;\">\n",
       "      <th></th>\n",
       "      <th>Monthly_Inhand_Salary</th>\n",
       "      <th>Num_Bank_Accounts</th>\n",
       "      <th>Num_Credit_Card</th>\n",
       "      <th>Interest_Rate</th>\n",
       "      <th>Delay_from_due_date</th>\n",
       "      <th>Num_Credit_Inquiries</th>\n",
       "      <th>Credit_Utilization_Ratio</th>\n",
       "      <th>Total_EMI_per_month</th>\n",
       "    </tr>\n",
       "  </thead>\n",
       "  <tbody>\n",
       "    <tr>\n",
       "      <th>count</th>\n",
       "      <td>84998.000000</td>\n",
       "      <td>100000.000000</td>\n",
       "      <td>100000.00000</td>\n",
       "      <td>100000.000000</td>\n",
       "      <td>100000.000000</td>\n",
       "      <td>98035.000000</td>\n",
       "      <td>100000.000000</td>\n",
       "      <td>100000.000000</td>\n",
       "    </tr>\n",
       "    <tr>\n",
       "      <th>mean</th>\n",
       "      <td>4194.170850</td>\n",
       "      <td>17.091280</td>\n",
       "      <td>22.47443</td>\n",
       "      <td>72.466040</td>\n",
       "      <td>21.068780</td>\n",
       "      <td>27.754251</td>\n",
       "      <td>32.285173</td>\n",
       "      <td>1403.118217</td>\n",
       "    </tr>\n",
       "    <tr>\n",
       "      <th>std</th>\n",
       "      <td>3183.686167</td>\n",
       "      <td>117.404834</td>\n",
       "      <td>129.05741</td>\n",
       "      <td>466.422621</td>\n",
       "      <td>14.860104</td>\n",
       "      <td>193.177339</td>\n",
       "      <td>5.116875</td>\n",
       "      <td>8306.041270</td>\n",
       "    </tr>\n",
       "    <tr>\n",
       "      <th>min</th>\n",
       "      <td>303.645417</td>\n",
       "      <td>-1.000000</td>\n",
       "      <td>0.00000</td>\n",
       "      <td>1.000000</td>\n",
       "      <td>-5.000000</td>\n",
       "      <td>0.000000</td>\n",
       "      <td>20.000000</td>\n",
       "      <td>0.000000</td>\n",
       "    </tr>\n",
       "    <tr>\n",
       "      <th>25%</th>\n",
       "      <td>1625.568229</td>\n",
       "      <td>3.000000</td>\n",
       "      <td>4.00000</td>\n",
       "      <td>8.000000</td>\n",
       "      <td>10.000000</td>\n",
       "      <td>3.000000</td>\n",
       "      <td>28.052567</td>\n",
       "      <td>30.306660</td>\n",
       "    </tr>\n",
       "    <tr>\n",
       "      <th>50%</th>\n",
       "      <td>3093.745000</td>\n",
       "      <td>6.000000</td>\n",
       "      <td>5.00000</td>\n",
       "      <td>13.000000</td>\n",
       "      <td>18.000000</td>\n",
       "      <td>6.000000</td>\n",
       "      <td>32.305784</td>\n",
       "      <td>69.249473</td>\n",
       "    </tr>\n",
       "    <tr>\n",
       "      <th>75%</th>\n",
       "      <td>5957.448333</td>\n",
       "      <td>7.000000</td>\n",
       "      <td>7.00000</td>\n",
       "      <td>20.000000</td>\n",
       "      <td>28.000000</td>\n",
       "      <td>9.000000</td>\n",
       "      <td>36.496663</td>\n",
       "      <td>161.224249</td>\n",
       "    </tr>\n",
       "    <tr>\n",
       "      <th>max</th>\n",
       "      <td>15204.633333</td>\n",
       "      <td>1798.000000</td>\n",
       "      <td>1499.00000</td>\n",
       "      <td>5797.000000</td>\n",
       "      <td>67.000000</td>\n",
       "      <td>2597.000000</td>\n",
       "      <td>50.000000</td>\n",
       "      <td>82331.000000</td>\n",
       "    </tr>\n",
       "  </tbody>\n",
       "</table>\n",
       "</div>"
      ],
      "text/plain": [
       "       Monthly_Inhand_Salary  Num_Bank_Accounts  Num_Credit_Card  \\\n",
       "count           84998.000000      100000.000000     100000.00000   \n",
       "mean             4194.170850          17.091280         22.47443   \n",
       "std              3183.686167         117.404834        129.05741   \n",
       "min               303.645417          -1.000000          0.00000   \n",
       "25%              1625.568229           3.000000          4.00000   \n",
       "50%              3093.745000           6.000000          5.00000   \n",
       "75%              5957.448333           7.000000          7.00000   \n",
       "max             15204.633333        1798.000000       1499.00000   \n",
       "\n",
       "       Interest_Rate  Delay_from_due_date  Num_Credit_Inquiries  \\\n",
       "count  100000.000000        100000.000000          98035.000000   \n",
       "mean       72.466040            21.068780             27.754251   \n",
       "std       466.422621            14.860104            193.177339   \n",
       "min         1.000000            -5.000000              0.000000   \n",
       "25%         8.000000            10.000000              3.000000   \n",
       "50%        13.000000            18.000000              6.000000   \n",
       "75%        20.000000            28.000000              9.000000   \n",
       "max      5797.000000            67.000000           2597.000000   \n",
       "\n",
       "       Credit_Utilization_Ratio  Total_EMI_per_month  \n",
       "count             100000.000000        100000.000000  \n",
       "mean                  32.285173          1403.118217  \n",
       "std                    5.116875          8306.041270  \n",
       "min                   20.000000             0.000000  \n",
       "25%                   28.052567            30.306660  \n",
       "50%                   32.305784            69.249473  \n",
       "75%                   36.496663           161.224249  \n",
       "max                   50.000000         82331.000000  "
      ]
     },
     "execution_count": 14,
     "metadata": {},
     "output_type": "execute_result"
    }
   ],
   "source": [
    "df_train.describe()"
   ]
  },
  {
   "cell_type": "code",
   "execution_count": 159,
   "id": "c22ceecb",
   "metadata": {},
   "outputs": [],
   "source": [
    "df = pd.concat([df_train, df_test], ignore_index=True)"
   ]
  },
  {
   "cell_type": "code",
   "execution_count": 23,
   "id": "c85ad3c7",
   "metadata": {},
   "outputs": [
    {
     "data": {
      "text/plain": [
       "<AxesSubplot:>"
      ]
     },
     "execution_count": 23,
     "metadata": {},
     "output_type": "execute_result"
    },
    {
     "data": {
      "image/png": "[encoded data removed]",
      "text/plain": [
       "<Figure size 1800x720 with 2 Axes>"
      ]
     },
     "metadata": {
      "needs_background": "light"
     },
     "output_type": "display_data"
    }
   ],
   "source": [
    "msno.matrix(df)"
   ]
  },
  {
   "cell_type": "code",
   "execution_count": 21,
   "id": "d44c7b76",
   "metadata": {},
   "outputs": [
    {
     "name": "stdout",
     "output_type": "stream",
     "text": [
      "column name: ID\n",
      "0x1602     1\n",
      "0x162e     1\n",
      "0x25fea    1\n",
      "0x25feb    1\n",
      "0x25fec    1\n",
      "          ..\n",
      "0x13afa    1\n",
      "0x13afb    1\n",
      "0x13afc    1\n",
      "0x13afd    1\n",
      "0x25ff1    1\n",
      "Name: ID, Length: 150000, dtype: int64\n",
      "**************************************************\n",
      "column name: Customer_ID\n",
      "CUS_0xd40     12\n",
      "CUS_0x9bf4    12\n",
      "CUS_0x5ae3    12\n",
      "CUS_0xbe9a    12\n",
      "CUS_0x4874    12\n",
      "              ..\n",
      "CUS_0x2eb4    12\n",
      "CUS_0x7863    12\n",
      "CUS_0x9d89    12\n",
      "CUS_0xc045    12\n",
      "CUS_0x942c    12\n",
      "Name: Customer_ID, Length: 12500, dtype: int64\n",
      "**************************************************\n",
      "column name: Month\n",
      "January      12500\n",
      "February     12500\n",
      "March        12500\n",
      "April        12500\n",
      "May          12500\n",
      "June         12500\n",
      "July         12500\n",
      "August       12500\n",
      "September    12500\n",
      "October      12500\n",
      "November     12500\n",
      "December     12500\n",
      "Name: Month, dtype: int64\n",
      "**************************************************\n",
      "column name: Name\n",
      "NaN                    15000\n",
      "Stevex                    66\n",
      "Langep                    65\n",
      "Jessicad                  59\n",
      "Raymondr                  58\n",
      "                       ...  \n",
      "Carrick Mollenkampe        7\n",
      "Giuseppeh                  7\n",
      "Drivera                    7\n",
      "Emi Emotor                 7\n",
      "Timothyl                   6\n",
      "Name: Name, Length: 10140, dtype: int64\n",
      "**************************************************\n",
      "column name: Age\n",
      "39      4198\n",
      "32      4189\n",
      "28      4173\n",
      "26      4140\n",
      "35      4130\n",
      "        ... \n",
      "4655       1\n",
      "529        1\n",
      "8386       1\n",
      "5924       1\n",
      "5826       1\n",
      "Name: Age, Length: 2524, dtype: int64\n",
      "**************************************************\n",
      "column name: SSN\n",
      "#F%$D@*&8      8400\n",
      "078-73-5990      12\n",
      "047-16-1543      12\n",
      "255-39-8777      12\n",
      "159-51-7992      12\n",
      "               ... \n",
      "414-76-9835       7\n",
      "695-71-7676       7\n",
      "803-44-6289       7\n",
      "074-52-8105       7\n",
      "642-73-7670       6\n",
      "Name: SSN, Length: 12501, dtype: int64\n",
      "**************************************************\n",
      "column name: Occupation\n",
      "_______          10500\n",
      "Lawyer            9899\n",
      "Engineer          9562\n",
      "Architect         9550\n",
      "Mechanic          9459\n",
      "Accountant        9404\n",
      "Scientist         9403\n",
      "Developer         9381\n",
      "Media_Manager     9362\n",
      "Teacher           9318\n",
      "Entrepreneur      9277\n",
      "Journalist        9122\n",
      "Doctor            9114\n",
      "Manager           8973\n",
      "Musician          8858\n",
      "Writer            8818\n",
      "Name: Occupation, dtype: int64\n",
      "**************************************************\n",
      "column name: Annual_Income\n",
      "36585.12      24\n",
      "20867.67      23\n",
      "17816.75      23\n",
      "95596.35      23\n",
      "9141.63       23\n",
      "              ..\n",
      "90370.96_      1\n",
      "63528.7_       1\n",
      "19470804.0     1\n",
      "8092590.0      1\n",
      "22620.79_      1\n",
      "Name: Annual_Income, Length: 21192, dtype: int64\n",
      "**************************************************\n",
      "column name: Monthly_Inhand_Salary\n",
      "NaN             22500\n",
      "2295.058333        22\n",
      "6082.187500        22\n",
      "6358.956667        21\n",
      "3080.555000        21\n",
      "                ...  \n",
      "4305.385250         1\n",
      "2028.727911         1\n",
      "3065.776667         1\n",
      "2486.532500         1\n",
      "10699.849855        1\n",
      "Name: Monthly_Inhand_Salary, Length: 13684, dtype: int64\n",
      "**************************************************\n",
      "column name: Num_Bank_Accounts\n",
      "6       19505\n",
      "7       19231\n",
      "8       19152\n",
      "4       18286\n",
      "5       18186\n",
      "        ...  \n",
      "1731        1\n",
      "84          1\n",
      "1458        1\n",
      "1448        1\n",
      "278         1\n",
      "Name: Num_Bank_Accounts, Length: 1183, dtype: int64\n",
      "**************************************************\n",
      "column name: Num_Credit_Card\n",
      "5       27669\n",
      "7       24886\n",
      "6       24802\n",
      "4       21102\n",
      "3       19816\n",
      "        ...  \n",
      "960         1\n",
      "1331        1\n",
      "1224        1\n",
      "850         1\n",
      "1209        1\n",
      "Name: Num_Credit_Card, Length: 1344, dtype: int64\n",
      "**************************************************\n",
      "column name: Interest_Rate\n",
      "8       7515\n",
      "5       7479\n",
      "6       7089\n",
      "12      6828\n",
      "10      6799\n",
      "        ... \n",
      "4985       1\n",
      "2781       1\n",
      "608        1\n",
      "4817       1\n",
      "4252       1\n",
      "Name: Interest_Rate, Length: 2394, dtype: int64\n",
      "**************************************************\n",
      "column name: Num_of_Loan\n",
      "3        21500\n",
      "2        21423\n",
      "4        20998\n",
      "0        15543\n",
      "1        15112\n",
      "         ...  \n",
      "291          1\n",
      "365          1\n",
      "1014         1\n",
      "1129_        1\n",
      "1296_        1\n",
      "Name: Num_of_Loan, Length: 623, dtype: int64\n",
      "**************************************************\n",
      "column name: Type_of_Loan\n",
      "NaN                                                                                                                                   17112\n",
      "Not Specified                                                                                                                          2112\n",
      "Credit-Builder Loan                                                                                                                    1920\n",
      "Personal Loan                                                                                                                          1908\n",
      "Debt Consolidation Loan                                                                                                                1896\n",
      "                                                                                                                                      ...  \n",
      "Not Specified, Mortgage Loan, Auto Loan, and Payday Loan                                                                                 12\n",
      "Payday Loan, Mortgage Loan, Debt Consolidation Loan, and Student Loan                                                                    12\n",
      "Debt Consolidation Loan, Auto Loan, Personal Loan, Debt Consolidation Loan, Student Loan, and Credit-Builder Loan                        12\n",
      "Student Loan, Auto Loan, Student Loan, Credit-Builder Loan, Home Equity Loan, Debt Consolidation Loan, and Debt Consolidation Loan       12\n",
      "Personal Loan, Auto Loan, Mortgage Loan, Student Loan, and Student Loan                                                                  12\n",
      "Name: Type_of_Loan, Length: 6261, dtype: int64\n",
      "**************************************************\n",
      "column name: Delay_from_due_date\n",
      " 15    5355\n",
      " 13    5185\n",
      " 8     5004\n",
      " 14    4949\n",
      " 10    4926\n",
      "       ... \n",
      " 63      90\n",
      " 65      86\n",
      "-5       51\n",
      " 66      44\n",
      " 67      29\n",
      "Name: Delay_from_due_date, Length: 73, dtype: int64\n",
      "**************************************************\n",
      "column name: Num_of_Delayed_Payment\n",
      "NaN     10500\n",
      "19       7949\n",
      "17       7806\n",
      "16       7721\n",
      "15       7671\n",
      "        ...  \n",
      "2728        1\n",
      "1952        1\n",
      "3580        1\n",
      "4251        1\n",
      "2034        1\n",
      "Name: Num_of_Delayed_Payment, Length: 1059, dtype: int64\n",
      "**************************************************\n",
      "column name: Changed_Credit_Limit\n",
      "_        3150\n",
      "11.5      197\n",
      "11.32     189\n",
      "8.22      189\n",
      "7.35      181\n",
      "         ... \n",
      "34.57       1\n",
      "31.94       1\n",
      "34.46       1\n",
      "23.32       1\n",
      "29.17       1\n",
      "Name: Changed_Credit_Limit, Length: 4605, dtype: int64\n",
      "**************************************************\n",
      "column name: Num_Credit_Inquiries\n",
      "4.0       15673\n",
      "6.0       12486\n",
      "3.0       12356\n",
      "7.0       12353\n",
      "8.0       11788\n",
      "          ...  \n",
      "1243.0        1\n",
      "540.0         1\n",
      "2150.0        1\n",
      "1324.0        1\n",
      "352.0         1\n",
      "Name: Num_Credit_Inquiries, Length: 1608, dtype: int64\n",
      "**************************************************\n",
      "column name: Credit_Mix\n",
      "Standard    54858\n",
      "Good        36597\n",
      "_           30000\n",
      "Bad         28545\n",
      "Name: Credit_Mix, dtype: int64\n",
      "**************************************************\n",
      "column name: Outstanding_Debt\n",
      "1360.45     36\n",
      "1151.7      35\n",
      "460.46      35\n",
      "1109.03     35\n",
      "3628.5      24\n",
      "            ..\n",
      "1639.82_     1\n",
      "1340.52_     1\n",
      "647.15_      1\n",
      "1959.49_     1\n",
      "732.11_      1\n",
      "Name: Outstanding_Debt, Length: 13622, dtype: int64\n",
      "**************************************************\n",
      "column name: Credit_Utilization_Ratio\n",
      "26.822620    1\n",
      "39.377219    1\n",
      "40.565631    1\n",
      "41.255522    1\n",
      "33.638208    1\n",
      "            ..\n",
      "26.650258    1\n",
      "23.864244    1\n",
      "29.638130    1\n",
      "31.875399    1\n",
      "34.108530    1\n",
      "Name: Credit_Utilization_Ratio, Length: 150000, dtype: int64\n",
      "**************************************************\n",
      "column name: Credit_History_Age\n",
      "NaN                       13500\n",
      "17 Years and 11 Months      628\n",
      "18 Years and 4 Months       621\n",
      "18 Years and 3 Months       617\n",
      "19 Years and 9 Months       615\n",
      "                          ...  \n",
      "0 Years and 3 Months         20\n",
      "0 Years and 2 Months         15\n",
      "33 Years and 11 Months       15\n",
      "34 Years and 0 Months        14\n",
      "0 Years and 1 Months          2\n",
      "Name: Credit_History_Age, Length: 409, dtype: int64\n",
      "**************************************************\n",
      "column name: Payment_of_Min_Amount\n",
      "Yes    78484\n",
      "No     53516\n",
      "NM     18000\n",
      "Name: Payment_of_Min_Amount, dtype: int64\n",
      "**************************************************\n",
      "column name: Total_EMI_per_month\n",
      "0.000000        15615\n",
      "49.574949          12\n",
      "16.528703          12\n",
      "64.443403          12\n",
      "331.719510         12\n",
      "                ...  \n",
      "10404.000000        1\n",
      "15457.000000        1\n",
      "59578.000000        1\n",
      "43183.000000        1\n",
      "33013.000000        1\n",
      "Name: Total_EMI_per_month, Length: 16960, dtype: int64\n",
      "**************************************************\n",
      "column name: Amount_invested_monthly\n",
      "NaN                   6750\n",
      "__10000__             6480\n",
      "0.0                    275\n",
      "80.41529543900253        1\n",
      "16.53218878920387        1\n",
      "                      ... \n",
      "209.17274569312266       1\n",
      "333.0148085469461        1\n",
      "274.68712877851107       1\n",
      "220.58121173366908       1\n",
      "220.45787812168732       1\n",
      "Name: Amount_invested_monthly, Length: 136498, dtype: int64\n",
      "**************************************************\n",
      "column name: Payment_Behaviour\n"
     ]
    },
    {
     "name": "stdout",
     "output_type": "stream",
     "text": [
      "Low_spent_Small_value_payments      38207\n",
      "High_spent_Medium_value_payments    26462\n",
      "Low_spent_Medium_value_payments     20698\n",
      "High_spent_Large_value_payments     20565\n",
      "High_spent_Small_value_payments     16991\n",
      "Low_spent_Large_value_payments      15677\n",
      "!@9#%8                              11400\n",
      "Name: Payment_Behaviour, dtype: int64\n",
      "**************************************************\n",
      "column name: Monthly_Balance\n",
      "NaN                                 1762\n",
      "__-333333333333333333333333333__      15\n",
      "600.1125089726384                      1\n",
      "120.54247208897846                     1\n",
      "784.0174708573453                      1\n",
      "                                    ... \n",
      "279.9825060023594                      1\n",
      "260.67157274114965                     1\n",
      "250.4915113003876                      1\n",
      "243.8753153006728                      1\n",
      "360.37968260123847                     1\n",
      "Name: Monthly_Balance, Length: 148225, dtype: int64\n",
      "**************************************************\n",
      "column name: Credit_Score\n",
      "Standard    53174\n",
      "NaN         50000\n",
      "Poor        28998\n",
      "Good        17828\n",
      "Name: Credit_Score, dtype: int64\n",
      "**************************************************\n"
     ]
    }
   ],
   "source": [
    "for col in df.columns:\n",
    "    print(f'column name: {col}')\n",
    "    print(df[col].value_counts(dropna=False))\n",
    "    print('*'* 50)"
   ]
  },
  {
   "cell_type": "markdown",
   "id": "743406e0",
   "metadata": {},
   "source": [
    "# Correct Data Type"
   ]
  },
  {
   "cell_type": "code",
   "execution_count": 27,
   "id": "2ed6e1b6",
   "metadata": {},
   "outputs": [
    {
     "data": {
      "text/plain": [
       "['ID',\n",
       " 'Customer_ID',\n",
       " 'Month',\n",
       " 'Name',\n",
       " 'Age',\n",
       " 'SSN',\n",
       " 'Occupation',\n",
       " 'Annual_Income',\n",
       " 'Num_of_Loan',\n",
       " 'Type_of_Loan',\n",
       " 'Num_of_Delayed_Payment',\n",
       " 'Changed_Credit_Limit',\n",
       " 'Credit_Mix',\n",
       " 'Outstanding_Debt',\n",
       " 'Credit_History_Age',\n",
       " 'Payment_of_Min_Amount',\n",
       " 'Amount_invested_monthly',\n",
       " 'Payment_Behaviour',\n",
       " 'Monthly_Balance',\n",
       " 'Credit_Score']"
      ]
     },
     "execution_count": 27,
     "metadata": {},
     "output_type": "execute_result"
    }
   ],
   "source": [
    "df.select_dtypes(include='object').columns.to_list()"
   ]
  },
  {
   "cell_type": "markdown",
   "id": "9786136c",
   "metadata": {},
   "source": [
    "### Month"
   ]
  },
  {
   "cell_type": "code",
   "execution_count": 114,
   "id": "65cc52fb",
   "metadata": {},
   "outputs": [],
   "source": [
    "df['Month'] = pd.to_datetime(df['Month'], format='%B').dt.month"
   ]
  },
  {
   "cell_type": "code",
   "execution_count": 115,
   "id": "f606301f",
   "metadata": {},
   "outputs": [],
   "source": [
    "# for item in df['Customer_ID']:\n",
    "#     if len(item)< 5:\n",
    "#         print(item)"
   ]
  },
  {
   "cell_type": "markdown",
   "id": "f9eadc70",
   "metadata": {},
   "source": [
    "### Name"
   ]
  },
  {
   "cell_type": "code",
   "execution_count": 116,
   "id": "debf423c",
   "metadata": {},
   "outputs": [],
   "source": [
    "df['Name'] = df['Name'].fillna('Unknown')"
   ]
  },
  {
   "cell_type": "markdown",
   "id": "8a8b499e",
   "metadata": {},
   "source": [
    "### Age"
   ]
  },
  {
   "cell_type": "code",
   "execution_count": 117,
   "id": "098bf918",
   "metadata": {},
   "outputs": [],
   "source": [
    "df['Age'] = df['Age'].str.replace('_', '').replace('-', '').replace(\"-\", \"\")"
   ]
  },
  {
   "cell_type": "code",
   "execution_count": 118,
   "id": "9ee58223",
   "metadata": {},
   "outputs": [],
   "source": [
    "df['Age'].replace('-500', np.nan, inplace=True)"
   ]
  },
  {
   "cell_type": "code",
   "execution_count": 119,
   "id": "6b1b4265",
   "metadata": {},
   "outputs": [],
   "source": [
    "df['Age'] = df['Age'].astype('float')"
   ]
  },
  {
   "cell_type": "code",
   "execution_count": 121,
   "id": "2b3fbab3",
   "metadata": {},
   "outputs": [],
   "source": [
    "# [item for item in df['Age'] if not item.isdigit()]"
   ]
  },
  {
   "cell_type": "markdown",
   "id": "fc45e1ee",
   "metadata": {},
   "source": [
    "### SSN"
   ]
  },
  {
   "cell_type": "code",
   "execution_count": 129,
   "id": "b156c9a7",
   "metadata": {},
   "outputs": [],
   "source": [
    "df['SSN'] = df['SSN'].replace('#F%$D@*&8', 'unknown')"
   ]
  },
  {
   "cell_type": "code",
   "execution_count": 134,
   "id": "b4df0fb3",
   "metadata": {},
   "outputs": [],
   "source": [
    "for item in df['SSN']:\n",
    "    \n",
    "    if isinstance(item, str):\n",
    "    \n",
    "        if re.findall(r'\\b\\d{3}-\\d{2}-\\d{4}\\b', item) == False:\n",
    "            print(item)\n",
    "    "
   ]
  },
  {
   "cell_type": "markdown",
   "id": "7286b420",
   "metadata": {},
   "source": [
    "### Occupation"
   ]
  },
  {
   "cell_type": "code",
   "execution_count": 135,
   "id": "42755ab2",
   "metadata": {},
   "outputs": [],
   "source": [
    "df['Occupation'] = df['Occupation'].replace('_______', np.nan)"
   ]
  },
  {
   "cell_type": "markdown",
   "id": "0e429e60",
   "metadata": {},
   "source": [
    "### Annual_Income"
   ]
  },
  {
   "cell_type": "code",
   "execution_count": 139,
   "id": "17f286b5",
   "metadata": {},
   "outputs": [],
   "source": [
    "df['Annual_Income'] = df['Annual_Income'].str.replace('_', '')"
   ]
  },
  {
   "cell_type": "code",
   "execution_count": 145,
   "id": "7d54537b",
   "metadata": {},
   "outputs": [],
   "source": [
    "df['Annual_Income'] = df['Annual_Income'].astype('float')"
   ]
  },
  {
   "cell_type": "markdown",
   "id": "0bd68a52",
   "metadata": {},
   "source": [
    "### Num_of_Loan"
   ]
  },
  {
   "cell_type": "code",
   "execution_count": 143,
   "id": "08fb81b5",
   "metadata": {},
   "outputs": [],
   "source": [
    "df['Num_of_Loan'] = df['Num_of_Loan'].str.replace('_', '')"
   ]
  },
  {
   "cell_type": "code",
   "execution_count": 146,
   "id": "19b87e0b",
   "metadata": {},
   "outputs": [],
   "source": [
    "df['Num_of_Loan'] = df['Num_of_Loan'].astype('int')"
   ]
  },
  {
   "cell_type": "code",
   "execution_count": 147,
   "id": "e87766d5",
   "metadata": {},
   "outputs": [
    {
     "data": {
      "text/plain": [
       "3       22618\n",
       "2       22547\n",
       "4       22111\n",
       "0       16376\n",
       "1       15901\n",
       "        ...  \n",
       "1085        1\n",
       "742         1\n",
       "291         1\n",
       "365         1\n",
       "1442        1\n",
       "Name: Num_of_Loan, Length: 600, dtype: int64"
      ]
     },
     "execution_count": 147,
     "metadata": {},
     "output_type": "execute_result"
    }
   ],
   "source": [
    "df['Num_of_Loan'].value_counts(dropna=False)"
   ]
  },
  {
   "cell_type": "markdown",
   "id": "dd42adac",
   "metadata": {},
   "source": [
    "###  Type of Loan"
   ]
  },
  {
   "cell_type": "code",
   "execution_count": 150,
   "id": "435fd55a",
   "metadata": {},
   "outputs": [],
   "source": [
    "df['Type_of_Loan'] = df['Type_of_Loan'].astype('category')"
   ]
  },
  {
   "cell_type": "markdown",
   "id": "17da4f55",
   "metadata": {},
   "source": [
    "### Num of Delayed Payment"
   ]
  },
  {
   "cell_type": "code",
   "execution_count": 161,
   "id": "b087382b",
   "metadata": {},
   "outputs": [],
   "source": [
    "df['Num_of_Delayed_Payment'] = df['Num_of_Delayed_Payment'].str.replace('_', '')\n",
    "df['Num_of_Delayed_Payment'] = df['Num_of_Delayed_Payment'].astype('float')"
   ]
  },
  {
   "cell_type": "markdown",
   "id": "c4db519f",
   "metadata": {},
   "source": [
    "### Changed Credit Limit"
   ]
  },
  {
   "cell_type": "code",
   "execution_count": 163,
   "id": "1a6c4ff3",
   "metadata": {},
   "outputs": [],
   "source": [
    "df['Changed_Credit_Limit'].replace('_', np.nan, inplace=True)\n",
    "df['Changed_Credit_Limit'] = df['Changed_Credit_Limit'].astype('float')"
   ]
  },
  {
   "cell_type": "markdown",
   "id": "9618d9c6",
   "metadata": {},
   "source": [
    "### Credit Mix"
   ]
  },
  {
   "cell_type": "code",
   "execution_count": 164,
   "id": "0fc0b74f",
   "metadata": {},
   "outputs": [],
   "source": [
    "df['Credit_Mix'] = df['Credit_Mix'].str.replace('_', 'unknown')\n",
    "df['Credit_Mix'] = df['Credit_Mix'].astype('category')"
   ]
  },
  {
   "cell_type": "markdown",
   "id": "24b97394",
   "metadata": {},
   "source": [
    "### Outstanding Debt"
   ]
  },
  {
   "cell_type": "code",
   "execution_count": 166,
   "id": "7d6ec6b3",
   "metadata": {},
   "outputs": [],
   "source": [
    "df['Outstanding_Debt'] = df['Outstanding_Debt'].str.replace('_', '')\n",
    "df['Outstanding_Debt'] = df['Outstanding_Debt'].astype('float')"
   ]
  },
  {
   "cell_type": "markdown",
   "id": "8fe2b381",
   "metadata": {},
   "source": [
    "### Credit History Age"
   ]
  },
  {
   "cell_type": "code",
   "execution_count": 167,
   "id": "d543d28e",
   "metadata": {},
   "outputs": [],
   "source": [
    "df['Credit_History_Age'] = df['Credit_History_Age'].astype('category')"
   ]
  },
  {
   "cell_type": "code",
   "execution_count": 187,
   "id": "035f0600",
   "metadata": {},
   "outputs": [],
   "source": [
    "def split_year_month(date, is_month=None):\n",
    "    date = date.replace('Years', '').replace('Months', '')\n",
    "    date_list = date.split('and')\n",
    "    \n",
    "    if is_month:\n",
    "        return int(date_list[1].strip())\n",
    "    \n",
    "    return int(date_list[0].strip())\n",
    "    "
   ]
  },
  {
   "cell_type": "code",
   "execution_count": 190,
   "id": "607b5cf1",
   "metadata": {},
   "outputs": [],
   "source": [
    "df['Credit_History_Age_Month'] = df['Credit_History_Age'].apply(lambda x: split_year_month(x, is_month=True))"
   ]
  },
  {
   "cell_type": "code",
   "execution_count": 192,
   "id": "46bea62c",
   "metadata": {},
   "outputs": [],
   "source": [
    "df['Credit_History_Age_Year'] = df['Credit_History_Age'].apply(lambda x: split_year_month(x))"
   ]
  },
  {
   "cell_type": "markdown",
   "id": "ad44221a",
   "metadata": {},
   "source": [
    "### Payment of Min Amount"
   ]
  },
  {
   "cell_type": "code",
   "execution_count": 194,
   "id": "c108d6ec",
   "metadata": {},
   "outputs": [],
   "source": [
    "df['Payment_of_Min_Amount'] = df['Payment_of_Min_Amount'].astype('category')"
   ]
  },
  {
   "cell_type": "markdown",
   "id": "f28608a4",
   "metadata": {},
   "source": [
    "### Amount invested monthly"
   ]
  },
  {
   "cell_type": "code",
   "execution_count": 199,
   "id": "7e2b7594",
   "metadata": {},
   "outputs": [],
   "source": [
    "df['Amount_invested_monthly'] = df['Amount_invested_monthly'].replace('__10000__', '10000')\n",
    "df['Amount_invested_monthly'] = df['Amount_invested_monthly'].astype('float')"
   ]
  },
  {
   "cell_type": "markdown",
   "id": "d75c8efc",
   "metadata": {},
   "source": [
    "### Payment Behaviour"
   ]
  },
  {
   "cell_type": "code",
   "execution_count": null,
   "id": "bea1421d",
   "metadata": {},
   "outputs": [],
   "source": [
    "df['Payment_Behaviour'] = df['Payment_Behaviour'].str.replace('!@9#%8', np.nan)\n"
   ]
  }
 ],
 "metadata": {
  "kernelspec": {
   "display_name": "Python 3 (ipykernel)",
   "language": "python",
   "name": "python3"
  },
  "language_info": {
   "codemirror_mode": {
    "name": "ipython",
    "version": 3
   },
   "file_extension": ".py",
   "mimetype": "text/x-python",
   "name": "python",
   "nbconvert_exporter": "python",
   "pygments_lexer": "ipython3",
   "version": "3.9.7"
  }
 },
 "nbformat": 4,
 "nbformat_minor": 5
}
