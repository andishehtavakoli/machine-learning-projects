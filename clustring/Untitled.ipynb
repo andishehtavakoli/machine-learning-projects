{
 "cells": [
  {
   "cell_type": "markdown",
   "id": "9f9d1360",
   "metadata": {},
   "source": [
    "# Topic 7. Unsupervised learning: PCA and clustering"
   ]
  },
  {
   "cell_type": "code",
   "execution_count": 1,
   "id": "b6b2b6db",
   "metadata": {},
   "outputs": [],
   "source": [
    "import numpy as np"
   ]
  },
  {
   "cell_type": "code",
   "execution_count": 3,
   "id": "397b2e6b",
   "metadata": {},
   "outputs": [],
   "source": [
    "s = np.array([[3, 5, 6, 7], [8, 1, 9, 4], [5, 7, 3, 0]])"
   ]
  },
  {
   "cell_type": "code",
   "execution_count": 4,
   "id": "f1ba41c2",
   "metadata": {},
   "outputs": [
    {
     "data": {
      "text/plain": [
       "array([[3, 5, 6, 7],\n",
       "       [8, 1, 9, 4],\n",
       "       [5, 7, 3, 0]])"
      ]
     },
     "execution_count": 4,
     "metadata": {},
     "output_type": "execute_result"
    }
   ],
   "source": [
    "s"
   ]
  },
  {
   "cell_type": "code",
   "execution_count": 5,
   "id": "8925d81a",
   "metadata": {},
   "outputs": [
    {
     "data": {
      "text/plain": [
       "array([3, 5, 6, 7, 8, 1, 9, 4, 5, 7, 3, 0])"
      ]
     },
     "execution_count": 5,
     "metadata": {},
     "output_type": "execute_result"
    }
   ],
   "source": [
    "np.ravel(s)"
   ]
  },
  {
   "cell_type": "code",
   "execution_count": 7,
   "id": "ba9eff03",
   "metadata": {},
   "outputs": [
    {
     "data": {
      "text/plain": [
       "array([[3, 5, 6, 7, 8, 1, 9, 4, 5, 7, 3, 0]])"
      ]
     },
     "execution_count": 7,
     "metadata": {},
     "output_type": "execute_result"
    }
   ],
   "source": [
    "s.reshape(1, -1)"
   ]
  },
  {
   "cell_type": "code",
   "execution_count": null,
   "id": "e541467c",
   "metadata": {},
   "outputs": [],
   "source": []
  },
  {
   "cell_type": "code",
   "execution_count": null,
   "id": "3625cd0f",
   "metadata": {},
   "outputs": [],
   "source": []
  },
  {
   "cell_type": "code",
   "execution_count": null,
   "id": "a5ad329f",
   "metadata": {},
   "outputs": [],
   "source": []
  }
 ],
 "metadata": {
  "kernelspec": {
   "display_name": "Python 3 (ipykernel)",
   "language": "python",
   "name": "python3"
  },
  "language_info": {
   "codemirror_mode": {
    "name": "ipython",
    "version": 3
   },
   "file_extension": ".py",
   "mimetype": "text/x-python",
   "name": "python",
   "nbconvert_exporter": "python",
   "pygments_lexer": "ipython3",
   "version": "3.8.16"
  }
 },
 "nbformat": 4,
 "nbformat_minor": 5
}
